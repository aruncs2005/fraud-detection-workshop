{
 "cells": [
  {
   "cell_type": "markdown",
   "metadata": {},
   "source": [
    "# Ingesting data into Amazon SageMaker FeatureStore\n",
    "\n",
    "Kernel `Python 3 (Data Science)` works well with this notebook.\n",
    "\n",
    "The following policies need to be attached to the execution role:\n",
    "- AmazonSageMakerFullAccess\n",
    "- AmazonS3FullAccess\n",
    "\n",
    "## Contents\n",
    "1. [Background](#Background)\n",
    "1. [Setup SageMaker FeatureStore](#Setup-SageMaker-FeatureStore)\n",
    "1. [Inspect Dataset](#Inspect-Dataset)\n",
    "1. [Ingest Data into FeatureStore](#Ingest-Data-into-FeatureStore)\n",
    "\n",
    "## Background\n",
    "\n",
    "Amazon SageMaker FeatureStore is a new SageMaker capability that makes it easy for customers to create and manage curated data for machine learning (ML) development. SageMaker FeatureStore enables data ingestion via a high TPS API and data consumption via the online and offline stores. \n",
    "\n",
    "This notebook provides an example for the APIs provided by SageMaker FeatureStore by walking through the process of training a fraud detection model. The notebook demonstrates how the dataset's tables can be ingested into the FeatureStore, queried to create a training dataset, and quickly accessed during inference. \n",
    "\n",
    "\n",
    "### Terminology\n",
    "\n",
    "A **FeatureGroup** is the main resource that contains the metadata for all the data stored in SageMaker FeatureStore. A FeatureGroup contains a list of FeatureDefinitions. A **FeatureDefinition** consists of a name and one of the following data types: a integral, string or decimal. The FeatureGroup also contains an **OnlineStoreConfig** and an **OfflineStoreConfig** controlling where the data is stored. Enabling the online store allows quick access to the latest value for a Record via the GetRecord API. The offline store, a required configuration, allows storage of historical data in your S3 bucket. \n",
    "\n",
    "Once a FeatureGroup is created, data can be added as Records. **Records** can be thought of as a row in a table. Each record will have a unique **RecordIdentifier** along with values for all other FeatureDefinitions in the FeatureGroup. "
   ]
  },
  {
   "cell_type": "markdown",
   "metadata": {},
   "source": [
    "## Setup SageMaker FeatureStore\n",
    "\n",
    "Let's start by setting up the SageMaker Python SDK and boto client."
   ]
  },
  {
   "cell_type": "code",
   "execution_count": 2,
   "metadata": {},
   "outputs": [],
   "source": [
    "import boto3\n",
    "import sagemaker\n",
    "from sagemaker.session import Session\n",
    "\n",
    "\n",
    "region = boto3.Session().region_name\n",
    "\n",
    "boto_session = boto3.Session(region_name=region)\n",
    "\n",
    "sagemaker_client = boto_session.client(service_name='sagemaker', region_name=region)\n",
    "featurestore_runtime = boto_session.client(service_name='sagemaker-featurestore-runtime', region_name=region)\n",
    "\n",
    "feature_store_session = Session(\n",
    "    boto_session=boto_session,\n",
    "    sagemaker_client=sagemaker_client,\n",
    "    sagemaker_featurestore_runtime_client=featurestore_runtime\n",
    ")"
   ]
  },
  {
   "cell_type": "markdown",
   "metadata": {},
   "source": [
    "#### S3 Bucket Setup For The OfflineStore\n",
    "\n",
    "SageMaker FeatureStore writes the data in the OfflineStore of a FeatureGroup to a S3 bucket owned by you. To be able to write to your S3 bucket, SageMaker FeatureStore assumes an IAM role which has access to it. The role is also owned by you.\n",
    "Note that the same bucket can be re-used across FeatureGroups. Data in the bucket is partitioned by FeatureGroup."
   ]
  },
  {
   "cell_type": "markdown",
   "metadata": {},
   "source": [
    "Set the default s3 bucket name and it will be referenced throughout the notebook."
   ]
  },
  {
   "cell_type": "code",
   "execution_count": 3,
   "metadata": {},
   "outputs": [
    {
     "name": "stdout",
     "output_type": "stream",
     "text": [
      "sagemaker-us-east-1-155134682088\n"
     ]
    }
   ],
   "source": [
    "# You can modify the following to use a bucket of your choosing\n",
    "default_s3_bucket_name = feature_store_session.default_bucket()\n",
    "prefix = 'sagemaker-featurestore-demo'\n",
    "\n",
    "print(default_s3_bucket_name)"
   ]
  },
  {
   "cell_type": "code",
   "execution_count": 4,
   "metadata": {},
   "outputs": [
    {
     "name": "stdout",
     "output_type": "stream",
     "text": [
      "arn:aws:iam::155134682088:role/mod-6297809195fe4845-SageMakerExecutionRole-SWJFFCZXAUG9\n"
     ]
    }
   ],
   "source": [
    "from sagemaker import get_execution_role\n",
    "\n",
    "# You can modify the following to use a role of your choosing. See the documentation for how to create this.\n",
    "role = get_execution_role()\n",
    "print (role)"
   ]
  },
  {
   "cell_type": "markdown",
   "metadata": {},
   "source": [
    "## Load data\n",
    "\n",
    "we will be using the data we stored in s3 during the previous notebook"
   ]
  },
  {
   "cell_type": "code",
   "execution_count": 5,
   "metadata": {},
   "outputs": [
    {
     "data": {
      "text/html": [
       "<div>\n",
       "<style scoped>\n",
       "    .dataframe tbody tr th:only-of-type {\n",
       "        vertical-align: middle;\n",
       "    }\n",
       "\n",
       "    .dataframe tbody tr th {\n",
       "        vertical-align: top;\n",
       "    }\n",
       "\n",
       "    .dataframe thead th {\n",
       "        text-align: right;\n",
       "    }\n",
       "</style>\n",
       "<table border=\"1\" class=\"dataframe\">\n",
       "  <thead>\n",
       "    <tr style=\"text-align: right;\">\n",
       "      <th></th>\n",
       "      <th>time</th>\n",
       "      <th>v1</th>\n",
       "      <th>v2</th>\n",
       "      <th>v3</th>\n",
       "      <th>v4</th>\n",
       "      <th>v5</th>\n",
       "      <th>v6</th>\n",
       "      <th>v7</th>\n",
       "      <th>v8</th>\n",
       "      <th>v9</th>\n",
       "      <th>...</th>\n",
       "      <th>v23</th>\n",
       "      <th>v24</th>\n",
       "      <th>v25</th>\n",
       "      <th>v26</th>\n",
       "      <th>v27</th>\n",
       "      <th>v28</th>\n",
       "      <th>amount</th>\n",
       "      <th>class</th>\n",
       "      <th>event_time</th>\n",
       "      <th>record_id</th>\n",
       "    </tr>\n",
       "  </thead>\n",
       "  <tbody>\n",
       "    <tr>\n",
       "      <th>0</th>\n",
       "      <td>157163.0</td>\n",
       "      <td>-0.181461</td>\n",
       "      <td>0.769439</td>\n",
       "      <td>2.228124</td>\n",
       "      <td>0.966996</td>\n",
       "      <td>-0.208874</td>\n",
       "      <td>0.190263</td>\n",
       "      <td>0.418665</td>\n",
       "      <td>-0.188676</td>\n",
       "      <td>-0.125505</td>\n",
       "      <td>...</td>\n",
       "      <td>-0.221410</td>\n",
       "      <td>-0.072678</td>\n",
       "      <td>-0.010541</td>\n",
       "      <td>-0.073326</td>\n",
       "      <td>-0.014187</td>\n",
       "      <td>-0.124904</td>\n",
       "      <td>19.99</td>\n",
       "      <td>0</td>\n",
       "      <td>2021-11-26 01:51:30.180052</td>\n",
       "      <td>255315</td>\n",
       "    </tr>\n",
       "    <tr>\n",
       "      <th>1</th>\n",
       "      <td>52321.0</td>\n",
       "      <td>0.068662</td>\n",
       "      <td>1.241962</td>\n",
       "      <td>-0.581812</td>\n",
       "      <td>0.235143</td>\n",
       "      <td>0.512704</td>\n",
       "      <td>-0.102508</td>\n",
       "      <td>-0.633509</td>\n",
       "      <td>-2.660118</td>\n",
       "      <td>-0.834111</td>\n",
       "      <td>...</td>\n",
       "      <td>-0.159685</td>\n",
       "      <td>-0.640054</td>\n",
       "      <td>0.693996</td>\n",
       "      <td>0.387699</td>\n",
       "      <td>0.060388</td>\n",
       "      <td>0.268200</td>\n",
       "      <td>0.76</td>\n",
       "      <td>0</td>\n",
       "      <td>2021-11-26 01:51:30.180052</td>\n",
       "      <td>67001</td>\n",
       "    </tr>\n",
       "    <tr>\n",
       "      <th>2</th>\n",
       "      <td>120318.0</td>\n",
       "      <td>2.031919</td>\n",
       "      <td>0.542767</td>\n",
       "      <td>-2.466979</td>\n",
       "      <td>1.248276</td>\n",
       "      <td>1.349961</td>\n",
       "      <td>-0.369090</td>\n",
       "      <td>0.599271</td>\n",
       "      <td>-0.197595</td>\n",
       "      <td>-0.212889</td>\n",
       "      <td>...</td>\n",
       "      <td>-0.061175</td>\n",
       "      <td>0.116552</td>\n",
       "      <td>0.537155</td>\n",
       "      <td>-0.513808</td>\n",
       "      <td>0.000423</td>\n",
       "      <td>-0.036472</td>\n",
       "      <td>1.00</td>\n",
       "      <td>0</td>\n",
       "      <td>2021-11-26 01:51:30.180052</td>\n",
       "      <td>170711</td>\n",
       "    </tr>\n",
       "    <tr>\n",
       "      <th>3</th>\n",
       "      <td>61694.0</td>\n",
       "      <td>-1.118980</td>\n",
       "      <td>-0.014418</td>\n",
       "      <td>1.003283</td>\n",
       "      <td>-1.388318</td>\n",
       "      <td>-0.564135</td>\n",
       "      <td>2.021013</td>\n",
       "      <td>0.974314</td>\n",
       "      <td>0.170433</td>\n",
       "      <td>0.685202</td>\n",
       "      <td>...</td>\n",
       "      <td>-0.316999</td>\n",
       "      <td>-1.614632</td>\n",
       "      <td>0.040428</td>\n",
       "      <td>0.876230</td>\n",
       "      <td>-0.262145</td>\n",
       "      <td>-0.022115</td>\n",
       "      <td>271.14</td>\n",
       "      <td>0</td>\n",
       "      <td>2021-11-26 01:51:30.180052</td>\n",
       "      <td>87463</td>\n",
       "    </tr>\n",
       "    <tr>\n",
       "      <th>4</th>\n",
       "      <td>144182.0</td>\n",
       "      <td>2.055312</td>\n",
       "      <td>-0.144976</td>\n",
       "      <td>-2.201962</td>\n",
       "      <td>-0.496593</td>\n",
       "      <td>0.008900</td>\n",
       "      <td>-2.564801</td>\n",
       "      <td>0.994471</td>\n",
       "      <td>-0.760230</td>\n",
       "      <td>0.378784</td>\n",
       "      <td>...</td>\n",
       "      <td>-0.089321</td>\n",
       "      <td>0.999290</td>\n",
       "      <td>0.469236</td>\n",
       "      <td>1.017879</td>\n",
       "      <td>-0.153530</td>\n",
       "      <td>-0.087704</td>\n",
       "      <td>37.50</td>\n",
       "      <td>0</td>\n",
       "      <td>2021-11-26 01:51:30.180052</td>\n",
       "      <td>225271</td>\n",
       "    </tr>\n",
       "  </tbody>\n",
       "</table>\n",
       "<p>5 rows × 33 columns</p>\n",
       "</div>"
      ],
      "text/plain": [
       "       time        v1        v2        v3        v4        v5        v6  \\\n",
       "0  157163.0 -0.181461  0.769439  2.228124  0.966996 -0.208874  0.190263   \n",
       "1   52321.0  0.068662  1.241962 -0.581812  0.235143  0.512704 -0.102508   \n",
       "2  120318.0  2.031919  0.542767 -2.466979  1.248276  1.349961 -0.369090   \n",
       "3   61694.0 -1.118980 -0.014418  1.003283 -1.388318 -0.564135  2.021013   \n",
       "4  144182.0  2.055312 -0.144976 -2.201962 -0.496593  0.008900 -2.564801   \n",
       "\n",
       "         v7        v8        v9  ...       v23       v24       v25       v26  \\\n",
       "0  0.418665 -0.188676 -0.125505  ... -0.221410 -0.072678 -0.010541 -0.073326   \n",
       "1 -0.633509 -2.660118 -0.834111  ... -0.159685 -0.640054  0.693996  0.387699   \n",
       "2  0.599271 -0.197595 -0.212889  ... -0.061175  0.116552  0.537155 -0.513808   \n",
       "3  0.974314  0.170433  0.685202  ... -0.316999 -1.614632  0.040428  0.876230   \n",
       "4  0.994471 -0.760230  0.378784  ... -0.089321  0.999290  0.469236  1.017879   \n",
       "\n",
       "        v27       v28  amount  class                  event_time  record_id  \n",
       "0 -0.014187 -0.124904   19.99      0  2021-11-26 01:51:30.180052     255315  \n",
       "1  0.060388  0.268200    0.76      0  2021-11-26 01:51:30.180052      67001  \n",
       "2  0.000423 -0.036472    1.00      0  2021-11-26 01:51:30.180052     170711  \n",
       "3 -0.262145 -0.022115  271.14      0  2021-11-26 01:51:30.180052      87463  \n",
       "4 -0.153530 -0.087704   37.50      0  2021-11-26 01:51:30.180052     225271  \n",
       "\n",
       "[5 rows x 33 columns]"
      ]
     },
     "execution_count": 5,
     "metadata": {},
     "output_type": "execute_result"
    }
   ],
   "source": [
    "import numpy as np \n",
    "import pandas as pd\n",
    "import matplotlib.pyplot as plt\n",
    "import io\n",
    "\n",
    "s3_client = boto3.client('s3', region_name=region)\n",
    "\n",
    "fraud_detection_bucket_name = default_s3_bucket_name\n",
    "data_file_key = 'data/fraud-detection/credit-dataset.csv'\n",
    "\n",
    "data_object = s3_client.get_object(Bucket=fraud_detection_bucket_name, Key=data_file_key)\n",
    "\n",
    "transaction_data = pd.read_csv(io.BytesIO(data_object['Body'].read()))\n",
    "\n",
    "transaction_data.head()\n"
   ]
  },
  {
   "cell_type": "markdown",
   "metadata": {},
   "source": [
    "## Ingest Data into FeatureStore\n",
    "\n",
    "In this step we will create the FeatureGroups representing the transaction and identity tables.\n",
    "\n",
    "on a high level these are the steps to create a feature store.\n",
    "\n",
    "* Create a feature group\n",
    "* Create a feature group defnition (schema) and associate it to feature group\n",
    "* Ingest data into the feauture group\n"
   ]
  },
  {
   "cell_type": "code",
   "execution_count": 6,
   "metadata": {},
   "outputs": [],
   "source": [
    "from time import gmtime, strftime, sleep\n",
    "\n",
    "fd_feature_group_name = 'transactionfeaturegroup0012'\n"
   ]
  },
  {
   "cell_type": "code",
   "execution_count": 7,
   "metadata": {},
   "outputs": [],
   "source": [
    "from sagemaker.feature_store.feature_group import FeatureGroup\n",
    "\n",
    "fd_feature_group = FeatureGroup(name=fd_feature_group_name, sagemaker_session=feature_store_session)"
   ]
  },
  {
   "cell_type": "code",
   "execution_count": 8,
   "metadata": {},
   "outputs": [],
   "source": [
    "import time\n",
    "\n",
    "current_time_sec = int(round(time.time()))\n",
    "\n",
    "def cast_object_to_string(data_frame):\n",
    "    for label in data_frame.columns:\n",
    "        if data_frame.dtypes[label] == 'object':\n",
    "            data_frame[label] = data_frame[label].astype(\"str\").astype(\"string\")\n",
    "\n",
    "# cast object dtype to string. The SageMaker FeatureStore Python SDK will then map the string dtype to String feature type.\n",
    "cast_object_to_string(transaction_data)\n",
    "\n",
    "# record identifier and event time feature names\n",
    "record_identifier_feature_name = \"record_id\"\n",
    "event_time_feature_name = \"event_time\"\n",
    "\n",
    "# append EventTime feature\n",
    "transaction_data[event_time_feature_name] = pd.Series([current_time_sec]*len(transaction_data), dtype=\"float64\")\n",
    "\n",
    "# load feature definitions to the feature group. SageMaker FeatureStore Python SDK will auto-detect the data schema based on input data.\n",
    "fd_feature_group.load_feature_definitions(data_frame=transaction_data); # output is suppressed\n"
   ]
  },
  {
   "cell_type": "markdown",
   "metadata": {},
   "source": [
    "#### Create FeatureGroups in SageMaker FeatureStore"
   ]
  },
  {
   "cell_type": "code",
   "execution_count": 9,
   "metadata": {},
   "outputs": [
    {
     "name": "stdout",
     "output_type": "stream",
     "text": [
      "Waiting for Feature Group Creation\n",
      "Waiting for Feature Group Creation\n",
      "Waiting for Feature Group Creation\n",
      "Waiting for Feature Group Creation\n",
      "FeatureGroup transactionfeaturegroup0012 successfully created.\n"
     ]
    }
   ],
   "source": [
    "def wait_for_feature_group_creation_complete(feature_group):\n",
    "    status = feature_group.describe().get(\"FeatureGroupStatus\")\n",
    "    while status == \"Creating\":\n",
    "        print(\"Waiting for Feature Group Creation\")\n",
    "        time.sleep(5)\n",
    "        status = feature_group.describe().get(\"FeatureGroupStatus\")\n",
    "    if status != \"Created\":\n",
    "        raise RuntimeError(f\"Failed to create feature group {feature_group.name}\")\n",
    "    print(f\"FeatureGroup {feature_group.name} successfully created.\")\n",
    "\n",
    "fd_feature_group.create(\n",
    "    s3_uri=f\"s3://{default_s3_bucket_name}/{prefix}\",\n",
    "    record_identifier_name=record_identifier_feature_name,\n",
    "    event_time_feature_name=event_time_feature_name,\n",
    "    role_arn=role,\n",
    "    enable_online_store=True,\n",
    "  \n",
    ")\n",
    "\n",
    "wait_for_feature_group_creation_complete(feature_group=fd_feature_group)\n"
   ]
  },
  {
   "cell_type": "code",
   "execution_count": 10,
   "metadata": {},
   "outputs": [
    {
     "data": {
      "text/plain": [
       "{'FeatureGroupArn': 'arn:aws:sagemaker:us-east-1:155134682088:feature-group/transactionfeaturegroup0012',\n",
       " 'FeatureGroupName': 'transactionfeaturegroup0012',\n",
       " 'RecordIdentifierFeatureName': 'record_id',\n",
       " 'EventTimeFeatureName': 'event_time',\n",
       " 'FeatureDefinitions': [{'FeatureName': 'time', 'FeatureType': 'Fractional'},\n",
       "  {'FeatureName': 'v1', 'FeatureType': 'Fractional'},\n",
       "  {'FeatureName': 'v2', 'FeatureType': 'Fractional'},\n",
       "  {'FeatureName': 'v3', 'FeatureType': 'Fractional'},\n",
       "  {'FeatureName': 'v4', 'FeatureType': 'Fractional'},\n",
       "  {'FeatureName': 'v5', 'FeatureType': 'Fractional'},\n",
       "  {'FeatureName': 'v6', 'FeatureType': 'Fractional'},\n",
       "  {'FeatureName': 'v7', 'FeatureType': 'Fractional'},\n",
       "  {'FeatureName': 'v8', 'FeatureType': 'Fractional'},\n",
       "  {'FeatureName': 'v9', 'FeatureType': 'Fractional'},\n",
       "  {'FeatureName': 'v10', 'FeatureType': 'Fractional'},\n",
       "  {'FeatureName': 'v11', 'FeatureType': 'Fractional'},\n",
       "  {'FeatureName': 'v12', 'FeatureType': 'Fractional'},\n",
       "  {'FeatureName': 'v13', 'FeatureType': 'Fractional'},\n",
       "  {'FeatureName': 'v14', 'FeatureType': 'Fractional'},\n",
       "  {'FeatureName': 'v15', 'FeatureType': 'Fractional'},\n",
       "  {'FeatureName': 'v16', 'FeatureType': 'Fractional'},\n",
       "  {'FeatureName': 'v17', 'FeatureType': 'Fractional'},\n",
       "  {'FeatureName': 'v18', 'FeatureType': 'Fractional'},\n",
       "  {'FeatureName': 'v19', 'FeatureType': 'Fractional'},\n",
       "  {'FeatureName': 'v20', 'FeatureType': 'Fractional'},\n",
       "  {'FeatureName': 'v21', 'FeatureType': 'Fractional'},\n",
       "  {'FeatureName': 'v22', 'FeatureType': 'Fractional'},\n",
       "  {'FeatureName': 'v23', 'FeatureType': 'Fractional'},\n",
       "  {'FeatureName': 'v24', 'FeatureType': 'Fractional'},\n",
       "  {'FeatureName': 'v25', 'FeatureType': 'Fractional'},\n",
       "  {'FeatureName': 'v26', 'FeatureType': 'Fractional'},\n",
       "  {'FeatureName': 'v27', 'FeatureType': 'Fractional'},\n",
       "  {'FeatureName': 'v28', 'FeatureType': 'Fractional'},\n",
       "  {'FeatureName': 'amount', 'FeatureType': 'Fractional'},\n",
       "  {'FeatureName': 'class', 'FeatureType': 'Integral'},\n",
       "  {'FeatureName': 'event_time', 'FeatureType': 'Fractional'},\n",
       "  {'FeatureName': 'record_id', 'FeatureType': 'Integral'}],\n",
       " 'CreationTime': datetime.datetime(2021, 11, 26, 2, 2, 1, 568000, tzinfo=tzlocal()),\n",
       " 'OnlineStoreConfig': {'EnableOnlineStore': True},\n",
       " 'OfflineStoreConfig': {'S3StorageConfig': {'S3Uri': 's3://sagemaker-us-east-1-155134682088/sagemaker-featurestore-demo',\n",
       "   'ResolvedOutputS3Uri': 's3://sagemaker-us-east-1-155134682088/sagemaker-featurestore-demo/155134682088/sagemaker/us-east-1/offline-store/transactionfeaturegroup0012-1637892121/data'},\n",
       "  'DisableGlueTableCreation': False,\n",
       "  'DataCatalogConfig': {'TableName': 'transactionfeaturegroup0012-1637892121',\n",
       "   'Catalog': 'AwsDataCatalog',\n",
       "   'Database': 'sagemaker_featurestore'}},\n",
       " 'RoleArn': 'arn:aws:iam::155134682088:role/mod-6297809195fe4845-SageMakerExecutionRole-SWJFFCZXAUG9',\n",
       " 'FeatureGroupStatus': 'Created',\n",
       " 'ResponseMetadata': {'RequestId': '7c98989c-378a-4bd1-bdf9-b147c2412a5d',\n",
       "  'HTTPStatusCode': 200,\n",
       "  'HTTPHeaders': {'x-amzn-requestid': '7c98989c-378a-4bd1-bdf9-b147c2412a5d',\n",
       "   'content-type': 'application/x-amz-json-1.1',\n",
       "   'content-length': '2983',\n",
       "   'date': 'Fri, 26 Nov 2021 02:02:22 GMT'},\n",
       "  'RetryAttempts': 0}}"
      ]
     },
     "execution_count": 10,
     "metadata": {},
     "output_type": "execute_result"
    }
   ],
   "source": [
    "fd_feature_group.describe()"
   ]
  },
  {
   "cell_type": "markdown",
   "metadata": {},
   "source": [
    "#### PutRecords into FeatureGroup\n",
    "\n",
    "After the FeatureGroups have been created, we can put data into the FeatureGroups by using the PutRecord API. This API can handle high TPS and is designed to be called by different streams. The data from all of these Put requests is buffered and written to S3 in chunks. The files will be written to the offline store within a few minutes of ingestion. For this example, to accelerate the ingestion process, we are specifying multiple workers to do the job simultaneously. It will take ~5min to ingest data to the FeatureGroup, respectively."
   ]
  },
  {
   "cell_type": "code",
   "execution_count": null,
   "metadata": {
    "scrolled": true
   },
   "outputs": [],
   "source": [
    "fd_feature_group.ingest(\n",
    "    data_frame=transaction_data, max_workers=3, wait=False\n",
    ")"
   ]
  },
  {
   "cell_type": "markdown",
   "metadata": {},
   "source": [
    "To confirm that data has been ingested, we can quickly retrieve a record from the online store:"
   ]
  },
  {
   "cell_type": "code",
   "execution_count": null,
   "metadata": {},
   "outputs": [],
   "source": [
    "record_identifier_value = str(100)\n",
    "\n",
    "featurestore_runtime.get_record(FeatureGroupName=fd_feature_group_name, RecordIdentifierValueAsString=record_identifier_value)"
   ]
  },
  {
   "cell_type": "code",
   "execution_count": 30,
   "metadata": {},
   "outputs": [
    {
     "name": "stdout",
     "output_type": "stream",
     "text": [
      "Stored 'fd_feature_group_name' (str)\n"
     ]
    }
   ],
   "source": [
    "%store fd_feature_group_name"
   ]
  },
  {
   "cell_type": "code",
   "execution_count": null,
   "metadata": {},
   "outputs": [],
   "source": []
  }
 ],
 "metadata": {
  "instance_type": "ml.t3.medium",
  "kernelspec": {
   "display_name": "Python 3 (Data Science)",
   "language": "python",
   "name": "python3__SAGEMAKER_INTERNAL__arn:aws:sagemaker:us-east-1:081325390199:image/datascience-1.0"
  },
  "language_info": {
   "codemirror_mode": {
    "name": "ipython",
    "version": 3
   },
   "file_extension": ".py",
   "mimetype": "text/x-python",
   "name": "python",
   "nbconvert_exporter": "python",
   "pygments_lexer": "ipython3",
   "version": "3.7.10"
  }
 },
 "nbformat": 4,
 "nbformat_minor": 4
}
