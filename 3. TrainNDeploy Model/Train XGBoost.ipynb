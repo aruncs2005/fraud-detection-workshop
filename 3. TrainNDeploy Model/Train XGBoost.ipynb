{
 "cells": [
  {
   "cell_type": "markdown",
   "metadata": {},
   "source": [
    "## Train an Supervised XGBoost model using the data stored in feature store"
   ]
  },
  {
   "cell_type": "code",
   "execution_count": 17,
   "metadata": {},
   "outputs": [],
   "source": [
    "import boto3\n",
    "import sagemaker\n",
    "from sagemaker.session import Session\n",
    "\n",
    "\n",
    "region = boto3.Session().region_name\n",
    "\n",
    "boto_session = boto3.Session(region_name=region)\n",
    "\n",
    "sagemaker_client = boto_session.client(service_name='sagemaker', region_name=region)\n",
    "featurestore_runtime = boto_session.client(service_name='sagemaker-featurestore-runtime', region_name=region)\n",
    "\n",
    "feature_store_session = Session(\n",
    "    boto_session=boto_session,\n",
    "    sagemaker_client=sagemaker_client,\n",
    "    sagemaker_featurestore_runtime_client=featurestore_runtime\n",
    ")"
   ]
  },
  {
   "cell_type": "markdown",
   "metadata": {},
   "source": [
    "#### we will use the feature group created during feature store lab"
   ]
  },
  {
   "cell_type": "code",
   "execution_count": 18,
   "metadata": {},
   "outputs": [],
   "source": [
    "from sagemaker.feature_store.feature_group import FeatureGroup\n",
    "\n",
    "fd_feature_group_name = 'transactionfeaturegroup001'\n",
    "\n",
    "fd_feature_group = FeatureGroup(name=fd_feature_group_name, sagemaker_session=feature_store_session)"
   ]
  },
  {
   "cell_type": "markdown",
   "metadata": {},
   "source": [
    "## Build Training Dataset\n",
    "\n",
    "SageMaker FeatureStore automatically builds the Glue Data Catalog for FeatureGroups (you can optionally turn it on/off while creating the FeatureGroup). In this example, we want to create one training dataset with FeatureValues from both identity and transaction FeatureGroups. This is done by utilizing the auto-built Catalog. We run an Athena query that joins the data stored in the offline store in S3 from the 2 FeatureGroups. "
   ]
  },
  {
   "cell_type": "code",
   "execution_count": 19,
   "metadata": {},
   "outputs": [
    {
     "name": "stdout",
     "output_type": "stream",
     "text": [
      "sagemaker-ap-southeast-1-365792799466\n"
     ]
    }
   ],
   "source": [
    "# You can modify the following to use a bucket of your choosing\n",
    "default_s3_bucket_name = feature_store_session.default_bucket()\n",
    "prefix = 'sagemaker-featurestore-demo'\n",
    "\n",
    "print(default_s3_bucket_name)"
   ]
  },
  {
   "cell_type": "code",
   "execution_count": 20,
   "metadata": {},
   "outputs": [
    {
     "name": "stdout",
     "output_type": "stream",
     "text": [
      "transactionfeaturegroup001-1629776607\n",
      "Running SELECT * FROM \"transactionfeaturegroup001-1629776607\"\n"
     ]
    },
    {
     "data": {
      "text/html": [
       "<div>\n",
       "<style scoped>\n",
       "    .dataframe tbody tr th:only-of-type {\n",
       "        vertical-align: middle;\n",
       "    }\n",
       "\n",
       "    .dataframe tbody tr th {\n",
       "        vertical-align: top;\n",
       "    }\n",
       "\n",
       "    .dataframe thead th {\n",
       "        text-align: right;\n",
       "    }\n",
       "</style>\n",
       "<table border=\"1\" class=\"dataframe\">\n",
       "  <thead>\n",
       "    <tr style=\"text-align: right;\">\n",
       "      <th></th>\n",
       "      <th>time</th>\n",
       "      <th>v1</th>\n",
       "      <th>v2</th>\n",
       "      <th>v3</th>\n",
       "      <th>v4</th>\n",
       "      <th>v5</th>\n",
       "      <th>v6</th>\n",
       "      <th>v7</th>\n",
       "      <th>v8</th>\n",
       "      <th>v9</th>\n",
       "      <th>...</th>\n",
       "      <th>v26</th>\n",
       "      <th>v27</th>\n",
       "      <th>v28</th>\n",
       "      <th>amount</th>\n",
       "      <th>class</th>\n",
       "      <th>event_time</th>\n",
       "      <th>record_id</th>\n",
       "      <th>write_time</th>\n",
       "      <th>api_invocation_time</th>\n",
       "      <th>is_deleted</th>\n",
       "    </tr>\n",
       "  </thead>\n",
       "  <tbody>\n",
       "    <tr>\n",
       "      <th>0</th>\n",
       "      <td>40509.0</td>\n",
       "      <td>1.280911</td>\n",
       "      <td>0.724928</td>\n",
       "      <td>-0.931900</td>\n",
       "      <td>1.128203</td>\n",
       "      <td>1.001020</td>\n",
       "      <td>0.089433</td>\n",
       "      <td>0.171564</td>\n",
       "      <td>-0.017801</td>\n",
       "      <td>-0.093829</td>\n",
       "      <td>...</td>\n",
       "      <td>-0.165319</td>\n",
       "      <td>0.061455</td>\n",
       "      <td>0.048908</td>\n",
       "      <td>1.00</td>\n",
       "      <td>0</td>\n",
       "      <td>1.629777e+09</td>\n",
       "      <td>41044</td>\n",
       "      <td>2021-08-24 03:59:11.524</td>\n",
       "      <td>2021-08-24 03:54:10.000</td>\n",
       "      <td>False</td>\n",
       "    </tr>\n",
       "    <tr>\n",
       "      <th>1</th>\n",
       "      <td>146560.0</td>\n",
       "      <td>0.033220</td>\n",
       "      <td>0.878169</td>\n",
       "      <td>0.297217</td>\n",
       "      <td>-0.594863</td>\n",
       "      <td>0.464566</td>\n",
       "      <td>-1.030913</td>\n",
       "      <td>1.025113</td>\n",
       "      <td>-0.201337</td>\n",
       "      <td>-0.097595</td>\n",
       "      <td>...</td>\n",
       "      <td>0.142241</td>\n",
       "      <td>0.252089</td>\n",
       "      <td>0.097686</td>\n",
       "      <td>4.49</td>\n",
       "      <td>0</td>\n",
       "      <td>1.629777e+09</td>\n",
       "      <td>230973</td>\n",
       "      <td>2021-08-24 03:59:11.524</td>\n",
       "      <td>2021-08-24 03:54:11.000</td>\n",
       "      <td>False</td>\n",
       "    </tr>\n",
       "    <tr>\n",
       "      <th>2</th>\n",
       "      <td>81434.0</td>\n",
       "      <td>-0.805121</td>\n",
       "      <td>-0.763076</td>\n",
       "      <td>1.389078</td>\n",
       "      <td>-4.637015</td>\n",
       "      <td>0.090597</td>\n",
       "      <td>0.936682</td>\n",
       "      <td>0.061298</td>\n",
       "      <td>0.330038</td>\n",
       "      <td>0.752960</td>\n",
       "      <td>...</td>\n",
       "      <td>-1.032566</td>\n",
       "      <td>-0.032670</td>\n",
       "      <td>-0.100474</td>\n",
       "      <td>39.99</td>\n",
       "      <td>0</td>\n",
       "      <td>1.629777e+09</td>\n",
       "      <td>135865</td>\n",
       "      <td>2021-08-24 03:59:11.524</td>\n",
       "      <td>2021-08-24 03:54:11.000</td>\n",
       "      <td>False</td>\n",
       "    </tr>\n",
       "    <tr>\n",
       "      <th>3</th>\n",
       "      <td>146582.0</td>\n",
       "      <td>-0.900039</td>\n",
       "      <td>1.373607</td>\n",
       "      <td>0.315446</td>\n",
       "      <td>0.919979</td>\n",
       "      <td>-0.021225</td>\n",
       "      <td>1.010028</td>\n",
       "      <td>-0.245293</td>\n",
       "      <td>1.113149</td>\n",
       "      <td>-0.414201</td>\n",
       "      <td>...</td>\n",
       "      <td>-1.038490</td>\n",
       "      <td>-0.113833</td>\n",
       "      <td>0.075121</td>\n",
       "      <td>22.59</td>\n",
       "      <td>0</td>\n",
       "      <td>1.629777e+09</td>\n",
       "      <td>231025</td>\n",
       "      <td>2021-08-24 03:59:11.524</td>\n",
       "      <td>2021-08-24 03:54:12.000</td>\n",
       "      <td>False</td>\n",
       "    </tr>\n",
       "    <tr>\n",
       "      <th>4</th>\n",
       "      <td>81455.0</td>\n",
       "      <td>0.969709</td>\n",
       "      <td>-0.234923</td>\n",
       "      <td>1.064616</td>\n",
       "      <td>1.432259</td>\n",
       "      <td>-0.853660</td>\n",
       "      <td>-0.004559</td>\n",
       "      <td>-0.367976</td>\n",
       "      <td>0.106048</td>\n",
       "      <td>0.714631</td>\n",
       "      <td>...</td>\n",
       "      <td>-0.214098</td>\n",
       "      <td>0.065397</td>\n",
       "      <td>0.042533</td>\n",
       "      <td>79.00</td>\n",
       "      <td>0</td>\n",
       "      <td>1.629777e+09</td>\n",
       "      <td>135911</td>\n",
       "      <td>2021-08-24 03:59:11.524</td>\n",
       "      <td>2021-08-24 03:54:12.000</td>\n",
       "      <td>False</td>\n",
       "    </tr>\n",
       "    <tr>\n",
       "      <th>...</th>\n",
       "      <td>...</td>\n",
       "      <td>...</td>\n",
       "      <td>...</td>\n",
       "      <td>...</td>\n",
       "      <td>...</td>\n",
       "      <td>...</td>\n",
       "      <td>...</td>\n",
       "      <td>...</td>\n",
       "      <td>...</td>\n",
       "      <td>...</td>\n",
       "      <td>...</td>\n",
       "      <td>...</td>\n",
       "      <td>...</td>\n",
       "      <td>...</td>\n",
       "      <td>...</td>\n",
       "      <td>...</td>\n",
       "      <td>...</td>\n",
       "      <td>...</td>\n",
       "      <td>...</td>\n",
       "      <td>...</td>\n",
       "      <td>...</td>\n",
       "    </tr>\n",
       "    <tr>\n",
       "      <th>178991</th>\n",
       "      <td>31415.0</td>\n",
       "      <td>-0.926779</td>\n",
       "      <td>0.282846</td>\n",
       "      <td>2.298930</td>\n",
       "      <td>-1.860512</td>\n",
       "      <td>-0.586039</td>\n",
       "      <td>-0.782723</td>\n",
       "      <td>0.211379</td>\n",
       "      <td>-0.299116</td>\n",
       "      <td>-0.856180</td>\n",
       "      <td>...</td>\n",
       "      <td>-0.223384</td>\n",
       "      <td>-0.137458</td>\n",
       "      <td>-0.088228</td>\n",
       "      <td>12.60</td>\n",
       "      <td>0</td>\n",
       "      <td>1.629777e+09</td>\n",
       "      <td>21018</td>\n",
       "      <td>2021-08-24 03:49:41.834</td>\n",
       "      <td>2021-08-24 03:49:09.000</td>\n",
       "      <td>False</td>\n",
       "    </tr>\n",
       "    <tr>\n",
       "      <th>178992</th>\n",
       "      <td>73999.0</td>\n",
       "      <td>-0.788448</td>\n",
       "      <td>0.706924</td>\n",
       "      <td>0.477454</td>\n",
       "      <td>0.956670</td>\n",
       "      <td>1.382822</td>\n",
       "      <td>-0.710991</td>\n",
       "      <td>0.240214</td>\n",
       "      <td>0.023719</td>\n",
       "      <td>-0.700416</td>\n",
       "      <td>...</td>\n",
       "      <td>-0.313518</td>\n",
       "      <td>0.142619</td>\n",
       "      <td>0.139121</td>\n",
       "      <td>1.00</td>\n",
       "      <td>0</td>\n",
       "      <td>1.629777e+09</td>\n",
       "      <td>115752</td>\n",
       "      <td>2021-08-24 03:49:41.834</td>\n",
       "      <td>2021-08-24 03:49:09.000</td>\n",
       "      <td>False</td>\n",
       "    </tr>\n",
       "    <tr>\n",
       "      <th>178993</th>\n",
       "      <td>74001.0</td>\n",
       "      <td>-1.087089</td>\n",
       "      <td>1.166533</td>\n",
       "      <td>0.268627</td>\n",
       "      <td>1.021414</td>\n",
       "      <td>0.368030</td>\n",
       "      <td>0.891272</td>\n",
       "      <td>0.466853</td>\n",
       "      <td>0.569805</td>\n",
       "      <td>-0.239510</td>\n",
       "      <td>...</td>\n",
       "      <td>-0.130540</td>\n",
       "      <td>0.441505</td>\n",
       "      <td>0.167682</td>\n",
       "      <td>81.20</td>\n",
       "      <td>0</td>\n",
       "      <td>1.629777e+09</td>\n",
       "      <td>115757</td>\n",
       "      <td>2021-08-24 03:49:41.834</td>\n",
       "      <td>2021-08-24 03:49:10.000</td>\n",
       "      <td>False</td>\n",
       "    </tr>\n",
       "    <tr>\n",
       "      <th>178994</th>\n",
       "      <td>138150.0</td>\n",
       "      <td>-0.419882</td>\n",
       "      <td>1.323100</td>\n",
       "      <td>-0.832442</td>\n",
       "      <td>-0.548493</td>\n",
       "      <td>0.462872</td>\n",
       "      <td>-0.807800</td>\n",
       "      <td>0.586938</td>\n",
       "      <td>0.287293</td>\n",
       "      <td>0.131137</td>\n",
       "      <td>...</td>\n",
       "      <td>-0.233880</td>\n",
       "      <td>0.480833</td>\n",
       "      <td>0.322226</td>\n",
       "      <td>0.89</td>\n",
       "      <td>0</td>\n",
       "      <td>1.629777e+09</td>\n",
       "      <td>210860</td>\n",
       "      <td>2021-08-24 03:49:41.834</td>\n",
       "      <td>2021-08-24 03:49:10.000</td>\n",
       "      <td>False</td>\n",
       "    </tr>\n",
       "    <tr>\n",
       "      <th>178995</th>\n",
       "      <td>138154.0</td>\n",
       "      <td>-7.242268</td>\n",
       "      <td>6.209580</td>\n",
       "      <td>-3.167238</td>\n",
       "      <td>-3.685203</td>\n",
       "      <td>0.243809</td>\n",
       "      <td>-1.504672</td>\n",
       "      <td>1.761722</td>\n",
       "      <td>-0.275713</td>\n",
       "      <td>5.127615</td>\n",
       "      <td>...</td>\n",
       "      <td>-0.050178</td>\n",
       "      <td>1.424577</td>\n",
       "      <td>0.559419</td>\n",
       "      <td>1.46</td>\n",
       "      <td>0</td>\n",
       "      <td>1.629777e+09</td>\n",
       "      <td>210867</td>\n",
       "      <td>2021-08-24 03:49:41.834</td>\n",
       "      <td>2021-08-24 03:49:10.000</td>\n",
       "      <td>False</td>\n",
       "    </tr>\n",
       "  </tbody>\n",
       "</table>\n",
       "<p>178996 rows × 36 columns</p>\n",
       "</div>"
      ],
      "text/plain": [
       "            time        v1        v2        v3        v4        v5        v6  \\\n",
       "0        40509.0  1.280911  0.724928 -0.931900  1.128203  1.001020  0.089433   \n",
       "1       146560.0  0.033220  0.878169  0.297217 -0.594863  0.464566 -1.030913   \n",
       "2        81434.0 -0.805121 -0.763076  1.389078 -4.637015  0.090597  0.936682   \n",
       "3       146582.0 -0.900039  1.373607  0.315446  0.919979 -0.021225  1.010028   \n",
       "4        81455.0  0.969709 -0.234923  1.064616  1.432259 -0.853660 -0.004559   \n",
       "...          ...       ...       ...       ...       ...       ...       ...   \n",
       "178991   31415.0 -0.926779  0.282846  2.298930 -1.860512 -0.586039 -0.782723   \n",
       "178992   73999.0 -0.788448  0.706924  0.477454  0.956670  1.382822 -0.710991   \n",
       "178993   74001.0 -1.087089  1.166533  0.268627  1.021414  0.368030  0.891272   \n",
       "178994  138150.0 -0.419882  1.323100 -0.832442 -0.548493  0.462872 -0.807800   \n",
       "178995  138154.0 -7.242268  6.209580 -3.167238 -3.685203  0.243809 -1.504672   \n",
       "\n",
       "              v7        v8        v9  ...       v26       v27       v28  \\\n",
       "0       0.171564 -0.017801 -0.093829  ... -0.165319  0.061455  0.048908   \n",
       "1       1.025113 -0.201337 -0.097595  ...  0.142241  0.252089  0.097686   \n",
       "2       0.061298  0.330038  0.752960  ... -1.032566 -0.032670 -0.100474   \n",
       "3      -0.245293  1.113149 -0.414201  ... -1.038490 -0.113833  0.075121   \n",
       "4      -0.367976  0.106048  0.714631  ... -0.214098  0.065397  0.042533   \n",
       "...          ...       ...       ...  ...       ...       ...       ...   \n",
       "178991  0.211379 -0.299116 -0.856180  ... -0.223384 -0.137458 -0.088228   \n",
       "178992  0.240214  0.023719 -0.700416  ... -0.313518  0.142619  0.139121   \n",
       "178993  0.466853  0.569805 -0.239510  ... -0.130540  0.441505  0.167682   \n",
       "178994  0.586938  0.287293  0.131137  ... -0.233880  0.480833  0.322226   \n",
       "178995  1.761722 -0.275713  5.127615  ... -0.050178  1.424577  0.559419   \n",
       "\n",
       "        amount  class    event_time  record_id               write_time  \\\n",
       "0         1.00      0  1.629777e+09      41044  2021-08-24 03:59:11.524   \n",
       "1         4.49      0  1.629777e+09     230973  2021-08-24 03:59:11.524   \n",
       "2        39.99      0  1.629777e+09     135865  2021-08-24 03:59:11.524   \n",
       "3        22.59      0  1.629777e+09     231025  2021-08-24 03:59:11.524   \n",
       "4        79.00      0  1.629777e+09     135911  2021-08-24 03:59:11.524   \n",
       "...        ...    ...           ...        ...                      ...   \n",
       "178991   12.60      0  1.629777e+09      21018  2021-08-24 03:49:41.834   \n",
       "178992    1.00      0  1.629777e+09     115752  2021-08-24 03:49:41.834   \n",
       "178993   81.20      0  1.629777e+09     115757  2021-08-24 03:49:41.834   \n",
       "178994    0.89      0  1.629777e+09     210860  2021-08-24 03:49:41.834   \n",
       "178995    1.46      0  1.629777e+09     210867  2021-08-24 03:49:41.834   \n",
       "\n",
       "            api_invocation_time  is_deleted  \n",
       "0       2021-08-24 03:54:10.000       False  \n",
       "1       2021-08-24 03:54:11.000       False  \n",
       "2       2021-08-24 03:54:11.000       False  \n",
       "3       2021-08-24 03:54:12.000       False  \n",
       "4       2021-08-24 03:54:12.000       False  \n",
       "...                         ...         ...  \n",
       "178991  2021-08-24 03:49:09.000       False  \n",
       "178992  2021-08-24 03:49:09.000       False  \n",
       "178993  2021-08-24 03:49:10.000       False  \n",
       "178994  2021-08-24 03:49:10.000       False  \n",
       "178995  2021-08-24 03:49:10.000       False  \n",
       "\n",
       "[178996 rows x 36 columns]"
      ]
     },
     "execution_count": 20,
     "metadata": {},
     "output_type": "execute_result"
    }
   ],
   "source": [
    "transaction_query = fd_feature_group.athena_query()\n",
    "\n",
    "transaction_table = transaction_query.table_name\n",
    "\n",
    "print(transaction_table)\n",
    "\n",
    "query_string = 'SELECT * FROM \"'+transaction_table+'\"'\n",
    "print('Running ' + query_string)\n",
    "\n",
    "# run Athena query. The output is loaded to a Pandas dataframe.\n",
    "#dataset = pd.DataFrame()\n",
    "transaction_query.run(query_string=query_string, output_location='s3://'+default_s3_bucket_name+'/'+prefix+'/query_results/')\n",
    "transaction_query.wait()\n",
    "dataset = transaction_query.as_dataframe()\n",
    "\n",
    "dataset"
   ]
  },
  {
   "cell_type": "code",
   "execution_count": 21,
   "metadata": {},
   "outputs": [],
   "source": [
    "# Select useful columns for training with target column as the first.\n",
    "dataset = dataset[['time', 'v1', 'v2', 'v3', 'v4', 'v5', 'v6', 'v7', 'v8', 'v9', 'v10',\n",
    "       'v11', 'v12', 'v13', 'v14', 'v15', 'v16', 'v17', 'v18', 'v19', 'v20',\n",
    "       'v21', 'v22', 'v23', 'v24', 'v25', 'v26', 'v27', 'v28', 'amount',\n",
    "       'class']]\n"
   ]
  },
  {
   "cell_type": "code",
   "execution_count": 22,
   "metadata": {},
   "outputs": [
    {
     "data": {
      "text/html": [
       "<div>\n",
       "<style scoped>\n",
       "    .dataframe tbody tr th:only-of-type {\n",
       "        vertical-align: middle;\n",
       "    }\n",
       "\n",
       "    .dataframe tbody tr th {\n",
       "        vertical-align: top;\n",
       "    }\n",
       "\n",
       "    .dataframe thead th {\n",
       "        text-align: right;\n",
       "    }\n",
       "</style>\n",
       "<table border=\"1\" class=\"dataframe\">\n",
       "  <thead>\n",
       "    <tr style=\"text-align: right;\">\n",
       "      <th></th>\n",
       "      <th>time</th>\n",
       "      <th>v1</th>\n",
       "      <th>v2</th>\n",
       "      <th>v3</th>\n",
       "      <th>v4</th>\n",
       "      <th>v5</th>\n",
       "      <th>v6</th>\n",
       "      <th>v7</th>\n",
       "      <th>v8</th>\n",
       "      <th>v9</th>\n",
       "      <th>...</th>\n",
       "      <th>v21</th>\n",
       "      <th>v22</th>\n",
       "      <th>v23</th>\n",
       "      <th>v24</th>\n",
       "      <th>v25</th>\n",
       "      <th>v26</th>\n",
       "      <th>v27</th>\n",
       "      <th>v28</th>\n",
       "      <th>amount</th>\n",
       "      <th>class</th>\n",
       "    </tr>\n",
       "  </thead>\n",
       "  <tbody>\n",
       "    <tr>\n",
       "      <th>0</th>\n",
       "      <td>40509.0</td>\n",
       "      <td>1.280911</td>\n",
       "      <td>0.724928</td>\n",
       "      <td>-0.931900</td>\n",
       "      <td>1.128203</td>\n",
       "      <td>1.001020</td>\n",
       "      <td>0.089433</td>\n",
       "      <td>0.171564</td>\n",
       "      <td>-0.017801</td>\n",
       "      <td>-0.093829</td>\n",
       "      <td>...</td>\n",
       "      <td>-0.097619</td>\n",
       "      <td>-0.132172</td>\n",
       "      <td>-0.288541</td>\n",
       "      <td>-1.465103</td>\n",
       "      <td>0.811263</td>\n",
       "      <td>-0.165319</td>\n",
       "      <td>0.061455</td>\n",
       "      <td>0.048908</td>\n",
       "      <td>1.00</td>\n",
       "      <td>0</td>\n",
       "    </tr>\n",
       "    <tr>\n",
       "      <th>1</th>\n",
       "      <td>146560.0</td>\n",
       "      <td>0.033220</td>\n",
       "      <td>0.878169</td>\n",
       "      <td>0.297217</td>\n",
       "      <td>-0.594863</td>\n",
       "      <td>0.464566</td>\n",
       "      <td>-1.030913</td>\n",
       "      <td>1.025113</td>\n",
       "      <td>-0.201337</td>\n",
       "      <td>-0.097595</td>\n",
       "      <td>...</td>\n",
       "      <td>-0.249961</td>\n",
       "      <td>-0.520146</td>\n",
       "      <td>0.075508</td>\n",
       "      <td>-0.011030</td>\n",
       "      <td>-0.492322</td>\n",
       "      <td>0.142241</td>\n",
       "      <td>0.252089</td>\n",
       "      <td>0.097686</td>\n",
       "      <td>4.49</td>\n",
       "      <td>0</td>\n",
       "    </tr>\n",
       "    <tr>\n",
       "      <th>2</th>\n",
       "      <td>81434.0</td>\n",
       "      <td>-0.805121</td>\n",
       "      <td>-0.763076</td>\n",
       "      <td>1.389078</td>\n",
       "      <td>-4.637015</td>\n",
       "      <td>0.090597</td>\n",
       "      <td>0.936682</td>\n",
       "      <td>0.061298</td>\n",
       "      <td>0.330038</td>\n",
       "      <td>0.752960</td>\n",
       "      <td>...</td>\n",
       "      <td>-0.117533</td>\n",
       "      <td>0.537733</td>\n",
       "      <td>-0.081924</td>\n",
       "      <td>-1.041877</td>\n",
       "      <td>-0.331419</td>\n",
       "      <td>-1.032566</td>\n",
       "      <td>-0.032670</td>\n",
       "      <td>-0.100474</td>\n",
       "      <td>39.99</td>\n",
       "      <td>0</td>\n",
       "    </tr>\n",
       "    <tr>\n",
       "      <th>3</th>\n",
       "      <td>146582.0</td>\n",
       "      <td>-0.900039</td>\n",
       "      <td>1.373607</td>\n",
       "      <td>0.315446</td>\n",
       "      <td>0.919979</td>\n",
       "      <td>-0.021225</td>\n",
       "      <td>1.010028</td>\n",
       "      <td>-0.245293</td>\n",
       "      <td>1.113149</td>\n",
       "      <td>-0.414201</td>\n",
       "      <td>...</td>\n",
       "      <td>-0.285446</td>\n",
       "      <td>-0.872430</td>\n",
       "      <td>0.217797</td>\n",
       "      <td>0.165286</td>\n",
       "      <td>-0.724186</td>\n",
       "      <td>-1.038490</td>\n",
       "      <td>-0.113833</td>\n",
       "      <td>0.075121</td>\n",
       "      <td>22.59</td>\n",
       "      <td>0</td>\n",
       "    </tr>\n",
       "    <tr>\n",
       "      <th>4</th>\n",
       "      <td>81455.0</td>\n",
       "      <td>0.969709</td>\n",
       "      <td>-0.234923</td>\n",
       "      <td>1.064616</td>\n",
       "      <td>1.432259</td>\n",
       "      <td>-0.853660</td>\n",
       "      <td>-0.004559</td>\n",
       "      <td>-0.367976</td>\n",
       "      <td>0.106048</td>\n",
       "      <td>0.714631</td>\n",
       "      <td>...</td>\n",
       "      <td>0.183972</td>\n",
       "      <td>0.656848</td>\n",
       "      <td>-0.134769</td>\n",
       "      <td>0.440331</td>\n",
       "      <td>0.517150</td>\n",
       "      <td>-0.214098</td>\n",
       "      <td>0.065397</td>\n",
       "      <td>0.042533</td>\n",
       "      <td>79.00</td>\n",
       "      <td>0</td>\n",
       "    </tr>\n",
       "  </tbody>\n",
       "</table>\n",
       "<p>5 rows × 31 columns</p>\n",
       "</div>"
      ],
      "text/plain": [
       "       time        v1        v2        v3        v4        v5        v6  \\\n",
       "0   40509.0  1.280911  0.724928 -0.931900  1.128203  1.001020  0.089433   \n",
       "1  146560.0  0.033220  0.878169  0.297217 -0.594863  0.464566 -1.030913   \n",
       "2   81434.0 -0.805121 -0.763076  1.389078 -4.637015  0.090597  0.936682   \n",
       "3  146582.0 -0.900039  1.373607  0.315446  0.919979 -0.021225  1.010028   \n",
       "4   81455.0  0.969709 -0.234923  1.064616  1.432259 -0.853660 -0.004559   \n",
       "\n",
       "         v7        v8        v9  ...       v21       v22       v23       v24  \\\n",
       "0  0.171564 -0.017801 -0.093829  ... -0.097619 -0.132172 -0.288541 -1.465103   \n",
       "1  1.025113 -0.201337 -0.097595  ... -0.249961 -0.520146  0.075508 -0.011030   \n",
       "2  0.061298  0.330038  0.752960  ... -0.117533  0.537733 -0.081924 -1.041877   \n",
       "3 -0.245293  1.113149 -0.414201  ... -0.285446 -0.872430  0.217797  0.165286   \n",
       "4 -0.367976  0.106048  0.714631  ...  0.183972  0.656848 -0.134769  0.440331   \n",
       "\n",
       "        v25       v26       v27       v28  amount  class  \n",
       "0  0.811263 -0.165319  0.061455  0.048908    1.00      0  \n",
       "1 -0.492322  0.142241  0.252089  0.097686    4.49      0  \n",
       "2 -0.331419 -1.032566 -0.032670 -0.100474   39.99      0  \n",
       "3 -0.724186 -1.038490 -0.113833  0.075121   22.59      0  \n",
       "4  0.517150 -0.214098  0.065397  0.042533   79.00      0  \n",
       "\n",
       "[5 rows x 31 columns]"
      ]
     },
     "execution_count": 22,
     "metadata": {},
     "output_type": "execute_result"
    }
   ],
   "source": [
    "dataset = dataset.dropna()\n",
    "dataset.head()"
   ]
  },
  {
   "cell_type": "markdown",
   "metadata": {},
   "source": [
    "The class column corresponds to whether or not a transaction is fradulent. We see that the majority of data is non-fraudulant with only $492$ ($.173\\%$) of the data corresponding to fraudulant examples."
   ]
  },
  {
   "cell_type": "code",
   "execution_count": 23,
   "metadata": {},
   "outputs": [
    {
     "name": "stdout",
     "output_type": "stream",
     "text": [
      "Number of frauds:  369\n",
      "Number of non-frauds:  178627\n",
      "Percentage of fradulent data: 0.20614985809738764\n"
     ]
    }
   ],
   "source": [
    "nonfrauds, frauds = dataset.groupby('class').size()\n",
    "print('Number of frauds: ', frauds)\n",
    "print('Number of non-frauds: ', nonfrauds)\n",
    "print('Percentage of fradulent data:', 100.*frauds/(frauds + nonfrauds))"
   ]
  },
  {
   "cell_type": "markdown",
   "metadata": {},
   "source": [
    "This dataset has 28 columns, $V_i$ for $i=1..28$ of anonymized features along with columns for time, amount, and class. We already know that the columns $V_i$ have been normalized to have $0$ mean and unit standard deviation as the result of a PCA. You can read more about PCA here:. \n",
    "\n",
    "Tip: For our dataset this amount of preprocessing will give us reasonable accuracy, but it's important to note that there are more preprocessing steps one can use to improve accuracy . For unbalanced data sets like ours where the positive (fraudulent) examples occur much less frequently than the negative (legitimate) examples, we may try “over-sampling” the minority dataset by generating synthetic data (read about SMOTE in Data Mining for Imbalanced Datasets: An Overview (https://link.springer.com/chapter/10.1007%2F0-387-25465-X_40) or undersampling the majority class by using ensemble methods (see http://citeseerx.ist.psu.edu/viewdoc/download?doi=10.1.1.68.6858&rep=rep1&type=pdfor)."
   ]
  },
  {
   "cell_type": "code",
   "execution_count": 24,
   "metadata": {},
   "outputs": [],
   "source": [
    "feature_columns = dataset.columns[:-1]\n",
    "label_column = dataset.columns[-1]\n",
    "\n",
    "features = dataset[feature_columns].values.astype('float32')\n",
    "labels = (dataset[label_column].values).astype('float32')"
   ]
  },
  {
   "cell_type": "code",
   "execution_count": 25,
   "metadata": {},
   "outputs": [],
   "source": [
    "from sklearn.model_selection import train_test_split\n",
    "\n",
    "X_train, X_test, y_train, y_test = train_test_split(\n",
    "    features, labels, test_size=0.1, random_state=42)"
   ]
  },
  {
   "cell_type": "markdown",
   "metadata": {},
   "source": [
    "## Amazon SageMaker XGBoost\n"
   ]
  },
  {
   "cell_type": "markdown",
   "metadata": {},
   "source": [
    "### Prepare Data and Upload to S3"
   ]
  },
  {
   "cell_type": "code",
   "execution_count": 26,
   "metadata": {},
   "outputs": [],
   "source": [
    "import io\n",
    "import sklearn\n",
    "import os\n",
    "from sklearn.datasets import dump_svmlight_file   \n",
    "\n",
    "buf = io.BytesIO()\n",
    "\n",
    "sklearn.datasets.dump_svmlight_file(X_train, y_train, buf)\n",
    "buf.seek(0);\n"
   ]
  },
  {
   "cell_type": "code",
   "execution_count": 27,
   "metadata": {},
   "outputs": [
    {
     "name": "stdout",
     "output_type": "stream",
     "text": [
      "Uploaded training data location: s3://sagemaker-ap-southeast-1-365792799466/sagemaker-featurestore-demo/train/base/fraud-dataset\n",
      "Training artifacts will be uploaded to: s3://sagemaker-ap-southeast-1-365792799466/sagemaker-featurestore-demo/output\n"
     ]
    }
   ],
   "source": [
    "key = 'fraud-dataset'\n",
    "subdir = 'base'\n",
    "boto3.resource('s3', region_name=region).Bucket(default_s3_bucket_name).Object(os.path.join(prefix, 'train', subdir, key)).upload_fileobj(buf)\n",
    "\n",
    "s3_train_data = 's3://{}/{}/train/{}/{}'.format(default_s3_bucket_name, prefix, subdir, key)\n",
    "print('Uploaded training data location: {}'.format(s3_train_data))\n",
    "\n",
    "output_location = 's3://{}/{}/output'.format(default_s3_bucket_name, prefix)\n",
    "print('Training artifacts will be uploaded to: {}'.format(output_location))"
   ]
  },
  {
   "cell_type": "markdown",
   "metadata": {},
   "source": [
    "---\n",
    "## Train\n",
    "\n",
    "Moving onto training, first we'll need to specify the locations of the XGBoost algorithm containers.\n",
    "To specify the Linear Learner algorithm, we use a utility function to obtain it's URI. A complete list of build-in algorithms is found here: https://docs.aws.amazon.com/sagemaker/latest/dg/algos.html"
   ]
  },
  {
   "cell_type": "code",
   "execution_count": 28,
   "metadata": {},
   "outputs": [],
   "source": [
    "import sagemaker\n",
    "container = sagemaker.image_uris.retrieve(\"xgboost\", region, \"latest\")"
   ]
  },
  {
   "cell_type": "markdown",
   "metadata": {},
   "source": [
    "Now, we can specify a few parameters like what type of training instances we'd like to use and how many, as well as our XGBoost hyperparameters.  A few key hyperparameters are:\n",
    "- `max_depth` controls how deep each tree within the algorithm can be built.  Deeper trees can lead to better fit, but are more computationally expensive and can lead to overfitting.  There is typically some trade-off in model performance that needs to be explored between a large number of shallow trees and a smaller number of deeper trees.\n",
    "- `subsample` controls sampling of the training data.  This technique can help reduce overfitting, but setting it too low can also starve the model of data.\n",
    "- `num_round` controls the number of boosting rounds.  This is essentially the subsequent models that are trained using the residuals of previous iterations.  Again, more rounds should produce a better fit on the training data, but can be computationally expensive or lead to overfitting.\n",
    "- `eta` controls how aggressive each round of boosting is.  Larger values lead to more conservative boosting.\n",
    "- `gamma` controls how aggressively trees are grown.  Larger values lead to more conservative models.\n",
    "\n",
    "More detail on XGBoost's hyperparmeters can be found on their GitHub [page](https://github.com/dmlc/xgboost/blob/master/doc/parameter.md)."
   ]
  },
  {
   "cell_type": "markdown",
   "metadata": {},
   "source": [
    "SageMaker abstracts training with Estimators. We can pass container, and all parameters to the estimator, as well as the hyperparameters for the linear learner and fit the estimator to the data in S3.\n",
    "Note: For IP protection reasons, SageMaker built-in algorithms, such as XGBoost, can't be run locally, i.e. on the same instance where this Jupyter Notebook code is running. "
   ]
  },
  {
   "cell_type": "code",
   "execution_count": 32,
   "metadata": {},
   "outputs": [],
   "source": [
    "sagemaker_iam_role = sagemaker.get_execution_role()\n",
    "session = sagemaker.Session()\n"
   ]
  },
  {
   "cell_type": "code",
   "execution_count": 33,
   "metadata": {},
   "outputs": [],
   "source": [
    "xgb = sagemaker.estimator.Estimator(container,\n",
    "                                    role=sagemaker_iam_role, \n",
    "                                    instance_count=1, \n",
    "                                    instance_type='ml.m4.xlarge',\n",
    "                                    output_path=output_location,\n",
    "                                    sagemaker_session=session)\n",
    "xgb.set_hyperparameters(max_depth=5,\n",
    "                        eval_metric='auc',\n",
    "                        eta=0.2,\n",
    "                        gamma=4,\n",
    "                        min_child_weight=6,\n",
    "                        subsample=0.8,\n",
    "                        silent=0,\n",
    "                        objective='binary:logistic',\n",
    "                        num_round=100)"
   ]
  },
  {
   "cell_type": "code",
   "execution_count": 34,
   "metadata": {
    "scrolled": true
   },
   "outputs": [
    {
     "name": "stdout",
     "output_type": "stream",
     "text": [
      "2021-08-24 04:03:25 Starting - Starting the training job...\n",
      "2021-08-24 04:03:27 Starting - Launching requested ML instancesProfilerReport-1629777804: InProgress\n",
      "...\n",
      "2021-08-24 04:04:20 Starting - Preparing the instances for training.........\n",
      "2021-08-24 04:05:54 Downloading - Downloading input data...\n",
      "2021-08-24 04:06:14 Training - Downloading the training image..\u001b[34mArguments: train\u001b[0m\n",
      "\u001b[34m[2021-08-24:04:06:37:INFO] Running standalone xgboost training.\u001b[0m\n",
      "\u001b[34m[2021-08-24:04:06:37:INFO] Path /opt/ml/input/data/validation does not exist!\u001b[0m\n",
      "\u001b[34m[2021-08-24:04:06:37:INFO] File size need to be processed in the node: 98.94mb. Available memory size in the node: 8414.21mb\u001b[0m\n",
      "\u001b[34m[04:06:37] S3DistributionType set as FullyReplicated\u001b[0m\n",
      "\u001b[34m[04:06:37] 161096x30 matrix with 4831839 entries loaded from /opt/ml/input/data/train\u001b[0m\n",
      "\u001b[34m[04:06:38] src/tree/updater_prune.cc:74: tree pruning end, 1 roots, 14 extra nodes, 0 pruned nodes, max_depth=4\u001b[0m\n",
      "\u001b[34m[0]#011train-auc:0.928619\u001b[0m\n",
      "\u001b[34m[04:06:38] src/tree/updater_prune.cc:74: tree pruning end, 1 roots, 14 extra nodes, 2 pruned nodes, max_depth=4\u001b[0m\n",
      "\u001b[34m[1]#011train-auc:0.928629\u001b[0m\n",
      "\u001b[34m[04:06:38] src/tree/updater_prune.cc:74: tree pruning end, 1 roots, 12 extra nodes, 0 pruned nodes, max_depth=4\u001b[0m\n",
      "\u001b[34m[2]#011train-auc:0.930185\u001b[0m\n",
      "\u001b[34m[04:06:39] src/tree/updater_prune.cc:74: tree pruning end, 1 roots, 12 extra nodes, 2 pruned nodes, max_depth=4\u001b[0m\n",
      "\u001b[34m[3]#011train-auc:0.930192\u001b[0m\n",
      "\u001b[34m[04:06:39] src/tree/updater_prune.cc:74: tree pruning end, 1 roots, 14 extra nodes, 2 pruned nodes, max_depth=4\u001b[0m\n",
      "\u001b[34m[4]#011train-auc:0.930198\u001b[0m\n",
      "\u001b[34m[04:06:39] src/tree/updater_prune.cc:74: tree pruning end, 1 roots, 10 extra nodes, 8 pruned nodes, max_depth=3\u001b[0m\n",
      "\u001b[34m[5]#011train-auc:0.9302\u001b[0m\n",
      "\u001b[34m[04:06:39] src/tree/updater_prune.cc:74: tree pruning end, 1 roots, 14 extra nodes, 0 pruned nodes, max_depth=4\u001b[0m\n",
      "\u001b[34m[6]#011train-auc:0.930205\u001b[0m\n",
      "\u001b[34m[04:06:40] src/tree/updater_prune.cc:74: tree pruning end, 1 roots, 10 extra nodes, 4 pruned nodes, max_depth=3\u001b[0m\n",
      "\u001b[34m[7]#011train-auc:0.930206\u001b[0m\n",
      "\u001b[34m[04:06:40] src/tree/updater_prune.cc:74: tree pruning end, 1 roots, 8 extra nodes, 4 pruned nodes, max_depth=3\u001b[0m\n",
      "\u001b[34m[8]#011train-auc:0.930209\u001b[0m\n",
      "\u001b[34m[04:06:40] src/tree/updater_prune.cc:74: tree pruning end, 1 roots, 12 extra nodes, 2 pruned nodes, max_depth=4\u001b[0m\n",
      "\u001b[34m[9]#011train-auc:0.930157\u001b[0m\n",
      "\u001b[34m[04:06:40] src/tree/updater_prune.cc:74: tree pruning end, 1 roots, 10 extra nodes, 4 pruned nodes, max_depth=3\u001b[0m\n",
      "\u001b[34m[10]#011train-auc:0.931689\u001b[0m\n",
      "\u001b[34m[04:06:41] src/tree/updater_prune.cc:74: tree pruning end, 1 roots, 10 extra nodes, 0 pruned nodes, max_depth=4\u001b[0m\n",
      "\u001b[34m[11]#011train-auc:0.93169\u001b[0m\n",
      "\u001b[34m[04:06:41] src/tree/updater_prune.cc:74: tree pruning end, 1 roots, 8 extra nodes, 4 pruned nodes, max_depth=3\u001b[0m\n",
      "\u001b[34m[12]#011train-auc:0.93169\u001b[0m\n",
      "\u001b[34m[04:06:41] src/tree/updater_prune.cc:74: tree pruning end, 1 roots, 8 extra nodes, 4 pruned nodes, max_depth=3\u001b[0m\n",
      "\u001b[34m[13]#011train-auc:0.93169\u001b[0m\n",
      "\u001b[34m[04:06:42] src/tree/updater_prune.cc:74: tree pruning end, 1 roots, 10 extra nodes, 8 pruned nodes, max_depth=4\u001b[0m\n",
      "\u001b[34m[14]#011train-auc:0.931691\u001b[0m\n",
      "\n",
      "2021-08-24 04:06:54 Training - Training image download completed. Training in progress.\u001b[34m[04:06:42] src/tree/updater_prune.cc:74: tree pruning end, 1 roots, 8 extra nodes, 10 pruned nodes, max_depth=3\u001b[0m\n",
      "\u001b[34m[15]#011train-auc:0.931665\u001b[0m\n",
      "\u001b[34m[04:06:42] src/tree/updater_prune.cc:74: tree pruning end, 1 roots, 12 extra nodes, 4 pruned nodes, max_depth=5\u001b[0m\n",
      "\u001b[34m[16]#011train-auc:0.949062\u001b[0m\n",
      "\u001b[34m[04:06:43] src/tree/updater_prune.cc:74: tree pruning end, 1 roots, 10 extra nodes, 8 pruned nodes, max_depth=3\u001b[0m\n",
      "\u001b[34m[17]#011train-auc:0.948979\u001b[0m\n",
      "\u001b[34m[04:06:43] src/tree/updater_prune.cc:74: tree pruning end, 1 roots, 6 extra nodes, 12 pruned nodes, max_depth=3\u001b[0m\n",
      "\u001b[34m[18]#011train-auc:0.948962\u001b[0m\n",
      "\u001b[34m[04:06:43] src/tree/updater_prune.cc:74: tree pruning end, 1 roots, 16 extra nodes, 6 pruned nodes, max_depth=4\u001b[0m\n",
      "\u001b[34m[19]#011train-auc:0.948978\u001b[0m\n",
      "\u001b[34m[04:06:43] src/tree/updater_prune.cc:74: tree pruning end, 1 roots, 12 extra nodes, 4 pruned nodes, max_depth=4\u001b[0m\n",
      "\u001b[34m[20]#011train-auc:0.949028\u001b[0m\n",
      "\u001b[34m[04:06:44] src/tree/updater_prune.cc:74: tree pruning end, 1 roots, 8 extra nodes, 8 pruned nodes, max_depth=4\u001b[0m\n",
      "\u001b[34m[21]#011train-auc:0.950516\u001b[0m\n",
      "\u001b[34m[04:06:44] src/tree/updater_prune.cc:74: tree pruning end, 1 roots, 10 extra nodes, 8 pruned nodes, max_depth=4\u001b[0m\n",
      "\u001b[34m[22]#011train-auc:0.95727\u001b[0m\n",
      "\u001b[34m[04:06:44] src/tree/updater_prune.cc:74: tree pruning end, 1 roots, 8 extra nodes, 10 pruned nodes, max_depth=4\u001b[0m\n",
      "\u001b[34m[23]#011train-auc:0.964172\u001b[0m\n",
      "\u001b[34m[04:06:45] src/tree/updater_prune.cc:74: tree pruning end, 1 roots, 10 extra nodes, 10 pruned nodes, max_depth=3\u001b[0m\n",
      "\u001b[34m[24]#011train-auc:0.97759\u001b[0m\n",
      "\u001b[34m[04:06:45] src/tree/updater_prune.cc:74: tree pruning end, 1 roots, 12 extra nodes, 6 pruned nodes, max_depth=4\u001b[0m\n",
      "\u001b[34m[25]#011train-auc:0.97858\u001b[0m\n",
      "\u001b[34m[04:06:45] src/tree/updater_prune.cc:74: tree pruning end, 1 roots, 8 extra nodes, 8 pruned nodes, max_depth=3\u001b[0m\n",
      "\u001b[34m[26]#011train-auc:0.97884\u001b[0m\n",
      "\u001b[34m[04:06:45] src/tree/updater_prune.cc:74: tree pruning end, 1 roots, 12 extra nodes, 10 pruned nodes, max_depth=5\u001b[0m\n",
      "\u001b[34m[27]#011train-auc:0.97929\u001b[0m\n",
      "\u001b[34m[04:06:46] src/tree/updater_prune.cc:74: tree pruning end, 1 roots, 12 extra nodes, 8 pruned nodes, max_depth=5\u001b[0m\n",
      "\u001b[34m[28]#011train-auc:0.981787\u001b[0m\n",
      "\u001b[34m[04:06:46] src/tree/updater_prune.cc:74: tree pruning end, 1 roots, 8 extra nodes, 12 pruned nodes, max_depth=4\u001b[0m\n",
      "\u001b[34m[29]#011train-auc:0.983613\u001b[0m\n",
      "\u001b[34m[04:06:46] src/tree/updater_prune.cc:74: tree pruning end, 1 roots, 12 extra nodes, 8 pruned nodes, max_depth=5\u001b[0m\n",
      "\u001b[34m[30]#011train-auc:0.983503\u001b[0m\n",
      "\u001b[34m[04:06:47] src/tree/updater_prune.cc:74: tree pruning end, 1 roots, 8 extra nodes, 8 pruned nodes, max_depth=4\u001b[0m\n",
      "\u001b[34m[31]#011train-auc:0.985255\u001b[0m\n",
      "\u001b[34m[04:06:47] src/tree/updater_prune.cc:74: tree pruning end, 1 roots, 10 extra nodes, 6 pruned nodes, max_depth=4\u001b[0m\n",
      "\u001b[34m[32]#011train-auc:0.985438\u001b[0m\n",
      "\u001b[34m[04:06:47] src/tree/updater_prune.cc:74: tree pruning end, 1 roots, 12 extra nodes, 6 pruned nodes, max_depth=4\u001b[0m\n",
      "\u001b[34m[33]#011train-auc:0.988126\u001b[0m\n",
      "\u001b[34m[04:06:48] src/tree/updater_prune.cc:74: tree pruning end, 1 roots, 10 extra nodes, 4 pruned nodes, max_depth=5\u001b[0m\n",
      "\u001b[34m[34]#011train-auc:0.98843\u001b[0m\n",
      "\u001b[34m[04:06:48] src/tree/updater_prune.cc:74: tree pruning end, 1 roots, 12 extra nodes, 4 pruned nodes, max_depth=4\u001b[0m\n",
      "\u001b[34m[35]#011train-auc:0.990192\u001b[0m\n",
      "\u001b[34m[04:06:48] src/tree/updater_prune.cc:74: tree pruning end, 1 roots, 10 extra nodes, 6 pruned nodes, max_depth=5\u001b[0m\n",
      "\u001b[34m[36]#011train-auc:0.992041\u001b[0m\n",
      "\u001b[34m[04:06:48] src/tree/updater_prune.cc:74: tree pruning end, 1 roots, 10 extra nodes, 4 pruned nodes, max_depth=5\u001b[0m\n",
      "\u001b[34m[37]#011train-auc:0.991947\u001b[0m\n",
      "\u001b[34m[04:06:49] src/tree/updater_prune.cc:74: tree pruning end, 1 roots, 8 extra nodes, 6 pruned nodes, max_depth=3\u001b[0m\n",
      "\u001b[34m[38]#011train-auc:0.991625\u001b[0m\n",
      "\u001b[34m[04:06:49] src/tree/updater_prune.cc:74: tree pruning end, 1 roots, 8 extra nodes, 8 pruned nodes, max_depth=3\u001b[0m\n",
      "\u001b[34m[39]#011train-auc:0.991754\u001b[0m\n",
      "\u001b[34m[04:06:49] src/tree/updater_prune.cc:74: tree pruning end, 1 roots, 12 extra nodes, 2 pruned nodes, max_depth=5\u001b[0m\n",
      "\u001b[34m[40]#011train-auc:0.991973\u001b[0m\n",
      "\u001b[34m[04:06:49] src/tree/updater_prune.cc:74: tree pruning end, 1 roots, 10 extra nodes, 2 pruned nodes, max_depth=3\u001b[0m\n",
      "\u001b[34m[41]#011train-auc:0.991849\u001b[0m\n",
      "\u001b[34m[04:06:50] src/tree/updater_prune.cc:74: tree pruning end, 1 roots, 6 extra nodes, 6 pruned nodes, max_depth=3\u001b[0m\n",
      "\u001b[34m[42]#011train-auc:0.993076\u001b[0m\n",
      "\u001b[34m[04:06:50] src/tree/updater_prune.cc:74: tree pruning end, 1 roots, 8 extra nodes, 4 pruned nodes, max_depth=3\u001b[0m\n",
      "\u001b[34m[43]#011train-auc:0.993084\u001b[0m\n",
      "\u001b[34m[04:06:50] src/tree/updater_prune.cc:74: tree pruning end, 1 roots, 6 extra nodes, 6 pruned nodes, max_depth=3\u001b[0m\n",
      "\u001b[34m[44]#011train-auc:0.99342\u001b[0m\n",
      "\u001b[34m[04:06:50] src/tree/updater_prune.cc:74: tree pruning end, 1 roots, 12 extra nodes, 2 pruned nodes, max_depth=4\u001b[0m\n",
      "\u001b[34m[45]#011train-auc:0.994177\u001b[0m\n",
      "\u001b[34m[04:06:51] src/tree/updater_prune.cc:74: tree pruning end, 1 roots, 6 extra nodes, 8 pruned nodes, max_depth=2\u001b[0m\n",
      "\u001b[34m[46]#011train-auc:0.994731\u001b[0m\n",
      "\u001b[34m[04:06:51] src/tree/updater_prune.cc:74: tree pruning end, 1 roots, 10 extra nodes, 4 pruned nodes, max_depth=4\u001b[0m\n",
      "\u001b[34m[47]#011train-auc:0.994922\u001b[0m\n",
      "\u001b[34m[04:06:51] src/tree/updater_prune.cc:74: tree pruning end, 1 roots, 10 extra nodes, 2 pruned nodes, max_depth=5\u001b[0m\n",
      "\u001b[34m[48]#011train-auc:0.995612\u001b[0m\n",
      "\u001b[34m[04:06:51] src/tree/updater_prune.cc:74: tree pruning end, 1 roots, 6 extra nodes, 8 pruned nodes, max_depth=3\u001b[0m\n",
      "\u001b[34m[49]#011train-auc:0.995781\u001b[0m\n",
      "\u001b[34m[04:06:52] src/tree/updater_prune.cc:74: tree pruning end, 1 roots, 10 extra nodes, 2 pruned nodes, max_depth=3\u001b[0m\n",
      "\u001b[34m[50]#011train-auc:0.996431\u001b[0m\n",
      "\u001b[34m[04:06:52] src/tree/updater_prune.cc:74: tree pruning end, 1 roots, 10 extra nodes, 0 pruned nodes, max_depth=5\u001b[0m\n",
      "\u001b[34m[51]#011train-auc:0.99689\u001b[0m\n",
      "\u001b[34m[04:06:52] src/tree/updater_prune.cc:74: tree pruning end, 1 roots, 8 extra nodes, 6 pruned nodes, max_depth=4\u001b[0m\n",
      "\u001b[34m[52]#011train-auc:0.997131\u001b[0m\n",
      "\u001b[34m[04:06:53] src/tree/updater_prune.cc:74: tree pruning end, 1 roots, 10 extra nodes, 2 pruned nodes, max_depth=5\u001b[0m\n",
      "\u001b[34m[53]#011train-auc:0.997339\u001b[0m\n",
      "\u001b[34m[04:06:53] src/tree/updater_prune.cc:74: tree pruning end, 1 roots, 10 extra nodes, 2 pruned nodes, max_depth=4\u001b[0m\n",
      "\u001b[34m[54]#011train-auc:0.997585\u001b[0m\n",
      "\u001b[34m[04:06:53] src/tree/updater_prune.cc:74: tree pruning end, 1 roots, 10 extra nodes, 2 pruned nodes, max_depth=3\u001b[0m\n",
      "\u001b[34m[55]#011train-auc:0.997664\u001b[0m\n",
      "\u001b[34m[04:06:53] src/tree/updater_prune.cc:74: tree pruning end, 1 roots, 8 extra nodes, 4 pruned nodes, max_depth=4\u001b[0m\n",
      "\u001b[34m[56]#011train-auc:0.997756\u001b[0m\n",
      "\u001b[34m[04:06:54] src/tree/updater_prune.cc:74: tree pruning end, 1 roots, 8 extra nodes, 4 pruned nodes, max_depth=4\u001b[0m\n",
      "\u001b[34m[57]#011train-auc:0.997876\u001b[0m\n",
      "\u001b[34m[04:06:54] src/tree/updater_prune.cc:74: tree pruning end, 1 roots, 12 extra nodes, 2 pruned nodes, max_depth=4\u001b[0m\n",
      "\u001b[34m[58]#011train-auc:0.998077\u001b[0m\n",
      "\u001b[34m[04:06:54] src/tree/updater_prune.cc:74: tree pruning end, 1 roots, 10 extra nodes, 2 pruned nodes, max_depth=5\u001b[0m\n",
      "\u001b[34m[59]#011train-auc:0.998255\u001b[0m\n",
      "\u001b[34m[04:06:54] src/tree/updater_prune.cc:74: tree pruning end, 1 roots, 12 extra nodes, 0 pruned nodes, max_depth=5\u001b[0m\n",
      "\u001b[34m[60]#011train-auc:0.998552\u001b[0m\n",
      "\u001b[34m[04:06:55] src/tree/updater_prune.cc:74: tree pruning end, 1 roots, 10 extra nodes, 4 pruned nodes, max_depth=4\u001b[0m\n",
      "\u001b[34m[61]#011train-auc:0.998739\u001b[0m\n",
      "\u001b[34m[04:06:55] src/tree/updater_prune.cc:74: tree pruning end, 1 roots, 8 extra nodes, 4 pruned nodes, max_depth=4\u001b[0m\n",
      "\u001b[34m[62]#011train-auc:0.998727\u001b[0m\n",
      "\u001b[34m[04:06:55] src/tree/updater_prune.cc:74: tree pruning end, 1 roots, 10 extra nodes, 0 pruned nodes, max_depth=5\u001b[0m\n",
      "\u001b[34m[63]#011train-auc:0.998791\u001b[0m\n",
      "\u001b[34m[04:06:55] src/tree/updater_prune.cc:74: tree pruning end, 1 roots, 4 extra nodes, 10 pruned nodes, max_depth=2\u001b[0m\n",
      "\u001b[34m[64]#011train-auc:0.998871\u001b[0m\n",
      "\u001b[34m[04:06:56] src/tree/updater_prune.cc:74: tree pruning end, 1 roots, 10 extra nodes, 2 pruned nodes, max_depth=4\u001b[0m\n",
      "\u001b[34m[65]#011train-auc:0.998929\u001b[0m\n",
      "\u001b[34m[04:06:56] src/tree/updater_prune.cc:74: tree pruning end, 1 roots, 6 extra nodes, 8 pruned nodes, max_depth=3\u001b[0m\n",
      "\u001b[34m[66]#011train-auc:0.998964\u001b[0m\n",
      "\u001b[34m[04:06:56] src/tree/updater_prune.cc:74: tree pruning end, 1 roots, 6 extra nodes, 6 pruned nodes, max_depth=3\u001b[0m\n",
      "\u001b[34m[67]#011train-auc:0.998999\u001b[0m\n",
      "\u001b[34m[04:06:56] src/tree/updater_prune.cc:74: tree pruning end, 1 roots, 6 extra nodes, 6 pruned nodes, max_depth=3\u001b[0m\n",
      "\u001b[34m[68]#011train-auc:0.999064\u001b[0m\n",
      "\u001b[34m[04:06:57] src/tree/updater_prune.cc:74: tree pruning end, 1 roots, 6 extra nodes, 4 pruned nodes, max_depth=3\u001b[0m\n",
      "\u001b[34m[69]#011train-auc:0.999126\u001b[0m\n",
      "\u001b[34m[04:06:57] src/tree/updater_prune.cc:74: tree pruning end, 1 roots, 6 extra nodes, 8 pruned nodes, max_depth=2\u001b[0m\n",
      "\u001b[34m[70]#011train-auc:0.999158\u001b[0m\n",
      "\u001b[34m[04:06:57] src/tree/updater_prune.cc:74: tree pruning end, 1 roots, 12 extra nodes, 2 pruned nodes, max_depth=4\u001b[0m\n",
      "\u001b[34m[71]#011train-auc:0.999197\u001b[0m\n",
      "\u001b[34m[04:06:58] src/tree/updater_prune.cc:74: tree pruning end, 1 roots, 2 extra nodes, 10 pruned nodes, max_depth=1\u001b[0m\n",
      "\u001b[34m[72]#011train-auc:0.999185\u001b[0m\n",
      "\u001b[34m[04:06:58] src/tree/updater_prune.cc:74: tree pruning end, 1 roots, 8 extra nodes, 2 pruned nodes, max_depth=3\u001b[0m\n",
      "\u001b[34m[73]#011train-auc:0.999234\u001b[0m\n",
      "\u001b[34m[04:06:58] src/tree/updater_prune.cc:74: tree pruning end, 1 roots, 6 extra nodes, 4 pruned nodes, max_depth=3\u001b[0m\n",
      "\u001b[34m[74]#011train-auc:0.999266\u001b[0m\n",
      "\u001b[34m[04:06:58] src/tree/updater_prune.cc:74: tree pruning end, 1 roots, 6 extra nodes, 6 pruned nodes, max_depth=2\u001b[0m\n",
      "\u001b[34m[75]#011train-auc:0.999226\u001b[0m\n",
      "\u001b[34m[04:06:59] src/tree/updater_prune.cc:74: tree pruning end, 1 roots, 8 extra nodes, 4 pruned nodes, max_depth=4\u001b[0m\n",
      "\u001b[34m[76]#011train-auc:0.999222\u001b[0m\n",
      "\u001b[34m[04:06:59] src/tree/updater_prune.cc:74: tree pruning end, 1 roots, 10 extra nodes, 2 pruned nodes, max_depth=4\u001b[0m\n",
      "\u001b[34m[77]#011train-auc:0.999258\u001b[0m\n",
      "\u001b[34m[04:06:59] src/tree/updater_prune.cc:74: tree pruning end, 1 roots, 10 extra nodes, 2 pruned nodes, max_depth=4\u001b[0m\n",
      "\u001b[34m[78]#011train-auc:0.999283\u001b[0m\n",
      "\u001b[34m[04:06:59] src/tree/updater_prune.cc:74: tree pruning end, 1 roots, 8 extra nodes, 2 pruned nodes, max_depth=4\u001b[0m\n",
      "\u001b[34m[79]#011train-auc:0.999323\u001b[0m\n",
      "\u001b[34m[04:07:00] src/tree/updater_prune.cc:74: tree pruning end, 1 roots, 0 extra nodes, 12 pruned nodes, max_depth=0\u001b[0m\n",
      "\u001b[34m[80]#011train-auc:0.999323\u001b[0m\n",
      "\u001b[34m[04:07:00] src/tree/updater_prune.cc:74: tree pruning end, 1 roots, 0 extra nodes, 10 pruned nodes, max_depth=0\u001b[0m\n",
      "\u001b[34m[81]#011train-auc:0.999323\u001b[0m\n",
      "\u001b[34m[04:07:00] src/tree/updater_prune.cc:74: tree pruning end, 1 roots, 4 extra nodes, 6 pruned nodes, max_depth=2\u001b[0m\n",
      "\u001b[34m[82]#011train-auc:0.999318\u001b[0m\n",
      "\u001b[34m[04:07:00] src/tree/updater_prune.cc:74: tree pruning end, 1 roots, 6 extra nodes, 6 pruned nodes, max_depth=3\u001b[0m\n",
      "\u001b[34m[83]#011train-auc:0.999363\u001b[0m\n",
      "\u001b[34m[04:07:01] src/tree/updater_prune.cc:74: tree pruning end, 1 roots, 4 extra nodes, 6 pruned nodes, max_depth=2\u001b[0m\n",
      "\u001b[34m[84]#011train-auc:0.999412\u001b[0m\n",
      "\u001b[34m[04:07:01] src/tree/updater_prune.cc:74: tree pruning end, 1 roots, 10 extra nodes, 2 pruned nodes, max_depth=4\u001b[0m\n",
      "\u001b[34m[85]#011train-auc:0.999481\u001b[0m\n",
      "\u001b[34m[04:07:01] src/tree/updater_prune.cc:74: tree pruning end, 1 roots, 0 extra nodes, 12 pruned nodes, max_depth=0\u001b[0m\n",
      "\u001b[34m[86]#011train-auc:0.999481\u001b[0m\n",
      "\u001b[34m[04:07:01] src/tree/updater_prune.cc:74: tree pruning end, 1 roots, 0 extra nodes, 12 pruned nodes, max_depth=0\u001b[0m\n",
      "\u001b[34m[87]#011train-auc:0.999481\u001b[0m\n",
      "\u001b[34m[04:07:02] src/tree/updater_prune.cc:74: tree pruning end, 1 roots, 8 extra nodes, 2 pruned nodes, max_depth=4\u001b[0m\n",
      "\u001b[34m[88]#011train-auc:0.999479\u001b[0m\n",
      "\u001b[34m[04:07:02] src/tree/updater_prune.cc:74: tree pruning end, 1 roots, 6 extra nodes, 6 pruned nodes, max_depth=3\u001b[0m\n",
      "\u001b[34m[89]#011train-auc:0.999471\u001b[0m\n",
      "\u001b[34m[04:07:02] src/tree/updater_prune.cc:74: tree pruning end, 1 roots, 4 extra nodes, 8 pruned nodes, max_depth=2\u001b[0m\n",
      "\u001b[34m[90]#011train-auc:0.999492\u001b[0m\n",
      "\u001b[34m[04:07:03] src/tree/updater_prune.cc:74: tree pruning end, 1 roots, 6 extra nodes, 2 pruned nodes, max_depth=3\u001b[0m\n",
      "\u001b[34m[91]#011train-auc:0.999511\u001b[0m\n",
      "\u001b[34m[04:07:03] src/tree/updater_prune.cc:74: tree pruning end, 1 roots, 8 extra nodes, 4 pruned nodes, max_depth=3\u001b[0m\n",
      "\u001b[34m[92]#011train-auc:0.99956\u001b[0m\n",
      "\u001b[34m[04:07:03] src/tree/updater_prune.cc:74: tree pruning end, 1 roots, 0 extra nodes, 10 pruned nodes, max_depth=0\u001b[0m\n",
      "\u001b[34m[93]#011train-auc:0.99956\u001b[0m\n",
      "\u001b[34m[04:07:03] src/tree/updater_prune.cc:74: tree pruning end, 1 roots, 0 extra nodes, 12 pruned nodes, max_depth=0\u001b[0m\n",
      "\u001b[34m[94]#011train-auc:0.99956\u001b[0m\n",
      "\u001b[34m[04:07:04] src/tree/updater_prune.cc:74: tree pruning end, 1 roots, 4 extra nodes, 8 pruned nodes, max_depth=2\u001b[0m\n",
      "\u001b[34m[95]#011train-auc:0.99955\u001b[0m\n",
      "\u001b[34m[04:07:04] src/tree/updater_prune.cc:74: tree pruning end, 1 roots, 6 extra nodes, 4 pruned nodes, max_depth=3\u001b[0m\n",
      "\u001b[34m[96]#011train-auc:0.999555\u001b[0m\n",
      "\u001b[34m[04:07:04] src/tree/updater_prune.cc:74: tree pruning end, 1 roots, 8 extra nodes, 0 pruned nodes, max_depth=4\u001b[0m\n",
      "\u001b[34m[97]#011train-auc:0.999594\u001b[0m\n",
      "\u001b[34m[04:07:05] src/tree/updater_prune.cc:74: tree pruning end, 1 roots, 0 extra nodes, 10 pruned nodes, max_depth=0\u001b[0m\n",
      "\u001b[34m[98]#011train-auc:0.999594\u001b[0m\n",
      "\u001b[34m[04:07:05] src/tree/updater_prune.cc:74: tree pruning end, 1 roots, 0 extra nodes, 10 pruned nodes, max_depth=0\u001b[0m\n",
      "\u001b[34m[99]#011train-auc:0.999594\u001b[0m\n",
      "\n",
      "2021-08-24 04:07:16 Uploading - Uploading generated training model\n",
      "2021-08-24 04:07:16 Completed - Training job completed\n",
      "Training seconds: 88\n",
      "Billable seconds: 88\n"
     ]
    }
   ],
   "source": [
    "xgb.fit({'train': s3_train_data}) "
   ]
  },
  {
   "cell_type": "markdown",
   "metadata": {},
   "source": [
    "### Host XGBoost Model\n"
   ]
  },
  {
   "cell_type": "markdown",
   "metadata": {},
   "source": [
    "Now we deploy the estimator to and endpoint."
   ]
  },
  {
   "cell_type": "code",
   "execution_count": 144,
   "metadata": {},
   "outputs": [
    {
     "name": "stderr",
     "output_type": "stream",
     "text": [
      "Using already existing model: fraud-detection-xgb\n"
     ]
    },
    {
     "name": "stdout",
     "output_type": "stream",
     "text": [
      "-------------!"
     ]
    }
   ],
   "source": [
    "from sagemaker.predictor import CSVDeserializer,CSVSerializer\n",
    "\n",
    "predictor = xgb.deploy(initial_instance_count=1,\n",
    "                       model_name=\"{}-xgb\".format(\"fraud-detection\"),\n",
    "                       endpoint_name=\"{}-xgb\".format(\"fraud-detection\"),\n",
    "                       instance_type=\"ml.c5.xlarge\",\n",
    "                       serializer=CSVSerializer(),\n",
    "                       deserializer=None)"
   ]
  },
  {
   "cell_type": "code",
   "execution_count": null,
   "metadata": {},
   "outputs": [],
   "source": [
    "\n",
    "from sagemaker.predictor import CSVDeserializer,CSVSerializer,JSONDeserializer\n",
    "xgb_predictor.serializer = CSVSerializer()\n",
    "xgb_predictor.deserializer = None"
   ]
  },
  {
   "cell_type": "markdown",
   "metadata": {},
   "source": [
    "### Evaluate\n",
    "\n",
    "Now that we have a hosted endpoint running, we can make real-time predictions from our model very easily, \n",
    "simply by making an http POST request.  But first, we'll need to setup serializers and deserializers for passing our `test_data` NumPy arrays to the model behind the endpoint."
   ]
  },
  {
   "cell_type": "code",
   "execution_count": 145,
   "metadata": {},
   "outputs": [],
   "source": [
    "# Because we have a large test set, we call predict on smaller batches\n",
    "def predict(current_predictor, data, rows=500):\n",
    "    split_array = np.array_split(data, int(data.shape[0] / float(rows) + 1))\n",
    "    predictions = ''\n",
    "    for array in split_array:\n",
    "        predictions = ','.join([predictions, current_predictor.predict(array).decode('utf-8')])\n",
    "\n",
    "    return np.fromstring(predictions[1:], sep=',')"
   ]
  },
  {
   "cell_type": "code",
   "execution_count": 146,
   "metadata": {},
   "outputs": [],
   "source": [
    "raw_preds = predict(predictor, X_test)"
   ]
  },
  {
   "cell_type": "markdown",
   "metadata": {},
   "source": [
    "We will use a few measures from the scikit-learn package to evaluate the performance of our model. When dealing with an imbalanced dataset, we need to choose metrics that take into account the frequency of each class in the data.\n",
    "\n",
    "Two such metrics are the [balanced accuracy score](https://scikit-learn.org/stable/modules/model_evaluation.html#balanced-accuracy-score), and [Cohen's Kappa](https://scikit-learn.org/stable/modules/model_evaluation.html#cohen-s-kappa)."
   ]
  },
  {
   "cell_type": "code",
   "execution_count": 147,
   "metadata": {},
   "outputs": [
    {
     "name": "stdout",
     "output_type": "stream",
     "text": [
      "Balanced accuracy = 0.9473075048732944\n",
      "Cohen's Kappa = 0.9187363152955896\n"
     ]
    }
   ],
   "source": [
    "from sklearn.metrics import balanced_accuracy_score, cohen_kappa_score\n",
    "\n",
    "# scikit-learn expects 0/1 predictions, so we threshold our raw predictions\n",
    "y_preds = np.where(raw_preds > 0.5, 1, 0)\n",
    "print(\"Balanced accuracy = {}\".format(balanced_accuracy_score(y_test, y_preds)))\n",
    "print(\"Cohen's Kappa = {}\".format(cohen_kappa_score(y_test, y_preds)))"
   ]
  },
  {
   "cell_type": "markdown",
   "metadata": {},
   "source": [
    "We can already see that our model performs very well in terms of both metrics, Cohen's Kappa scores above 0.8 are generally very favorable."
   ]
  },
  {
   "cell_type": "markdown",
   "metadata": {},
   "source": [
    "Apart from single-value metrics, it's also useful to look at metrics that indicate performance per class. A confusion matrix, and per-class precision, recall and f1-score can also provide more information about the model's performance."
   ]
  },
  {
   "cell_type": "code",
   "execution_count": 149,
   "metadata": {},
   "outputs": [],
   "source": [
    "import matplotlib.pyplot as plt\n",
    "import seaborn as sns\n",
    "from sklearn.metrics import confusion_matrix\n",
    "\n",
    "def plot_confusion_matrix(y_true, y_predicted):\n",
    "\n",
    "    cm  = confusion_matrix(y_true, y_predicted)\n",
    "    # Get the per-class normalized value for each cell\n",
    "    cm_norm = cm.astype('float') / cm.sum(axis=1)[:, np.newaxis]\n",
    "    \n",
    "    # We color each cell according to its normalized value, annotate with exact counts.\n",
    "    ax = sns.heatmap(cm_norm, annot=cm, fmt=\"d\")\n",
    "    ax.set(xticklabels=[\"non-fraud\", \"fraud\"], yticklabels=[\"non-fraud\", \"fraud\"])\n",
    "    ax.set_ylim([0,2])\n",
    "    plt.title('Confusion Matrix')\n",
    "    plt.ylabel('Real Classes')\n",
    "    plt.xlabel('Predicted Classes')\n",
    "    plt.show()"
   ]
  },
  {
   "cell_type": "code",
   "execution_count": 150,
   "metadata": {},
   "outputs": [
    {
     "data": {
      "image/png": "[encoded data removed]",
      "text/plain": [
       "<Figure size 432x288 with 2 Axes>"
      ]
     },
     "metadata": {
      "needs_background": "light"
     },
     "output_type": "display_data"
    }
   ],
   "source": [
    "plot_confusion_matrix(y_test, y_preds)"
   ]
  },
  {
   "cell_type": "code",
   "execution_count": 151,
   "metadata": {},
   "outputs": [
    {
     "name": "stdout",
     "output_type": "stream",
     "text": [
      "              precision    recall  f1-score   support\n",
      "\n",
      "   non-fraud       1.00      1.00      1.00     16416\n",
      "       fraud       0.94      0.89      0.92        38\n",
      "\n",
      "    accuracy                           1.00     16454\n",
      "   macro avg       0.97      0.95      0.96     16454\n",
      "weighted avg       1.00      1.00      1.00     16454\n",
      "\n"
     ]
    }
   ],
   "source": [
    "from sklearn.metrics import classification_report\n",
    "\n",
    "print(classification_report(\n",
    "    y_test, y_preds, target_names=['non-fraud', 'fraud']))"
   ]
  },
  {
   "cell_type": "markdown",
   "metadata": {},
   "source": [
    "### SMOTE"
   ]
  },
  {
   "cell_type": "markdown",
   "metadata": {},
   "source": [
    "Now that we have a baseline model using XGBoost, we can try to see if sampling techniques that are designed specifically for imbalanced problems can improve the performance of the model.\n",
    "\n",
    "For that purpose we will be using the [imbalanced-learn](https://imbalanced-learn.readthedocs.io/en/stable/index.html) package that works well with scikit-learn. \n",
    "\n",
    "We will be using [Sythetic Minority Over-sampling](https://arxiv.org/abs/1106.1813) (SMOTE), which oversamples the minority class by interpolating new data points between existing ones."
   ]
  },
  {
   "cell_type": "code",
   "execution_count": 160,
   "metadata": {},
   "outputs": [
    {
     "name": "stdout",
     "output_type": "stream",
     "text": [
      "/opt/conda/lib/python3.7/site-packages/secretstorage/dhcrypto.py:16: CryptographyDeprecationWarning: int_from_bytes is deprecated, use int.from_bytes instead\n",
      "  from cryptography.utils import int_from_bytes\n",
      "/opt/conda/lib/python3.7/site-packages/secretstorage/util.py:25: CryptographyDeprecationWarning: int_from_bytes is deprecated, use int.from_bytes instead\n",
      "  from cryptography.utils import int_from_bytes\n",
      "Collecting imbalanced-learn==0.6.0\n",
      "  Downloading imbalanced_learn-0.6.0-py3-none-any.whl (162 kB)\n",
      "\u001b[K     |████████████████████████████████| 162 kB 23.4 MB/s eta 0:00:01\n",
      "\u001b[?25hRequirement already satisfied: numpy>=1.11 in /opt/conda/lib/python3.7/site-packages (from imbalanced-learn==0.6.0) (1.21.1)\n",
      "Requirement already satisfied: scikit-learn>=0.22 in /opt/conda/lib/python3.7/site-packages (from imbalanced-learn==0.6.0) (0.24.2)\n",
      "Requirement already satisfied: scipy>=0.17 in /opt/conda/lib/python3.7/site-packages (from imbalanced-learn==0.6.0) (1.4.1)\n",
      "Requirement already satisfied: joblib>=0.11 in /opt/conda/lib/python3.7/site-packages (from imbalanced-learn==0.6.0) (0.14.1)\n",
      "Requirement already satisfied: threadpoolctl>=2.0.0 in /opt/conda/lib/python3.7/site-packages (from scikit-learn>=0.22->imbalanced-learn==0.6.0) (2.2.0)\n",
      "Installing collected packages: imbalanced-learn\n",
      "  Attempting uninstall: imbalanced-learn\n",
      "    Found existing installation: imbalanced-learn 0.8.0\n",
      "    Uninstalling imbalanced-learn-0.8.0:\n",
      "      Successfully uninstalled imbalanced-learn-0.8.0\n",
      "Successfully installed imbalanced-learn-0.7.0\n",
      "\u001b[33mWARNING: Running pip as the 'root' user can result in broken permissions and conflicting behaviour with the system package manager. It is recommended to use a virtual environment instead: https://pip.pypa.io/warnings/venv\u001b[0m\n",
      "\u001b[33mWARNING: You are using pip version 21.1.3; however, version 21.2.4 is available.\n",
      "You should consider upgrading via the '/opt/conda/bin/python -m pip install --upgrade pip' command.\u001b[0m\n",
      "/opt/conda/lib/python3.7/site-packages/secretstorage/dhcrypto.py:16: CryptographyDeprecationWarning: int_from_bytes is deprecated, use int.from_bytes instead\n",
      "  from cryptography.utils import int_from_bytes\n",
      "/opt/conda/lib/python3.7/site-packages/secretstorage/util.py:25: CryptographyDeprecationWarning: int_from_bytes is deprecated, use int.from_bytes instead\n",
      "  from cryptography.utils import int_from_bytes\n",
      "Collecting scikit-learn==0.22.1\n",
      "  Downloading scikit_learn-0.22.1-cp37-cp37m-manylinux1_x86_64.whl (7.0 MB)\n",
      "\u001b[K     |████████████████████████████████| 7.0 MB 23.5 MB/s eta 0:00:01\n",
      "\u001b[?25hRequirement already satisfied: joblib>=0.11 in /opt/conda/lib/python3.7/site-packages (from scikit-learn==0.22.1) (0.14.1)\n",
      "Requirement already satisfied: scipy>=0.17.0 in /opt/conda/lib/python3.7/site-packages (from scikit-learn==0.22.1) (1.4.1)\n",
      "Requirement already satisfied: numpy>=1.11.0 in /opt/conda/lib/python3.7/site-packages (from scikit-learn==0.22.1) (1.21.1)\n",
      "Installing collected packages: scikit-learn\n",
      "  Attempting uninstall: scikit-learn\n",
      "    Found existing installation: scikit-learn 0.24.2\n",
      "    Uninstalling scikit-learn-0.24.2:\n",
      "      Successfully uninstalled scikit-learn-0.24.2\n",
      "\u001b[31mERROR: pip's dependency resolver does not currently take into account all the packages that are installed. This behaviour is the source of the following dependency conflicts.\n",
      "imbalanced-learn 0.7.0 requires scikit-learn>=0.23, but you have scikit-learn 0.22.1 which is incompatible.\u001b[0m\n",
      "Successfully installed scikit-learn-0.22.1\n",
      "\u001b[33mWARNING: Running pip as the 'root' user can result in broken permissions and conflicting behaviour with the system package manager. It is recommended to use a virtual environment instead: https://pip.pypa.io/warnings/venv\u001b[0m\n",
      "\u001b[33mWARNING: You are using pip version 21.1.3; however, version 21.2.4 is available.\n",
      "You should consider upgrading via the '/opt/conda/bin/python -m pip install --upgrade pip' command.\u001b[0m\n"
     ]
    }
   ],
   "source": [
    "!pip install imbalanced-learn==0.6.0\n",
    "!pip install scikit-learn==0.22.1\n"
   ]
  },
  {
   "cell_type": "code",
   "execution_count": 161,
   "metadata": {},
   "outputs": [],
   "source": [
    "from imblearn.over_sampling import SMOTE\n",
    "\n",
    "smote = SMOTE(random_state=42)\n",
    "X_smote, y_smote = smote.fit_resample(X_train, y_train)"
   ]
  },
  {
   "cell_type": "markdown",
   "metadata": {},
   "source": [
    "We can see that SMOTE has now balanced the two classes:"
   ]
  },
  {
   "cell_type": "code",
   "execution_count": 163,
   "metadata": {},
   "outputs": [
    {
     "name": "stdout",
     "output_type": "stream",
     "text": [
      "[(0.0, 147759), (1.0, 147759)]\n"
     ]
    }
   ],
   "source": [
    "from collections import Counter\n",
    "print(sorted(Counter(y_smote).items()))"
   ]
  },
  {
   "cell_type": "markdown",
   "metadata": {},
   "source": [
    "We note that this is a case of extreme oversampling of the the minority class, we went from ~0.17% to 50%. An alternative would be to use a smaller resampling ratio, such as having one minority cl\n",
    "ass sample for every `sqrt(non_fraud/fraud)` majority samples, or using more advanced resampling techniques. See the [comparison](https://imbalanced-learn.readthedocs.io/en/stable/auto_examples/over-sampling/plot_comparison_over_sampling.html#sphx-glr-auto-examples-over-sampling-plot-comparison-over-sampling-py) provided by imbalanced-learn for more over-sampling options."
   ]
  },
  {
   "cell_type": "markdown",
   "metadata": {},
   "source": [
    "In our case we'll use the SMOTE dataset we just created and upload it to S3 for training."
   ]
  },
  {
   "cell_type": "code",
   "execution_count": 164,
   "metadata": {},
   "outputs": [
    {
     "name": "stdout",
     "output_type": "stream",
     "text": [
      "Uploaded training data location: s3://sagemaker-us-east-1-365792799466/sagemaker-featurestore-demo/train/smote/fraud-dataset-smote\n",
      "Training artifacts will be uploaded to: s3://sagemaker-us-east-1-365792799466/sagemaker-featurestore-demo/smote-output\n"
     ]
    }
   ],
   "source": [
    "smote_buf = io.BytesIO()\n",
    "\n",
    "# Dump the SMOTE data into a buffer\n",
    "sklearn.datasets.dump_svmlight_file(X_smote, y_smote, smote_buf)\n",
    "smote_buf.seek(0);\n",
    "\n",
    "# Upload from the buffer to S3\n",
    "key = 'fraud-dataset-smote'\n",
    "subdir = 'smote'\n",
    "boto3.resource('s3', region_name=region).Bucket(default_s3_bucket_name).Object(os.path.join(prefix, 'train', subdir, key)).upload_fileobj(smote_buf)\n",
    "\n",
    "s3_smote_train_data = 's3://{}/{}/train/{}/{}'.format(bucket, prefix, subdir, key)\n",
    "print('Uploaded training data location: {}'.format(s3_smote_train_data))\n",
    "\n",
    "smote_output_location = 's3://{}/{}/smote-output'.format(bucket, prefix)\n",
    "print('Training artifacts will be uploaded to: {}'.format(smote_output_location))"
   ]
  },
  {
   "cell_type": "code",
   "execution_count": 167,
   "metadata": {},
   "outputs": [],
   "source": [
    "smote_xgb = sagemaker.estimator.Estimator(container,\n",
    "                                    role=sagemaker_iam_role, \n",
    "                                    instance_count=1, \n",
    "                                    instance_type='ml.m4.xlarge',\n",
    "                                    output_path=output_location,\n",
    "                                    sagemaker_session=session)\n",
    "smote_xgb.set_hyperparameters(max_depth=5,\n",
    "                        eval_metric='auc',\n",
    "                        eta=0.2,\n",
    "                        gamma=4,\n",
    "                        min_child_weight=6,\n",
    "                        subsample=0.8,\n",
    "                        silent=0,\n",
    "                        objective='binary:logistic',\n",
    "                        num_round=100)"
   ]
  },
  {
   "cell_type": "code",
   "execution_count": 168,
   "metadata": {
    "scrolled": true
   },
   "outputs": [
    {
     "name": "stdout",
     "output_type": "stream",
     "text": [
      "2021-08-23 18:39:38 Starting - Starting the training job...\n",
      "2021-08-23 18:40:03 Starting - Launching requested ML instancesProfilerReport-1629743978: InProgress\n",
      ".........\n",
      "2021-08-23 18:41:23 Starting - Preparing the instances for training......\n",
      "2021-08-23 18:42:38 Downloading - Downloading input data...\n",
      "2021-08-23 18:43:05 Training - Downloading the training image...\n",
      "2021-08-23 18:43:26 Training - Training image download completed. Training in progress.\u001b[34mArguments: train\u001b[0m\n",
      "\u001b[34m[2021-08-23:18:43:27:INFO] Running standalone xgboost training.\u001b[0m\n",
      "\u001b[34m[2021-08-23:18:43:27:INFO] Path /opt/ml/input/data/validation does not exist!\u001b[0m\n",
      "\u001b[34m[2021-08-23:18:43:27:INFO] File size need to be processed in the node: 181.05mb. Available memory size in the node: 8404.46mb\u001b[0m\n",
      "\u001b[34m[18:43:27] S3DistributionType set as FullyReplicated\u001b[0m\n",
      "\u001b[34m[18:43:28] 295518x30 matrix with 8863812 entries loaded from /opt/ml/input/data/train\u001b[0m\n",
      "\u001b[34m[18:43:29] src/tree/updater_prune.cc:74: tree pruning end, 1 roots, 48 extra nodes, 0 pruned nodes, max_depth=5\u001b[0m\n",
      "\u001b[34m[0]#011train-auc:0.992888\u001b[0m\n",
      "\u001b[34m[18:43:29] src/tree/updater_prune.cc:74: tree pruning end, 1 roots, 46 extra nodes, 0 pruned nodes, max_depth=5\u001b[0m\n",
      "\u001b[34m[1]#011train-auc:0.994057\u001b[0m\n",
      "\u001b[34m[18:43:30] src/tree/updater_prune.cc:74: tree pruning end, 1 roots, 48 extra nodes, 2 pruned nodes, max_depth=5\u001b[0m\n",
      "\u001b[34m[2]#011train-auc:0.99471\u001b[0m\n",
      "\u001b[34m[18:43:31] src/tree/updater_prune.cc:74: tree pruning end, 1 roots, 56 extra nodes, 2 pruned nodes, max_depth=5\u001b[0m\n",
      "\u001b[34m[3]#011train-auc:0.996419\u001b[0m\n",
      "\u001b[34m[18:43:31] src/tree/updater_prune.cc:74: tree pruning end, 1 roots, 56 extra nodes, 0 pruned nodes, max_depth=5\u001b[0m\n",
      "\u001b[34m[4]#011train-auc:0.996853\u001b[0m\n",
      "\u001b[34m[18:43:32] src/tree/updater_prune.cc:74: tree pruning end, 1 roots, 56 extra nodes, 0 pruned nodes, max_depth=5\u001b[0m\n",
      "\u001b[34m[5]#011train-auc:0.997047\u001b[0m\n",
      "\u001b[34m[18:43:33] src/tree/updater_prune.cc:74: tree pruning end, 1 roots, 48 extra nodes, 8 pruned nodes, max_depth=5\u001b[0m\n",
      "\u001b[34m[6]#011train-auc:0.997635\u001b[0m\n",
      "\u001b[34m[18:43:34] src/tree/updater_prune.cc:74: tree pruning end, 1 roots, 56 extra nodes, 2 pruned nodes, max_depth=5\u001b[0m\n",
      "\u001b[34m[7]#011train-auc:0.997814\u001b[0m\n",
      "\u001b[34m[18:43:34] src/tree/updater_prune.cc:74: tree pruning end, 1 roots, 58 extra nodes, 2 pruned nodes, max_depth=5\u001b[0m\n",
      "\u001b[34m[8]#011train-auc:0.997991\u001b[0m\n",
      "\u001b[34m[18:43:35] src/tree/updater_prune.cc:74: tree pruning end, 1 roots, 56 extra nodes, 4 pruned nodes, max_depth=5\u001b[0m\n",
      "\u001b[34m[9]#011train-auc:0.998185\u001b[0m\n",
      "\u001b[34m[18:43:35] src/tree/updater_prune.cc:74: tree pruning end, 1 roots, 56 extra nodes, 2 pruned nodes, max_depth=5\u001b[0m\n",
      "\u001b[34m[10]#011train-auc:0.998691\u001b[0m\n",
      "\u001b[34m[18:43:36] src/tree/updater_prune.cc:74: tree pruning end, 1 roots, 50 extra nodes, 6 pruned nodes, max_depth=5\u001b[0m\n",
      "\u001b[34m[11]#011train-auc:0.998967\u001b[0m\n",
      "\u001b[34m[18:43:37] src/tree/updater_prune.cc:74: tree pruning end, 1 roots, 44 extra nodes, 2 pruned nodes, max_depth=5\u001b[0m\n",
      "\u001b[34m[12]#011train-auc:0.999081\u001b[0m\n",
      "\u001b[34m[18:43:37] src/tree/updater_prune.cc:74: tree pruning end, 1 roots, 44 extra nodes, 2 pruned nodes, max_depth=5\u001b[0m\n",
      "\u001b[34m[13]#011train-auc:0.999182\u001b[0m\n",
      "\u001b[34m[18:43:38] src/tree/updater_prune.cc:74: tree pruning end, 1 roots, 42 extra nodes, 0 pruned nodes, max_depth=5\u001b[0m\n",
      "\u001b[34m[14]#011train-auc:0.999208\u001b[0m\n",
      "\u001b[34m[18:43:39] src/tree/updater_prune.cc:74: tree pruning end, 1 roots, 42 extra nodes, 4 pruned nodes, max_depth=5\u001b[0m\n",
      "\u001b[34m[15]#011train-auc:0.999301\u001b[0m\n",
      "\u001b[34m[18:43:39] src/tree/updater_prune.cc:74: tree pruning end, 1 roots, 40 extra nodes, 2 pruned nodes, max_depth=5\u001b[0m\n",
      "\u001b[34m[16]#011train-auc:0.999391\u001b[0m\n",
      "\u001b[34m[18:43:40] src/tree/updater_prune.cc:74: tree pruning end, 1 roots, 40 extra nodes, 2 pruned nodes, max_depth=5\u001b[0m\n",
      "\u001b[34m[17]#011train-auc:0.999425\u001b[0m\n",
      "\u001b[34m[18:43:40] src/tree/updater_prune.cc:74: tree pruning end, 1 roots, 40 extra nodes, 4 pruned nodes, max_depth=5\u001b[0m\n",
      "\u001b[34m[18]#011train-auc:0.999471\u001b[0m\n",
      "\u001b[34m[18:43:41] src/tree/updater_prune.cc:74: tree pruning end, 1 roots, 38 extra nodes, 4 pruned nodes, max_depth=5\u001b[0m\n",
      "\u001b[34m[19]#011train-auc:0.999536\u001b[0m\n",
      "\u001b[34m[18:43:42] src/tree/updater_prune.cc:74: tree pruning end, 1 roots, 40 extra nodes, 2 pruned nodes, max_depth=5\u001b[0m\n",
      "\u001b[34m[20]#011train-auc:0.999566\u001b[0m\n",
      "\u001b[34m[18:43:42] src/tree/updater_prune.cc:74: tree pruning end, 1 roots, 38 extra nodes, 4 pruned nodes, max_depth=5\u001b[0m\n",
      "\u001b[34m[21]#011train-auc:0.999653\u001b[0m\n",
      "\u001b[34m[18:43:43] src/tree/updater_prune.cc:74: tree pruning end, 1 roots, 38 extra nodes, 4 pruned nodes, max_depth=5\u001b[0m\n",
      "\u001b[34m[22]#011train-auc:0.999673\u001b[0m\n",
      "\u001b[34m[18:43:43] src/tree/updater_prune.cc:74: tree pruning end, 1 roots, 30 extra nodes, 8 pruned nodes, max_depth=5\u001b[0m\n",
      "\u001b[34m[23]#011train-auc:0.999698\u001b[0m\n",
      "\u001b[34m[18:43:44] src/tree/updater_prune.cc:74: tree pruning end, 1 roots, 24 extra nodes, 12 pruned nodes, max_depth=5\u001b[0m\n",
      "\u001b[34m[24]#011train-auc:0.999718\u001b[0m\n",
      "\u001b[34m[18:43:45] src/tree/updater_prune.cc:74: tree pruning end, 1 roots, 44 extra nodes, 4 pruned nodes, max_depth=5\u001b[0m\n",
      "\u001b[34m[25]#011train-auc:0.999746\u001b[0m\n",
      "\u001b[34m[18:43:45] src/tree/updater_prune.cc:74: tree pruning end, 1 roots, 42 extra nodes, 4 pruned nodes, max_depth=5\u001b[0m\n",
      "\u001b[34m[26]#011train-auc:0.999764\u001b[0m\n",
      "\u001b[34m[18:43:46] src/tree/updater_prune.cc:74: tree pruning end, 1 roots, 26 extra nodes, 12 pruned nodes, max_depth=5\u001b[0m\n",
      "\u001b[34m[27]#011train-auc:0.999799\u001b[0m\n",
      "\u001b[34m[18:43:47] src/tree/updater_prune.cc:74: tree pruning end, 1 roots, 50 extra nodes, 2 pruned nodes, max_depth=5\u001b[0m\n",
      "\u001b[34m[28]#011train-auc:0.999828\u001b[0m\n",
      "\u001b[34m[18:43:47] src/tree/updater_prune.cc:74: tree pruning end, 1 roots, 34 extra nodes, 2 pruned nodes, max_depth=5\u001b[0m\n",
      "\u001b[34m[29]#011train-auc:0.999842\u001b[0m\n",
      "\u001b[34m[18:43:48] src/tree/updater_prune.cc:74: tree pruning end, 1 roots, 44 extra nodes, 6 pruned nodes, max_depth=5\u001b[0m\n",
      "\u001b[34m[30]#011train-auc:0.999855\u001b[0m\n",
      "\u001b[34m[18:43:48] src/tree/updater_prune.cc:74: tree pruning end, 1 roots, 30 extra nodes, 0 pruned nodes, max_depth=5\u001b[0m\n",
      "\u001b[34m[31]#011train-auc:0.999862\u001b[0m\n",
      "\u001b[34m[18:43:49] src/tree/updater_prune.cc:74: tree pruning end, 1 roots, 36 extra nodes, 4 pruned nodes, max_depth=5\u001b[0m\n",
      "\u001b[34m[32]#011train-auc:0.999867\u001b[0m\n",
      "\u001b[34m[18:43:50] src/tree/updater_prune.cc:74: tree pruning end, 1 roots, 24 extra nodes, 10 pruned nodes, max_depth=5\u001b[0m\n",
      "\u001b[34m[33]#011train-auc:0.999874\u001b[0m\n",
      "\u001b[34m[18:43:50] src/tree/updater_prune.cc:74: tree pruning end, 1 roots, 24 extra nodes, 2 pruned nodes, max_depth=5\u001b[0m\n",
      "\u001b[34m[34]#011train-auc:0.999882\u001b[0m\n",
      "\u001b[34m[18:43:51] src/tree/updater_prune.cc:74: tree pruning end, 1 roots, 36 extra nodes, 10 pruned nodes, max_depth=5\u001b[0m\n",
      "\u001b[34m[35]#011train-auc:0.999884\u001b[0m\n",
      "\u001b[34m[18:43:51] src/tree/updater_prune.cc:74: tree pruning end, 1 roots, 16 extra nodes, 6 pruned nodes, max_depth=5\u001b[0m\n",
      "\u001b[34m[36]#011train-auc:0.999885\u001b[0m\n",
      "\u001b[34m[18:43:52] src/tree/updater_prune.cc:74: tree pruning end, 1 roots, 44 extra nodes, 6 pruned nodes, max_depth=5\u001b[0m\n",
      "\u001b[34m[37]#011train-auc:0.999894\u001b[0m\n",
      "\u001b[34m[18:43:53] src/tree/updater_prune.cc:74: tree pruning end, 1 roots, 18 extra nodes, 0 pruned nodes, max_depth=5\u001b[0m\n",
      "\u001b[34m[38]#011train-auc:0.999896\u001b[0m\n",
      "\u001b[34m[18:43:53] src/tree/updater_prune.cc:74: tree pruning end, 1 roots, 28 extra nodes, 2 pruned nodes, max_depth=5\u001b[0m\n",
      "\u001b[34m[39]#011train-auc:0.999901\u001b[0m\n",
      "\u001b[34m[18:43:54] src/tree/updater_prune.cc:74: tree pruning end, 1 roots, 24 extra nodes, 6 pruned nodes, max_depth=5\u001b[0m\n",
      "\u001b[34m[40]#011train-auc:0.999904\u001b[0m\n",
      "\u001b[34m[18:43:55] src/tree/updater_prune.cc:74: tree pruning end, 1 roots, 40 extra nodes, 8 pruned nodes, max_depth=5\u001b[0m\n",
      "\u001b[34m[41]#011train-auc:0.999912\u001b[0m\n",
      "\u001b[34m[18:43:55] src/tree/updater_prune.cc:74: tree pruning end, 1 roots, 14 extra nodes, 6 pruned nodes, max_depth=5\u001b[0m\n",
      "\u001b[34m[42]#011train-auc:0.999912\u001b[0m\n",
      "\u001b[34m[18:43:56] src/tree/updater_prune.cc:74: tree pruning end, 1 roots, 30 extra nodes, 2 pruned nodes, max_depth=5\u001b[0m\n",
      "\u001b[34m[43]#011train-auc:0.999924\u001b[0m\n",
      "\u001b[34m[18:43:56] src/tree/updater_prune.cc:74: tree pruning end, 1 roots, 22 extra nodes, 4 pruned nodes, max_depth=5\u001b[0m\n",
      "\u001b[34m[44]#011train-auc:0.999931\u001b[0m\n",
      "\u001b[34m[18:43:57] src/tree/updater_prune.cc:74: tree pruning end, 1 roots, 30 extra nodes, 4 pruned nodes, max_depth=5\u001b[0m\n",
      "\u001b[34m[45]#011train-auc:0.999935\u001b[0m\n",
      "\u001b[34m[18:43:57] src/tree/updater_prune.cc:74: tree pruning end, 1 roots, 34 extra nodes, 2 pruned nodes, max_depth=5\u001b[0m\n",
      "\u001b[34m[46]#011train-auc:0.999937\u001b[0m\n",
      "\u001b[34m[18:43:58] src/tree/updater_prune.cc:74: tree pruning end, 1 roots, 22 extra nodes, 2 pruned nodes, max_depth=5\u001b[0m\n",
      "\u001b[34m[47]#011train-auc:0.999943\u001b[0m\n",
      "\u001b[34m[18:43:59] src/tree/updater_prune.cc:74: tree pruning end, 1 roots, 22 extra nodes, 2 pruned nodes, max_depth=5\u001b[0m\n",
      "\u001b[34m[48]#011train-auc:0.999947\u001b[0m\n",
      "\u001b[34m[18:43:59] src/tree/updater_prune.cc:74: tree pruning end, 1 roots, 18 extra nodes, 2 pruned nodes, max_depth=5\u001b[0m\n",
      "\u001b[34m[49]#011train-auc:0.999948\u001b[0m\n",
      "\u001b[34m[18:44:00] src/tree/updater_prune.cc:74: tree pruning end, 1 roots, 30 extra nodes, 6 pruned nodes, max_depth=5\u001b[0m\n",
      "\u001b[34m[50]#011train-auc:0.999951\u001b[0m\n",
      "\u001b[34m[18:44:01] src/tree/updater_prune.cc:74: tree pruning end, 1 roots, 40 extra nodes, 6 pruned nodes, max_depth=5\u001b[0m\n",
      "\u001b[34m[51]#011train-auc:0.999955\u001b[0m\n",
      "\u001b[34m[18:44:01] src/tree/updater_prune.cc:74: tree pruning end, 1 roots, 26 extra nodes, 12 pruned nodes, max_depth=5\u001b[0m\n",
      "\u001b[34m[52]#011train-auc:0.999959\u001b[0m\n",
      "\u001b[34m[18:44:02] src/tree/updater_prune.cc:74: tree pruning end, 1 roots, 42 extra nodes, 4 pruned nodes, max_depth=5\u001b[0m\n",
      "\u001b[34m[53]#011train-auc:0.999964\u001b[0m\n",
      "\u001b[34m[18:44:02] src/tree/updater_prune.cc:74: tree pruning end, 1 roots, 24 extra nodes, 6 pruned nodes, max_depth=5\u001b[0m\n",
      "\u001b[34m[54]#011train-auc:0.999965\u001b[0m\n",
      "\u001b[34m[18:44:03] src/tree/updater_prune.cc:74: tree pruning end, 1 roots, 24 extra nodes, 6 pruned nodes, max_depth=5\u001b[0m\n",
      "\u001b[34m[55]#011train-auc:0.999966\u001b[0m\n",
      "\u001b[34m[18:44:04] src/tree/updater_prune.cc:74: tree pruning end, 1 roots, 32 extra nodes, 4 pruned nodes, max_depth=5\u001b[0m\n",
      "\u001b[34m[56]#011train-auc:0.999968\u001b[0m\n",
      "\u001b[34m[18:44:05] src/tree/updater_prune.cc:74: tree pruning end, 1 roots, 34 extra nodes, 12 pruned nodes, max_depth=5\u001b[0m\n",
      "\u001b[34m[57]#011train-auc:0.999971\u001b[0m\n",
      "\u001b[34m[18:44:05] src/tree/updater_prune.cc:74: tree pruning end, 1 roots, 34 extra nodes, 4 pruned nodes, max_depth=5\u001b[0m\n",
      "\u001b[34m[58]#011train-auc:0.999973\u001b[0m\n",
      "\u001b[34m[18:44:06] src/tree/updater_prune.cc:74: tree pruning end, 1 roots, 22 extra nodes, 8 pruned nodes, max_depth=5\u001b[0m\n",
      "\u001b[34m[59]#011train-auc:0.999975\u001b[0m\n",
      "\u001b[34m[18:44:07] src/tree/updater_prune.cc:74: tree pruning end, 1 roots, 18 extra nodes, 4 pruned nodes, max_depth=5\u001b[0m\n",
      "\u001b[34m[60]#011train-auc:0.999975\u001b[0m\n",
      "\u001b[34m[18:44:07] src/tree/updater_prune.cc:74: tree pruning end, 1 roots, 48 extra nodes, 4 pruned nodes, max_depth=5\u001b[0m\n",
      "\u001b[34m[61]#011train-auc:0.999976\u001b[0m\n",
      "\u001b[34m[18:44:08] src/tree/updater_prune.cc:74: tree pruning end, 1 roots, 32 extra nodes, 2 pruned nodes, max_depth=5\u001b[0m\n",
      "\u001b[34m[62]#011train-auc:0.999978\u001b[0m\n",
      "\u001b[34m[18:44:09] src/tree/updater_prune.cc:74: tree pruning end, 1 roots, 26 extra nodes, 6 pruned nodes, max_depth=5\u001b[0m\n",
      "\u001b[34m[63]#011train-auc:0.999978\u001b[0m\n",
      "\u001b[34m[18:44:09] src/tree/updater_prune.cc:74: tree pruning end, 1 roots, 18 extra nodes, 4 pruned nodes, max_depth=5\u001b[0m\n",
      "\u001b[34m[64]#011train-auc:0.99998\u001b[0m\n",
      "\u001b[34m[18:44:10] src/tree/updater_prune.cc:74: tree pruning end, 1 roots, 30 extra nodes, 2 pruned nodes, max_depth=5\u001b[0m\n",
      "\u001b[34m[65]#011train-auc:0.999981\u001b[0m\n",
      "\u001b[34m[18:44:10] src/tree/updater_prune.cc:74: tree pruning end, 1 roots, 12 extra nodes, 0 pruned nodes, max_depth=5\u001b[0m\n",
      "\u001b[34m[66]#011train-auc:0.999981\u001b[0m\n",
      "\u001b[34m[18:44:11] src/tree/updater_prune.cc:74: tree pruning end, 1 roots, 24 extra nodes, 6 pruned nodes, max_depth=5\u001b[0m\n",
      "\u001b[34m[67]#011train-auc:0.999982\u001b[0m\n",
      "\u001b[34m[18:44:11] src/tree/updater_prune.cc:74: tree pruning end, 1 roots, 24 extra nodes, 2 pruned nodes, max_depth=5\u001b[0m\n",
      "\u001b[34m[68]#011train-auc:0.999982\u001b[0m\n",
      "\u001b[34m[18:44:12] src/tree/updater_prune.cc:74: tree pruning end, 1 roots, 20 extra nodes, 4 pruned nodes, max_depth=5\u001b[0m\n",
      "\u001b[34m[69]#011train-auc:0.999983\u001b[0m\n",
      "\u001b[34m[18:44:13] src/tree/updater_prune.cc:74: tree pruning end, 1 roots, 34 extra nodes, 0 pruned nodes, max_depth=5\u001b[0m\n",
      "\u001b[34m[70]#011train-auc:0.999983\u001b[0m\n",
      "\u001b[34m[18:44:13] src/tree/updater_prune.cc:74: tree pruning end, 1 roots, 26 extra nodes, 2 pruned nodes, max_depth=5\u001b[0m\n",
      "\u001b[34m[71]#011train-auc:0.999984\u001b[0m\n",
      "\u001b[34m[18:44:14] src/tree/updater_prune.cc:74: tree pruning end, 1 roots, 36 extra nodes, 4 pruned nodes, max_depth=5\u001b[0m\n",
      "\u001b[34m[72]#011train-auc:0.999985\u001b[0m\n",
      "\u001b[34m[18:44:14] src/tree/updater_prune.cc:74: tree pruning end, 1 roots, 16 extra nodes, 2 pruned nodes, max_depth=5\u001b[0m\n",
      "\u001b[34m[73]#011train-auc:0.999985\u001b[0m\n",
      "\u001b[34m[18:44:15] src/tree/updater_prune.cc:74: tree pruning end, 1 roots, 26 extra nodes, 2 pruned nodes, max_depth=5\u001b[0m\n",
      "\u001b[34m[74]#011train-auc:0.999985\u001b[0m\n",
      "\u001b[34m[18:44:16] src/tree/updater_prune.cc:74: tree pruning end, 1 roots, 34 extra nodes, 2 pruned nodes, max_depth=5\u001b[0m\n",
      "\u001b[34m[75]#011train-auc:0.999987\u001b[0m\n",
      "\u001b[34m[18:44:16] src/tree/updater_prune.cc:74: tree pruning end, 1 roots, 22 extra nodes, 2 pruned nodes, max_depth=5\u001b[0m\n",
      "\u001b[34m[76]#011train-auc:0.999987\u001b[0m\n",
      "\u001b[34m[18:44:17] src/tree/updater_prune.cc:74: tree pruning end, 1 roots, 30 extra nodes, 8 pruned nodes, max_depth=5\u001b[0m\n",
      "\u001b[34m[77]#011train-auc:0.999988\u001b[0m\n",
      "\u001b[34m[18:44:17] src/tree/updater_prune.cc:74: tree pruning end, 1 roots, 28 extra nodes, 4 pruned nodes, max_depth=5\u001b[0m\n",
      "\u001b[34m[78]#011train-auc:0.999988\u001b[0m\n",
      "\u001b[34m[18:44:18] src/tree/updater_prune.cc:74: tree pruning end, 1 roots, 32 extra nodes, 6 pruned nodes, max_depth=5\u001b[0m\n",
      "\u001b[34m[79]#011train-auc:0.999989\u001b[0m\n",
      "\u001b[34m[18:44:19] src/tree/updater_prune.cc:74: tree pruning end, 1 roots, 24 extra nodes, 6 pruned nodes, max_depth=5\u001b[0m\n",
      "\u001b[34m[80]#011train-auc:0.999989\u001b[0m\n",
      "\u001b[34m[18:44:19] src/tree/updater_prune.cc:74: tree pruning end, 1 roots, 18 extra nodes, 8 pruned nodes, max_depth=5\u001b[0m\n",
      "\u001b[34m[81]#011train-auc:0.999989\u001b[0m\n",
      "\u001b[34m[18:44:20] src/tree/updater_prune.cc:74: tree pruning end, 1 roots, 16 extra nodes, 4 pruned nodes, max_depth=5\u001b[0m\n",
      "\u001b[34m[82]#011train-auc:0.99999\u001b[0m\n",
      "\u001b[34m[18:44:20] src/tree/updater_prune.cc:74: tree pruning end, 1 roots, 22 extra nodes, 0 pruned nodes, max_depth=5\u001b[0m\n",
      "\u001b[34m[83]#011train-auc:0.99999\u001b[0m\n",
      "\u001b[34m[18:44:21] src/tree/updater_prune.cc:74: tree pruning end, 1 roots, 14 extra nodes, 4 pruned nodes, max_depth=5\u001b[0m\n",
      "\u001b[34m[84]#011train-auc:0.999991\u001b[0m\n",
      "\u001b[34m[18:44:21] src/tree/updater_prune.cc:74: tree pruning end, 1 roots, 36 extra nodes, 10 pruned nodes, max_depth=5\u001b[0m\n",
      "\u001b[34m[85]#011train-auc:0.999992\u001b[0m\n",
      "\u001b[34m[18:44:22] src/tree/updater_prune.cc:74: tree pruning end, 1 roots, 38 extra nodes, 6 pruned nodes, max_depth=5\u001b[0m\n",
      "\u001b[34m[86]#011train-auc:0.999992\u001b[0m\n",
      "\u001b[34m[18:44:23] src/tree/updater_prune.cc:74: tree pruning end, 1 roots, 16 extra nodes, 0 pruned nodes, max_depth=5\u001b[0m\n",
      "\u001b[34m[87]#011train-auc:0.999992\u001b[0m\n",
      "\u001b[34m[18:44:23] src/tree/updater_prune.cc:74: tree pruning end, 1 roots, 18 extra nodes, 0 pruned nodes, max_depth=5\u001b[0m\n",
      "\u001b[34m[88]#011train-auc:0.999993\u001b[0m\n",
      "\u001b[34m[18:44:24] src/tree/updater_prune.cc:74: tree pruning end, 1 roots, 20 extra nodes, 0 pruned nodes, max_depth=5\u001b[0m\n",
      "\u001b[34m[89]#011train-auc:0.999993\u001b[0m\n",
      "\u001b[34m[18:44:24] src/tree/updater_prune.cc:74: tree pruning end, 1 roots, 16 extra nodes, 4 pruned nodes, max_depth=5\u001b[0m\n",
      "\u001b[34m[90]#011train-auc:0.999994\u001b[0m\n",
      "\u001b[34m[18:44:25] src/tree/updater_prune.cc:74: tree pruning end, 1 roots, 26 extra nodes, 8 pruned nodes, max_depth=5\u001b[0m\n",
      "\u001b[34m[91]#011train-auc:0.999994\u001b[0m\n",
      "\u001b[34m[18:44:26] src/tree/updater_prune.cc:74: tree pruning end, 1 roots, 28 extra nodes, 12 pruned nodes, max_depth=5\u001b[0m\n",
      "\u001b[34m[92]#011train-auc:0.999994\u001b[0m\n",
      "\u001b[34m[18:44:26] src/tree/updater_prune.cc:74: tree pruning end, 1 roots, 24 extra nodes, 8 pruned nodes, max_depth=5\u001b[0m\n",
      "\u001b[34m[93]#011train-auc:0.999995\u001b[0m\n",
      "\u001b[34m[18:44:27] src/tree/updater_prune.cc:74: tree pruning end, 1 roots, 32 extra nodes, 10 pruned nodes, max_depth=5\u001b[0m\n",
      "\u001b[34m[94]#011train-auc:0.999995\u001b[0m\n",
      "\u001b[34m[18:44:27] src/tree/updater_prune.cc:74: tree pruning end, 1 roots, 20 extra nodes, 10 pruned nodes, max_depth=5\u001b[0m\n",
      "\u001b[34m[95]#011train-auc:0.999995\u001b[0m\n",
      "\u001b[34m[18:44:28] src/tree/updater_prune.cc:74: tree pruning end, 1 roots, 16 extra nodes, 2 pruned nodes, max_depth=5\u001b[0m\n",
      "\u001b[34m[96]#011train-auc:0.999995\u001b[0m\n",
      "\n",
      "2021-08-23 18:44:34 Uploading - Uploading generated training model\u001b[34m[18:44:29] src/tree/updater_prune.cc:74: tree pruning end, 1 roots, 22 extra nodes, 2 pruned nodes, max_depth=5\u001b[0m\n",
      "\u001b[34m[97]#011train-auc:0.999996\u001b[0m\n",
      "\u001b[34m[18:44:29] src/tree/updater_prune.cc:74: tree pruning end, 1 roots, 14 extra nodes, 4 pruned nodes, max_depth=5\u001b[0m\n",
      "\u001b[34m[98]#011train-auc:0.999996\u001b[0m\n",
      "\u001b[34m[18:44:30] src/tree/updater_prune.cc:74: tree pruning end, 1 roots, 12 extra nodes, 6 pruned nodes, max_depth=4\u001b[0m\n",
      "\u001b[34m[99]#011train-auc:0.999996\u001b[0m\n",
      "\n",
      "2021-08-23 18:45:04 Completed - Training job completed\n",
      "ProfilerReport-1629743978: NoIssuesFound\n",
      "Training seconds: 124\n",
      "Billable seconds: 124\n"
     ]
    }
   ],
   "source": [
    "smote_xgb.fit({'train': s3_smote_train_data})"
   ]
  },
  {
   "cell_type": "code",
   "execution_count": 169,
   "metadata": {},
   "outputs": [
    {
     "name": "stdout",
     "output_type": "stream",
     "text": [
      "-------------!"
     ]
    }
   ],
   "source": [
    "from sagemaker.predictor import CSVDeserializer,CSVSerializer\n",
    "\n",
    "predictor = smote_xgb.deploy(initial_instance_count=1,\n",
    "                       model_name=\"{}-xgb\".format(\"fraud-detection-smote\"),\n",
    "                       endpoint_name=\"{}-xgb\".format(\"fraud-detection-smote\"),\n",
    "                       instance_type=\"ml.c5.xlarge\",\n",
    "                       serializer=CSVSerializer(),\n",
    "                       deserializer=None)"
   ]
  },
  {
   "cell_type": "code",
   "execution_count": 171,
   "metadata": {},
   "outputs": [],
   "source": [
    "smote_raw_preds = predict(predictor, X_test)\n",
    "smote_preds = np.where(smote_raw_preds > 0.5, 1, 0)"
   ]
  },
  {
   "cell_type": "code",
   "execution_count": 172,
   "metadata": {},
   "outputs": [
    {
     "name": "stdout",
     "output_type": "stream",
     "text": [
      "Balanced accuracy = 0.9601912768031189\n",
      "Cohen's Kappa = 0.8329106945975744\n"
     ]
    }
   ],
   "source": [
    "print(\"Balanced accuracy = {}\".format(balanced_accuracy_score(y_test, smote_preds)))\n",
    "print(\"Cohen's Kappa = {}\".format(cohen_kappa_score(y_test, smote_preds)))"
   ]
  },
  {
   "cell_type": "code",
   "execution_count": 173,
   "metadata": {},
   "outputs": [
    {
     "data": {
      "image/png": "[encoded data removed]",
      "text/plain": [
       "<Figure size 432x288 with 2 Axes>"
      ]
     },
     "metadata": {
      "needs_background": "light"
     },
     "output_type": "display_data"
    }
   ],
   "source": [
    "plot_confusion_matrix(y_test, smote_preds)"
   ]
  },
  {
   "cell_type": "code",
   "execution_count": 174,
   "metadata": {},
   "outputs": [
    {
     "name": "stdout",
     "output_type": "stream",
     "text": [
      "              precision    recall  f1-score   support\n",
      "\n",
      "   non-fraud       1.00      1.00      1.00     16416\n",
      "       fraud       0.76      0.92      0.83        38\n",
      "\n",
      "    accuracy                           1.00     16454\n",
      "   macro avg       0.88      0.96      0.92     16454\n",
      "weighted avg       1.00      1.00      1.00     16454\n",
      "\n"
     ]
    }
   ],
   "source": [
    "print(classification_report(\n",
    "    y_test, smote_preds, target_names=['non-fraud', 'fraud']))"
   ]
  },
  {
   "cell_type": "markdown",
   "metadata": {},
   "source": [
    "Due to the randomness of XGBoost your results may vary, but overall, you should see a large increase in non-fraud cases being classified as fraud (false positives). The reason this happens is because SMOTE has oversampled the fraud class so much that it's increased its overlap in feature space with the non-fraud cases.\n",
    "Since Cohen's Kappa gives more weight to false positives than balanced accuracy does, the metric drops significantly, as does the precision and F1 score for fraud cases. However, we can bring a balance between the metrics again by adjusting our classification threshold."
   ]
  },
  {
   "cell_type": "markdown",
   "metadata": {},
   "source": [
    "So far we've been using 0.5 as the threshold between labeling a point as fraud or not. We can try different thresholds to see if they affect the result of the classification. To evaluate we'll use the balanced accuracy and Cohen's Kappa metrics."
   ]
  },
  {
   "cell_type": "code",
   "execution_count": 175,
   "metadata": {},
   "outputs": [
    {
     "name": "stdout",
     "output_type": "stream",
     "text": [
      "Threshold: 0.1\n",
      "Balanced accuracy = 0.972\n",
      "Cohen's Kappa = 0.513\n",
      "\n",
      "Threshold: 0.2\n",
      "Balanced accuracy = 0.973\n",
      "Cohen's Kappa = 0.666\n",
      "\n",
      "Threshold: 0.3\n",
      "Balanced accuracy = 0.973\n",
      "Cohen's Kappa = 0.726\n",
      "\n",
      "Threshold: 0.4\n",
      "Balanced accuracy = 0.960\n",
      "Cohen's Kappa = 0.804\n",
      "\n",
      "Threshold: 0.5\n",
      "Balanced accuracy = 0.960\n",
      "Cohen's Kappa = 0.833\n",
      "\n",
      "Threshold: 0.6\n",
      "Balanced accuracy = 0.960\n",
      "Cohen's Kappa = 0.886\n",
      "\n",
      "Threshold: 0.7\n",
      "Balanced accuracy = 0.947\n",
      "Cohen's Kappa = 0.894\n",
      "\n",
      "Threshold: 0.8\n",
      "Balanced accuracy = 0.947\n",
      "Cohen's Kappa = 0.906\n",
      "\n",
      "Threshold: 0.9\n",
      "Balanced accuracy = 0.934\n",
      "Cohen's Kappa = 0.904\n",
      "\n"
     ]
    }
   ],
   "source": [
    "for thres in np.linspace(0.1, 0.9, num=9):\n",
    "    smote_thres_preds = np.where(smote_raw_preds > thres, 1, 0)\n",
    "    print(\"Threshold: {:.1f}\".format(thres))\n",
    "    print(\"Balanced accuracy = {:.3f}\".format(balanced_accuracy_score(y_test, smote_thres_preds)))\n",
    "    print(\"Cohen's Kappa = {:.3f}\\n\".format(cohen_kappa_score(y_test, smote_thres_preds)))"
   ]
  },
  {
   "cell_type": "markdown",
   "metadata": {},
   "source": [
    "We see that Cohen's Kappa keeps increasing along with the threshold, without a significant loss in balanced accuracy. This adds a useful knob to our model: We can keep a low threshold if we care more about not missing any fraudulent cases, or we can increase the threshold to try to minimize the number of false positives."
   ]
  },
  {
   "cell_type": "markdown",
   "metadata": {},
   "source": [
    "## Hyperparameter tuning with XGBoost (optional)\n"
   ]
  },
  {
   "cell_type": "markdown",
   "metadata": {},
   "source": [
    "Now that we have prepared the dataset and trained our model, one thing to note is there are algorithm settings which are called \"hyperparameters\" that can dramtically affect the performance of the trained models. For example, XGBoost algorithm has dozens of hyperparameters and we need to pick the right values for those hyperparameters in order to achieve the desired model training results. Since which hyperparameter setting can lead to the best result depends on the dataset as well, it is almost impossible to pick the best hyperparameter setting without searching for it, and a good search algorithm can search for the best hyperparameter setting in an automated and effective way.\n",
    "\n",
    "We will use SageMaker hyperparameter tuning to automate the searching process effectively. Specifically, we specify a range, or a list of possible values in the case of categorical hyperparameters, for each of the hyperparameter that we plan to tune. SageMaker hyperparameter tuning will automatically launch multiple training jobs with different hyperparameter settings, evaluate results of those training jobs based on a predefined \"objective metric\", and select the hyperparameter settings for future attempts based on previous results. For each hyperparameter tuning job, we will give it a budget (max number of training jobs) and it will complete once that many training jobs have been executed.\n",
    "\n",
    "\n",
    "Now we configure the hyperparameter tuning job by using the SDK that specifies following information:\n",
    "* The Estimator to use for HPO. This we created in the earlier step for training.\n",
    "* The ranges of hyperparameters we want to tune\n",
    "* Number of training jobs to run in total and how many training jobs should be run simultaneously. More parallel jobs will finish tuning sooner, but may sacrifice accuracy. We recommend you set the parallel jobs value to less than 10% of the total number of training jobs (we'll set it higher just for this example to keep it short).\n",
    "* The objective metric that will be used to evaluate training results, in this example, we select *validation:auc* to be the objective metric and the goal is to maximize the value throughout the hyperparameter tuning process. One thing to note is the objective metric has to be among the metrics that are emitted by the algorithm during training. In this example, the built-in XGBoost algorithm emits a bunch of metrics and *validation:auc* is one of them. If you bring your own algorithm to SageMaker, then you need to make sure whatever objective metric you select, your algorithm actually emits it.\n"
   ]
  },
  {
   "cell_type": "markdown",
   "metadata": {},
   "source": [
    "We will tune three hyperparameters in this examples:\n",
    "* *eta*: Step size shrinkage used in updates to prevent overfitting. After each boosting step, you can directly get the weights of new features. The eta parameter actually shrinks the feature weights to make the boosting process more conservative.  \n",
    "* *min_child_weight*: Minimum sum of instance weight (hessian) needed in a child. If the tree partition step results in a leaf node with the sum of instance weight less than min_child_weight, the building process gives up further partitioning. In linear regression models, this simply corresponds to a minimum number of instances needed in each node. The larger the algorithm, the more conservative it is. \n",
    "* *max_depth*: Maximum depth of a tree. Increasing this value makes the model more complex and likely to be overfitted. "
   ]
  },
  {
   "cell_type": "code",
   "execution_count": 35,
   "metadata": {},
   "outputs": [],
   "source": [
    "from sagemaker.tuner import (\n",
    "    IntegerParameter,\n",
    "    CategoricalParameter,\n",
    "    ContinuousParameter,\n",
    "    HyperparameterTuner,\n",
    ")\n",
    "\n",
    "# Define hyperparameter ranges.\n",
    "hyperparameter_ranges = {\n",
    "    \"eta\": ContinuousParameter(0, 1),\n",
    "    \"min_child_weight\": ContinuousParameter(1, 10),\n",
    "    \"max_depth\": IntegerParameter(1, 10),\n",
    "}"
   ]
  },
  {
   "cell_type": "markdown",
   "metadata": {},
   "source": [
    "Next we'll specify the objective metric that we'd like to tune and its definition, which includes the regular expression (Regex) needed to extract that metric from the CloudWatch logs of the training job. Since we are using built-in XGBoost algorithm here, it emits two predefined metrics: *validation:auc* and *train:auc*, and we elected to monitor *validation:auc* as you can see below. In this case, we only need to specify the metric name and do not need to provide regex. If you bring your own algorithm, your algorithm emits metrics by itself. In that case, you'll need to add a MetricDefinition object here to define the format of those metrics through regex, so that SageMaker knows how to extract those metrics from your CloudWatch logs."
   ]
  },
  {
   "cell_type": "code",
   "execution_count": 36,
   "metadata": {},
   "outputs": [],
   "source": [
    "objective_metric_name = \"validation:auc\"\n",
    "objective_type = 'Maximize'"
   ]
  },
  {
   "cell_type": "markdown",
   "metadata": {},
   "source": [
    "Now, we'll create a `HyperparameterTuner` object, to which we pass:\n",
    "- The XGBoost estimator we created above\n",
    "- Our hyperparameter ranges\n",
    "- Objective metric name and definition\n",
    "- Tuning resource configurations such as Number of training jobs to run in total and how many training jobs can be run in parallel."
   ]
  },
  {
   "cell_type": "code",
   "execution_count": 38,
   "metadata": {},
   "outputs": [],
   "source": [
    "tuner = HyperparameterTuner(\n",
    "    xgb, objective_metric_name, hyperparameter_ranges, max_jobs=2, max_parallel_jobs=2,objective_type=objective_type\n",
    ")"
   ]
  },
  {
   "cell_type": "code",
   "execution_count": 42,
   "metadata": {},
   "outputs": [
    {
     "name": "stdout",
     "output_type": "stream",
     "text": [
      "...............................................!\n"
     ]
    }
   ],
   "source": [
    "tuner.fit({'train': s3_train_data,'validation':s3_train_data})"
   ]
  },
  {
   "cell_type": "code",
   "execution_count": null,
   "metadata": {},
   "outputs": [],
   "source": []
  }
 ],
 "metadata": {
  "instance_type": "ml.t3.medium",
  "kernelspec": {
   "display_name": "Python 3 (Data Science)",
   "language": "python",
   "name": "python3__SAGEMAKER_INTERNAL__arn:aws:sagemaker:ap-southeast-1:492261229750:image/datascience-1.0"
  },
  "language_info": {
   "codemirror_mode": {
    "name": "ipython",
    "version": 3
   },
   "file_extension": ".py",
   "mimetype": "text/x-python",
   "name": "python",
   "nbconvert_exporter": "python",
   "pygments_lexer": "ipython3",
   "version": "3.7.10"
  }
 },
 "nbformat": 4,
 "nbformat_minor": 4
}
