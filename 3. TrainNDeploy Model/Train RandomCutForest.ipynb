{
 "cells": [
  {
   "cell_type": "markdown",
   "metadata": {},
   "source": [
    "## Train an UnSupervised RandomCutForest model using the data stored in feature store"
   ]
  },
  {
   "cell_type": "code",
   "execution_count": 1,
   "metadata": {},
   "outputs": [],
   "source": [
    "import boto3\n",
    "import sagemaker\n",
    "from sagemaker.session import Session\n",
    "\n",
    "\n",
    "region = boto3.Session().region_name\n",
    "\n",
    "boto_session = boto3.Session(region_name=region)\n",
    "\n",
    "sagemaker_client = boto_session.client(service_name='sagemaker', region_name=region)\n",
    "featurestore_runtime = boto_session.client(service_name='sagemaker-featurestore-runtime', region_name=region)\n",
    "\n",
    "feature_store_session = Session(\n",
    "    boto_session=boto_session,\n",
    "    sagemaker_client=sagemaker_client,\n",
    "    sagemaker_featurestore_runtime_client=featurestore_runtime\n",
    ")"
   ]
  },
  {
   "cell_type": "code",
   "execution_count": 2,
   "metadata": {},
   "outputs": [],
   "source": [
    "from sagemaker.feature_store.feature_group import FeatureGroup\n",
    "\n",
    "fd_feature_group_name = 'transactionfeaturegroup001'\n",
    "\n",
    "fd_feature_group = FeatureGroup(name=fd_feature_group_name, sagemaker_session=feature_store_session)"
   ]
  },
  {
   "cell_type": "markdown",
   "metadata": {},
   "source": [
    "## Build Training Dataset\n",
    "\n",
    "SageMaker FeatureStore automatically builds the Glue Data Catalog for FeatureGroups (you can optionally turn it on/off while creating the FeatureGroup). In this example, we want to create one training dataset with FeatureValues from both identity and transaction FeatureGroups. This is done by utilizing the auto-built Catalog. We run an Athena query that joins the data stored in the offline store in S3 from the 2 FeatureGroups. "
   ]
  },
  {
   "cell_type": "code",
   "execution_count": 3,
   "metadata": {},
   "outputs": [
    {
     "name": "stdout",
     "output_type": "stream",
     "text": [
      "sagemaker-ap-southeast-1-365792799466\n"
     ]
    }
   ],
   "source": [
    "# You can modify the following to use a bucket of your choosing\n",
    "default_s3_bucket_name = feature_store_session.default_bucket()\n",
    "prefix = 'sagemaker-featurestore-demo'\n",
    "\n",
    "print(default_s3_bucket_name)"
   ]
  },
  {
   "cell_type": "code",
   "execution_count": 4,
   "metadata": {},
   "outputs": [
    {
     "name": "stdout",
     "output_type": "stream",
     "text": [
      "transactionfeaturegroup001-1629776607\n",
      "Running SELECT * FROM \"transactionfeaturegroup001-1629776607\"\n"
     ]
    },
    {
     "data": {
      "text/html": [
       "<div>\n",
       "<style scoped>\n",
       "    .dataframe tbody tr th:only-of-type {\n",
       "        vertical-align: middle;\n",
       "    }\n",
       "\n",
       "    .dataframe tbody tr th {\n",
       "        vertical-align: top;\n",
       "    }\n",
       "\n",
       "    .dataframe thead th {\n",
       "        text-align: right;\n",
       "    }\n",
       "</style>\n",
       "<table border=\"1\" class=\"dataframe\">\n",
       "  <thead>\n",
       "    <tr style=\"text-align: right;\">\n",
       "      <th></th>\n",
       "      <th>time</th>\n",
       "      <th>v1</th>\n",
       "      <th>v2</th>\n",
       "      <th>v3</th>\n",
       "      <th>v4</th>\n",
       "      <th>v5</th>\n",
       "      <th>v6</th>\n",
       "      <th>v7</th>\n",
       "      <th>v8</th>\n",
       "      <th>v9</th>\n",
       "      <th>...</th>\n",
       "      <th>v26</th>\n",
       "      <th>v27</th>\n",
       "      <th>v28</th>\n",
       "      <th>amount</th>\n",
       "      <th>class</th>\n",
       "      <th>event_time</th>\n",
       "      <th>record_id</th>\n",
       "      <th>write_time</th>\n",
       "      <th>api_invocation_time</th>\n",
       "      <th>is_deleted</th>\n",
       "    </tr>\n",
       "  </thead>\n",
       "  <tbody>\n",
       "    <tr>\n",
       "      <th>0</th>\n",
       "      <td>40520.0</td>\n",
       "      <td>-0.619224</td>\n",
       "      <td>0.836936</td>\n",
       "      <td>1.613177</td>\n",
       "      <td>0.102578</td>\n",
       "      <td>0.778056</td>\n",
       "      <td>-0.636998</td>\n",
       "      <td>1.308305</td>\n",
       "      <td>-0.324899</td>\n",
       "      <td>-0.442770</td>\n",
       "      <td>...</td>\n",
       "      <td>-0.502715</td>\n",
       "      <td>-0.053387</td>\n",
       "      <td>-0.100472</td>\n",
       "      <td>18.27</td>\n",
       "      <td>0</td>\n",
       "      <td>1.629777e+09</td>\n",
       "      <td>41073</td>\n",
       "      <td>2021-08-24 03:59:11.598</td>\n",
       "      <td>2021-08-24 03:54:11.000</td>\n",
       "      <td>False</td>\n",
       "    </tr>\n",
       "    <tr>\n",
       "      <th>1</th>\n",
       "      <td>40539.0</td>\n",
       "      <td>0.949765</td>\n",
       "      <td>-0.643500</td>\n",
       "      <td>0.285558</td>\n",
       "      <td>-0.348670</td>\n",
       "      <td>-0.568436</td>\n",
       "      <td>-0.020262</td>\n",
       "      <td>-0.229153</td>\n",
       "      <td>0.096413</td>\n",
       "      <td>0.116850</td>\n",
       "      <td>...</td>\n",
       "      <td>1.270028</td>\n",
       "      <td>-0.112720</td>\n",
       "      <td>0.012917</td>\n",
       "      <td>147.90</td>\n",
       "      <td>0</td>\n",
       "      <td>1.629777e+09</td>\n",
       "      <td>41110</td>\n",
       "      <td>2021-08-24 03:59:11.598</td>\n",
       "      <td>2021-08-24 03:54:11.000</td>\n",
       "      <td>False</td>\n",
       "    </tr>\n",
       "    <tr>\n",
       "      <th>2</th>\n",
       "      <td>146580.0</td>\n",
       "      <td>1.847471</td>\n",
       "      <td>-0.258381</td>\n",
       "      <td>-2.088264</td>\n",
       "      <td>0.364586</td>\n",
       "      <td>0.328869</td>\n",
       "      <td>-0.838286</td>\n",
       "      <td>0.291890</td>\n",
       "      <td>-0.123457</td>\n",
       "      <td>0.314949</td>\n",
       "      <td>...</td>\n",
       "      <td>0.418298</td>\n",
       "      <td>-0.115923</td>\n",
       "      <td>-0.031322</td>\n",
       "      <td>101.90</td>\n",
       "      <td>0</td>\n",
       "      <td>1.629777e+09</td>\n",
       "      <td>231017</td>\n",
       "      <td>2021-08-24 03:59:11.598</td>\n",
       "      <td>2021-08-24 03:54:12.000</td>\n",
       "      <td>False</td>\n",
       "    </tr>\n",
       "    <tr>\n",
       "      <th>3</th>\n",
       "      <td>146583.0</td>\n",
       "      <td>2.051791</td>\n",
       "      <td>0.026707</td>\n",
       "      <td>-1.865120</td>\n",
       "      <td>0.210322</td>\n",
       "      <td>0.616768</td>\n",
       "      <td>-0.269262</td>\n",
       "      <td>-0.001915</td>\n",
       "      <td>0.012252</td>\n",
       "      <td>0.394507</td>\n",
       "      <td>...</td>\n",
       "      <td>0.186633</td>\n",
       "      <td>-0.069511</td>\n",
       "      <td>-0.047217</td>\n",
       "      <td>0.89</td>\n",
       "      <td>0</td>\n",
       "      <td>1.629777e+09</td>\n",
       "      <td>231027</td>\n",
       "      <td>2021-08-24 03:59:11.598</td>\n",
       "      <td>2021-08-24 03:54:12.000</td>\n",
       "      <td>False</td>\n",
       "    </tr>\n",
       "    <tr>\n",
       "      <th>4</th>\n",
       "      <td>81463.0</td>\n",
       "      <td>-0.809525</td>\n",
       "      <td>0.992685</td>\n",
       "      <td>1.126834</td>\n",
       "      <td>0.270579</td>\n",
       "      <td>0.459544</td>\n",
       "      <td>0.429937</td>\n",
       "      <td>0.655491</td>\n",
       "      <td>0.237749</td>\n",
       "      <td>-0.555323</td>\n",
       "      <td>...</td>\n",
       "      <td>-0.331349</td>\n",
       "      <td>0.046207</td>\n",
       "      <td>0.084981</td>\n",
       "      <td>29.95</td>\n",
       "      <td>0</td>\n",
       "      <td>1.629777e+09</td>\n",
       "      <td>135923</td>\n",
       "      <td>2021-08-24 03:59:11.598</td>\n",
       "      <td>2021-08-24 03:54:12.000</td>\n",
       "      <td>False</td>\n",
       "    </tr>\n",
       "    <tr>\n",
       "      <th>...</th>\n",
       "      <td>...</td>\n",
       "      <td>...</td>\n",
       "      <td>...</td>\n",
       "      <td>...</td>\n",
       "      <td>...</td>\n",
       "      <td>...</td>\n",
       "      <td>...</td>\n",
       "      <td>...</td>\n",
       "      <td>...</td>\n",
       "      <td>...</td>\n",
       "      <td>...</td>\n",
       "      <td>...</td>\n",
       "      <td>...</td>\n",
       "      <td>...</td>\n",
       "      <td>...</td>\n",
       "      <td>...</td>\n",
       "      <td>...</td>\n",
       "      <td>...</td>\n",
       "      <td>...</td>\n",
       "      <td>...</td>\n",
       "      <td>...</td>\n",
       "    </tr>\n",
       "    <tr>\n",
       "      <th>178991</th>\n",
       "      <td>74004.0</td>\n",
       "      <td>-0.517348</td>\n",
       "      <td>0.734157</td>\n",
       "      <td>-0.388282</td>\n",
       "      <td>-0.888509</td>\n",
       "      <td>2.071396</td>\n",
       "      <td>3.606620</td>\n",
       "      <td>-0.331070</td>\n",
       "      <td>1.376551</td>\n",
       "      <td>-0.368124</td>\n",
       "      <td>...</td>\n",
       "      <td>0.243426</td>\n",
       "      <td>-0.121137</td>\n",
       "      <td>-0.052148</td>\n",
       "      <td>8.48</td>\n",
       "      <td>0</td>\n",
       "      <td>1.629777e+09</td>\n",
       "      <td>115761</td>\n",
       "      <td>2021-08-24 03:49:42.106</td>\n",
       "      <td>2021-08-24 03:49:10.000</td>\n",
       "      <td>False</td>\n",
       "    </tr>\n",
       "    <tr>\n",
       "      <th>178992</th>\n",
       "      <td>74019.0</td>\n",
       "      <td>1.045596</td>\n",
       "      <td>0.011107</td>\n",
       "      <td>0.461582</td>\n",
       "      <td>1.357104</td>\n",
       "      <td>-0.280903</td>\n",
       "      <td>0.023655</td>\n",
       "      <td>-0.035021</td>\n",
       "      <td>0.149893</td>\n",
       "      <td>0.117896</td>\n",
       "      <td>...</td>\n",
       "      <td>-0.343946</td>\n",
       "      <td>0.025808</td>\n",
       "      <td>0.011982</td>\n",
       "      <td>40.21</td>\n",
       "      <td>0</td>\n",
       "      <td>1.629777e+09</td>\n",
       "      <td>115793</td>\n",
       "      <td>2021-08-24 03:49:42.106</td>\n",
       "      <td>2021-08-24 03:49:10.000</td>\n",
       "      <td>False</td>\n",
       "    </tr>\n",
       "    <tr>\n",
       "      <th>178993</th>\n",
       "      <td>31445.0</td>\n",
       "      <td>-1.730770</td>\n",
       "      <td>-1.203527</td>\n",
       "      <td>1.393325</td>\n",
       "      <td>0.649266</td>\n",
       "      <td>0.454163</td>\n",
       "      <td>-1.262364</td>\n",
       "      <td>-0.037015</td>\n",
       "      <td>-0.237585</td>\n",
       "      <td>-1.615505</td>\n",
       "      <td>...</td>\n",
       "      <td>-0.509578</td>\n",
       "      <td>0.155654</td>\n",
       "      <td>0.202013</td>\n",
       "      <td>173.25</td>\n",
       "      <td>0</td>\n",
       "      <td>1.629777e+09</td>\n",
       "      <td>21072</td>\n",
       "      <td>2021-08-24 03:49:42.106</td>\n",
       "      <td>2021-08-24 03:49:10.000</td>\n",
       "      <td>False</td>\n",
       "    </tr>\n",
       "    <tr>\n",
       "      <th>178994</th>\n",
       "      <td>31458.0</td>\n",
       "      <td>-0.501297</td>\n",
       "      <td>0.923044</td>\n",
       "      <td>1.901277</td>\n",
       "      <td>0.778010</td>\n",
       "      <td>0.071463</td>\n",
       "      <td>-0.271990</td>\n",
       "      <td>0.569042</td>\n",
       "      <td>-0.271997</td>\n",
       "      <td>-0.801308</td>\n",
       "      <td>...</td>\n",
       "      <td>0.254484</td>\n",
       "      <td>-0.338177</td>\n",
       "      <td>-0.099934</td>\n",
       "      <td>3.59</td>\n",
       "      <td>0</td>\n",
       "      <td>1.629777e+09</td>\n",
       "      <td>21093</td>\n",
       "      <td>2021-08-24 03:49:42.106</td>\n",
       "      <td>2021-08-24 03:49:10.000</td>\n",
       "      <td>False</td>\n",
       "    </tr>\n",
       "    <tr>\n",
       "      <th>178995</th>\n",
       "      <td>138176.0</td>\n",
       "      <td>0.066076</td>\n",
       "      <td>1.394935</td>\n",
       "      <td>-0.883979</td>\n",
       "      <td>1.058232</td>\n",
       "      <td>0.638251</td>\n",
       "      <td>-0.131902</td>\n",
       "      <td>0.307429</td>\n",
       "      <td>0.216774</td>\n",
       "      <td>-0.734175</td>\n",
       "      <td>...</td>\n",
       "      <td>0.447240</td>\n",
       "      <td>0.023131</td>\n",
       "      <td>0.222179</td>\n",
       "      <td>3.58</td>\n",
       "      <td>0</td>\n",
       "      <td>1.629777e+09</td>\n",
       "      <td>210903</td>\n",
       "      <td>2021-08-24 03:49:42.106</td>\n",
       "      <td>2021-08-24 03:49:11.000</td>\n",
       "      <td>False</td>\n",
       "    </tr>\n",
       "  </tbody>\n",
       "</table>\n",
       "<p>178996 rows × 36 columns</p>\n",
       "</div>"
      ],
      "text/plain": [
       "            time        v1        v2        v3        v4        v5        v6  \\\n",
       "0        40520.0 -0.619224  0.836936  1.613177  0.102578  0.778056 -0.636998   \n",
       "1        40539.0  0.949765 -0.643500  0.285558 -0.348670 -0.568436 -0.020262   \n",
       "2       146580.0  1.847471 -0.258381 -2.088264  0.364586  0.328869 -0.838286   \n",
       "3       146583.0  2.051791  0.026707 -1.865120  0.210322  0.616768 -0.269262   \n",
       "4        81463.0 -0.809525  0.992685  1.126834  0.270579  0.459544  0.429937   \n",
       "...          ...       ...       ...       ...       ...       ...       ...   \n",
       "178991   74004.0 -0.517348  0.734157 -0.388282 -0.888509  2.071396  3.606620   \n",
       "178992   74019.0  1.045596  0.011107  0.461582  1.357104 -0.280903  0.023655   \n",
       "178993   31445.0 -1.730770 -1.203527  1.393325  0.649266  0.454163 -1.262364   \n",
       "178994   31458.0 -0.501297  0.923044  1.901277  0.778010  0.071463 -0.271990   \n",
       "178995  138176.0  0.066076  1.394935 -0.883979  1.058232  0.638251 -0.131902   \n",
       "\n",
       "              v7        v8        v9  ...       v26       v27       v28  \\\n",
       "0       1.308305 -0.324899 -0.442770  ... -0.502715 -0.053387 -0.100472   \n",
       "1      -0.229153  0.096413  0.116850  ...  1.270028 -0.112720  0.012917   \n",
       "2       0.291890 -0.123457  0.314949  ...  0.418298 -0.115923 -0.031322   \n",
       "3      -0.001915  0.012252  0.394507  ...  0.186633 -0.069511 -0.047217   \n",
       "4       0.655491  0.237749 -0.555323  ... -0.331349  0.046207  0.084981   \n",
       "...          ...       ...       ...  ...       ...       ...       ...   \n",
       "178991 -0.331070  1.376551 -0.368124  ...  0.243426 -0.121137 -0.052148   \n",
       "178992 -0.035021  0.149893  0.117896  ... -0.343946  0.025808  0.011982   \n",
       "178993 -0.037015 -0.237585 -1.615505  ... -0.509578  0.155654  0.202013   \n",
       "178994  0.569042 -0.271997 -0.801308  ...  0.254484 -0.338177 -0.099934   \n",
       "178995  0.307429  0.216774 -0.734175  ...  0.447240  0.023131  0.222179   \n",
       "\n",
       "        amount  class    event_time  record_id               write_time  \\\n",
       "0        18.27      0  1.629777e+09      41073  2021-08-24 03:59:11.598   \n",
       "1       147.90      0  1.629777e+09      41110  2021-08-24 03:59:11.598   \n",
       "2       101.90      0  1.629777e+09     231017  2021-08-24 03:59:11.598   \n",
       "3         0.89      0  1.629777e+09     231027  2021-08-24 03:59:11.598   \n",
       "4        29.95      0  1.629777e+09     135923  2021-08-24 03:59:11.598   \n",
       "...        ...    ...           ...        ...                      ...   \n",
       "178991    8.48      0  1.629777e+09     115761  2021-08-24 03:49:42.106   \n",
       "178992   40.21      0  1.629777e+09     115793  2021-08-24 03:49:42.106   \n",
       "178993  173.25      0  1.629777e+09      21072  2021-08-24 03:49:42.106   \n",
       "178994    3.59      0  1.629777e+09      21093  2021-08-24 03:49:42.106   \n",
       "178995    3.58      0  1.629777e+09     210903  2021-08-24 03:49:42.106   \n",
       "\n",
       "            api_invocation_time  is_deleted  \n",
       "0       2021-08-24 03:54:11.000       False  \n",
       "1       2021-08-24 03:54:11.000       False  \n",
       "2       2021-08-24 03:54:12.000       False  \n",
       "3       2021-08-24 03:54:12.000       False  \n",
       "4       2021-08-24 03:54:12.000       False  \n",
       "...                         ...         ...  \n",
       "178991  2021-08-24 03:49:10.000       False  \n",
       "178992  2021-08-24 03:49:10.000       False  \n",
       "178993  2021-08-24 03:49:10.000       False  \n",
       "178994  2021-08-24 03:49:10.000       False  \n",
       "178995  2021-08-24 03:49:11.000       False  \n",
       "\n",
       "[178996 rows x 36 columns]"
      ]
     },
     "execution_count": 4,
     "metadata": {},
     "output_type": "execute_result"
    }
   ],
   "source": [
    "transaction_query = fd_feature_group.athena_query()\n",
    "\n",
    "transaction_table = transaction_query.table_name\n",
    "\n",
    "print(transaction_table)\n",
    "\n",
    "query_string = 'SELECT * FROM \"'+transaction_table+'\"'\n",
    "print('Running ' + query_string)\n",
    "\n",
    "# run Athena query. The output is loaded to a Pandas dataframe.\n",
    "#dataset = pd.DataFrame()\n",
    "transaction_query.run(query_string=query_string, output_location='s3://'+default_s3_bucket_name+'/'+prefix+'/query_results/')\n",
    "transaction_query.wait()\n",
    "dataset = transaction_query.as_dataframe()\n",
    "\n",
    "dataset"
   ]
  },
  {
   "cell_type": "code",
   "execution_count": 5,
   "metadata": {},
   "outputs": [],
   "source": [
    "# Select useful columns for training with target column as the first.\n",
    "dataset = dataset[['time', 'v1', 'v2', 'v3', 'v4', 'v5', 'v6', 'v7', 'v8', 'v9', 'v10',\n",
    "       'v11', 'v12', 'v13', 'v14', 'v15', 'v16', 'v17', 'v18', 'v19', 'v20',\n",
    "       'v21', 'v22', 'v23', 'v24', 'v25', 'v26', 'v27', 'v28', 'amount',\n",
    "       'class']]\n"
   ]
  },
  {
   "cell_type": "code",
   "execution_count": 6,
   "metadata": {},
   "outputs": [],
   "source": [
    "dataset = dataset.dropna()"
   ]
  },
  {
   "cell_type": "markdown",
   "metadata": {},
   "source": [
    "The class column corresponds to whether or not a transaction is fradulent. We see that the majority of data is non-fraudulant with only $492$ ($.173\\%$) of the data corresponding to fraudulant examples."
   ]
  },
  {
   "cell_type": "code",
   "execution_count": 7,
   "metadata": {},
   "outputs": [
    {
     "name": "stdout",
     "output_type": "stream",
     "text": [
      "Number of frauds:  369\n",
      "Number of non-frauds:  178627\n",
      "Percentage of fradulent data: 0.20614985809738764\n"
     ]
    }
   ],
   "source": [
    "nonfrauds, frauds = dataset.groupby('class').size()\n",
    "print('Number of frauds: ', frauds)\n",
    "print('Number of non-frauds: ', nonfrauds)\n",
    "print('Percentage of fradulent data:', 100.*frauds/(frauds + nonfrauds))"
   ]
  },
  {
   "cell_type": "markdown",
   "metadata": {},
   "source": [
    "This dataset has 28 columns, $V_i$ for $i=1..28$ of anonymized features along with columns for time, amount, and class. We already know that the columns $V_i$ have been normalized to have $0$ mean and unit standard deviation as the result of a PCA. You can read more about PCA here:. \n",
    "\n",
    "Tip: For our dataset this amount of preprocessing will give us reasonable accuracy, but it's important to note that there are more preprocessing steps one can use to improve accuracy . For unbalanced data sets like ours where the positive (fraudulent) examples occur much less frequently than the negative (legitimate) examples, we may try “over-sampling” the minority dataset by generating synthetic data (read about SMOTE in Data Mining for Imbalanced Datasets: An Overview (https://link.springer.com/chapter/10.1007%2F0-387-25465-X_40) or undersampling the majority class by using ensemble methods (see http://citeseerx.ist.psu.edu/viewdoc/download?doi=10.1.1.68.6858&rep=rep1&type=pdfor)."
   ]
  },
  {
   "cell_type": "code",
   "execution_count": 8,
   "metadata": {},
   "outputs": [],
   "source": [
    "feature_columns = dataset.columns[:-1]\n",
    "label_column = dataset.columns[-1]\n",
    "\n",
    "features = dataset[feature_columns].values.astype('float32')\n",
    "labels = (dataset[label_column].values).astype('float32')"
   ]
  },
  {
   "cell_type": "markdown",
   "metadata": {},
   "source": [
    "Let's do some analysis and discuss different ways we can preprocess our data. Let's discuss the way in which this data was preprocessed."
   ]
  },
  {
   "cell_type": "markdown",
   "metadata": {},
   "source": [
    "## Amazon SageMaker RandomCutForest\n",
    "\n",
    "In a fraud detection scenario, commonly we will have very few labeled examples, and it's possible that labeling fraud takes a very long time. We would like then to extract information from the unlabeled data we have at hand as well. _Anomaly detection_ is a form of unsupervised learning where we try to identify anomalous examples based solely on their feature characteristics. Random Cut Forest is a state-of-the-art anomaly detection algorithm that is both accurate and scalable. We will train such a model on our training data and evaluate its performance on our test set."
   ]
  },
  {
   "cell_type": "markdown",
   "metadata": {},
   "source": [
    "We will split our dataset into a train and test to evaluate the performance of our models. It's important to do so _before_ any techniques meant to alleviate the class imbalance are used. This ensures that we don't leak information from the test set into the train set."
   ]
  },
  {
   "cell_type": "code",
   "execution_count": 9,
   "metadata": {},
   "outputs": [],
   "source": [
    "from sklearn.model_selection import train_test_split\n",
    "\n",
    "X_train, X_test, y_train, y_test = train_test_split(\n",
    "    features, labels, test_size=0.1, random_state=42)\n"
   ]
  },
  {
   "cell_type": "markdown",
   "metadata": {},
   "source": [
    "---\n",
    "## Train\n"
   ]
  },
  {
   "cell_type": "code",
   "execution_count": 13,
   "metadata": {},
   "outputs": [],
   "source": [
    "import os\n",
    "import sagemaker\n",
    "\n",
    "session = sagemaker.Session()\n",
    "bucket = default_s3_bucket_name\n",
    "prefix = 'rcf-fraud-classifier'"
   ]
  },
  {
   "cell_type": "code",
   "execution_count": 14,
   "metadata": {},
   "outputs": [],
   "source": [
    "sagemaker_iam_role = sagemaker.get_execution_role()"
   ]
  },
  {
   "cell_type": "code",
   "execution_count": 15,
   "metadata": {},
   "outputs": [],
   "source": [
    "from sagemaker import RandomCutForest\n",
    "\n",
    "# specify general training job information\n",
    "rcf = RandomCutForest(role=sagemaker_iam_role,\n",
    "                      instance_count=1,\n",
    "                      instance_type=\"ml.m5.xlarge\",\n",
    "                      data_location='s3://{}/{}/'.format(bucket, prefix),\n",
    "                      output_path='s3://{}/{}/output'.format(bucket, prefix),\n",
    "                      base_job_name=\"{}-rcf\".format(\"fraud-detection\"),\n",
    "                      num_samples_per_tree=512,\n",
    "                      num_trees=50)"
   ]
  },
  {
   "cell_type": "code",
   "execution_count": 16,
   "metadata": {
    "scrolled": true
   },
   "outputs": [
    {
     "name": "stderr",
     "output_type": "stream",
     "text": [
      "Defaulting to the only supported framework/algorithm version: 1. Ignoring framework/algorithm version: 1.\n"
     ]
    },
    {
     "name": "stdout",
     "output_type": "stream",
     "text": [
      "2021-08-24 04:03:39 Starting - Starting the training job...\n",
      "2021-08-24 04:03:40 Starting - Launching requested ML instancesProfilerReport-1629777818: InProgress\n",
      "......\n",
      "2021-08-24 04:04:51 Starting - Preparing the instances for training......\n",
      "2021-08-24 04:06:10 Downloading - Downloading input data\n",
      "2021-08-24 04:06:10 Training - Downloading the training image...\n",
      "2021-08-24 04:06:31 Uploading - Uploading generated training model\u001b[34mDocker entrypoint called with argument(s): train\u001b[0m\n",
      "\u001b[34mRunning default environment configuration script\u001b[0m\n",
      "\u001b[34m[08/24/2021 04:06:28 INFO 139718768068416] Reading default configuration from /opt/amazon/lib/python3.7/site-packages/algorithm/resources/default-conf.json: {'num_samples_per_tree': 256, 'num_trees': 100, 'force_dense': 'true', 'eval_metrics': ['accuracy', 'precision_recall_fscore'], 'epochs': 1, 'mini_batch_size': 1000, '_log_level': 'info', '_kvstore': 'dist_async', '_num_kv_servers': 'auto', '_num_gpus': 'auto', '_tuning_objective_metric': '', '_ftp_port': 8999}\u001b[0m\n",
      "\u001b[34m[08/24/2021 04:06:28 INFO 139718768068416] Merging with provided configuration from /opt/ml/input/config/hyperparameters.json: {'num_trees': '50', 'num_samples_per_tree': '512', 'feature_dim': '30', 'mini_batch_size': '1000'}\u001b[0m\n",
      "\u001b[34m[08/24/2021 04:06:28 INFO 139718768068416] Final configuration: {'num_samples_per_tree': '512', 'num_trees': '50', 'force_dense': 'true', 'eval_metrics': ['accuracy', 'precision_recall_fscore'], 'epochs': 1, 'mini_batch_size': '1000', '_log_level': 'info', '_kvstore': 'dist_async', '_num_kv_servers': 'auto', '_num_gpus': 'auto', '_tuning_objective_metric': '', '_ftp_port': 8999, 'feature_dim': '30'}\u001b[0m\n",
      "\u001b[34m[08/24/2021 04:06:28 WARNING 139718768068416] Loggers have already been setup.\u001b[0m\n",
      "\u001b[34m[08/24/2021 04:06:29 INFO 139718768068416] Launching parameter server for role scheduler\u001b[0m\n",
      "\u001b[34m[08/24/2021 04:06:29 INFO 139718768068416] {'ENVROOT': '/opt/amazon', 'PROTOCOL_BUFFERS_PYTHON_IMPLEMENTATION': 'cpp', 'HOSTNAME': 'ip-10-0-200-77.ap-southeast-1.compute.internal', 'TRAINING_JOB_NAME': 'fraud-detection-rcf-2021-08-24-04-03-38-941', 'NVIDIA_REQUIRE_CUDA': 'cuda>=9.0', 'TRAINING_JOB_ARN': 'arn:aws:sagemaker:ap-southeast-1:365792799466:training-job/fraud-detection-rcf-2021-08-24-04-03-38-941', 'AWS_CONTAINER_CREDENTIALS_RELATIVE_URI': '/v2/credentials/dc83f09f-bc83-4827-b628-6ebf308334a5', 'CANONICAL_ENVROOT': '/opt/amazon', 'PYTHONUNBUFFERED': 'TRUE', 'NVIDIA_VISIBLE_DEVICES': 'void', 'LD_LIBRARY_PATH': '/opt/amazon/lib/python3.7/site-packages/cv2/../../../../lib:/usr/local/nvidia/lib64:/opt/amazon/lib', 'MXNET_KVSTORE_BIGARRAY_BOUND': '400000000', 'NVIDIA_DRIVER_CAPABILITIES': 'compute,utility', 'AWS_EXECUTION_ENV': 'AWS_ECS_EC2', 'PATH': '/opt/amazon/bin:/usr/local/nvidia/bin:/usr/local/sbin:/usr/local/bin:/usr/sbin:/usr/bin:/sbin:/bin:/opt/amazon/bin:/opt/amazon/bin', 'PWD': '/', 'LANG': 'en_US.utf8', 'AWS_REGION': 'ap-southeast-1', 'SAGEMAKER_METRICS_DIRECTORY': '/opt/ml/output/metrics/sagemaker', 'HOME': '/root', 'SHLVL': '1', 'PROTOCOL_BUFFERS_PYTHON_IMPLEMENTATION_VERSION': '2', 'OMP_NUM_THREADS': '2', 'ECS_CONTAINER_METADATA_URI': 'http://169.254.170.2/v3/4d055616-2c05-40ae-af97-8cca5f5e0572', 'DMLC_INTERFACE': 'eth0', 'ECS_CONTAINER_METADATA_URI_V4': 'http://169.254.170.2/v4/4d055616-2c05-40ae-af97-8cca5f5e0572', 'SAGEMAKER_HTTP_PORT': '8080', 'SAGEMAKER_DATA_PATH': '/opt/ml', 'KMP_DUPLICATE_LIB_OK': 'True', 'KMP_INIT_AT_FORK': 'FALSE'}\u001b[0m\n",
      "\u001b[34m[08/24/2021 04:06:29 INFO 139718768068416] envs={'ENVROOT': '/opt/amazon', 'PROTOCOL_BUFFERS_PYTHON_IMPLEMENTATION': 'cpp', 'HOSTNAME': 'ip-10-0-200-77.ap-southeast-1.compute.internal', 'TRAINING_JOB_NAME': 'fraud-detection-rcf-2021-08-24-04-03-38-941', 'NVIDIA_REQUIRE_CUDA': 'cuda>=9.0', 'TRAINING_JOB_ARN': 'arn:aws:sagemaker:ap-southeast-1:365792799466:training-job/fraud-detection-rcf-2021-08-24-04-03-38-941', 'AWS_CONTAINER_CREDENTIALS_RELATIVE_URI': '/v2/credentials/dc83f09f-bc83-4827-b628-6ebf308334a5', 'CANONICAL_ENVROOT': '/opt/amazon', 'PYTHONUNBUFFERED': 'TRUE', 'NVIDIA_VISIBLE_DEVICES': 'void', 'LD_LIBRARY_PATH': '/opt/amazon/lib/python3.7/site-packages/cv2/../../../../lib:/usr/local/nvidia/lib64:/opt/amazon/lib', 'MXNET_KVSTORE_BIGARRAY_BOUND': '400000000', 'NVIDIA_DRIVER_CAPABILITIES': 'compute,utility', 'AWS_EXECUTION_ENV': 'AWS_ECS_EC2', 'PATH': '/opt/amazon/bin:/usr/local/nvidia/bin:/usr/local/sbin:/usr/local/bin:/usr/sbin:/usr/bin:/sbin:/bin:/opt/amazon/bin:/opt/amazon/bin', 'PWD': '/', 'LANG': 'en_US.utf8', 'AWS_REGION': 'ap-southeast-1', 'SAGEMAKER_METRICS_DIRECTORY': '/opt/ml/output/metrics/sagemaker', 'HOME': '/root', 'SHLVL': '1', 'PROTOCOL_BUFFERS_PYTHON_IMPLEMENTATION_VERSION': '2', 'OMP_NUM_THREADS': '2', 'ECS_CONTAINER_METADATA_URI': 'http://169.254.170.2/v3/4d055616-2c05-40ae-af97-8cca5f5e0572', 'DMLC_INTERFACE': 'eth0', 'ECS_CONTAINER_METADATA_URI_V4': 'http://169.254.170.2/v4/4d055616-2c05-40ae-af97-8cca5f5e0572', 'SAGEMAKER_HTTP_PORT': '8080', 'SAGEMAKER_DATA_PATH': '/opt/ml', 'KMP_DUPLICATE_LIB_OK': 'True', 'KMP_INIT_AT_FORK': 'FALSE', 'DMLC_ROLE': 'scheduler', 'DMLC_PS_ROOT_URI': '10.0.200.77', 'DMLC_PS_ROOT_PORT': '9000', 'DMLC_NUM_SERVER': '1', 'DMLC_NUM_WORKER': '1'}\u001b[0m\n",
      "\u001b[34m[08/24/2021 04:06:29 INFO 139718768068416] Launching parameter server for role server\u001b[0m\n",
      "\u001b[34m[08/24/2021 04:06:29 INFO 139718768068416] {'ENVROOT': '/opt/amazon', 'PROTOCOL_BUFFERS_PYTHON_IMPLEMENTATION': 'cpp', 'HOSTNAME': 'ip-10-0-200-77.ap-southeast-1.compute.internal', 'TRAINING_JOB_NAME': 'fraud-detection-rcf-2021-08-24-04-03-38-941', 'NVIDIA_REQUIRE_CUDA': 'cuda>=9.0', 'TRAINING_JOB_ARN': 'arn:aws:sagemaker:ap-southeast-1:365792799466:training-job/fraud-detection-rcf-2021-08-24-04-03-38-941', 'AWS_CONTAINER_CREDENTIALS_RELATIVE_URI': '/v2/credentials/dc83f09f-bc83-4827-b628-6ebf308334a5', 'CANONICAL_ENVROOT': '/opt/amazon', 'PYTHONUNBUFFERED': 'TRUE', 'NVIDIA_VISIBLE_DEVICES': 'void', 'LD_LIBRARY_PATH': '/opt/amazon/lib/python3.7/site-packages/cv2/../../../../lib:/usr/local/nvidia/lib64:/opt/amazon/lib', 'MXNET_KVSTORE_BIGARRAY_BOUND': '400000000', 'NVIDIA_DRIVER_CAPABILITIES': 'compute,utility', 'AWS_EXECUTION_ENV': 'AWS_ECS_EC2', 'PATH': '/opt/amazon/bin:/usr/local/nvidia/bin:/usr/local/sbin:/usr/local/bin:/usr/sbin:/usr/bin:/sbin:/bin:/opt/amazon/bin:/opt/amazon/bin', 'PWD': '/', 'LANG': 'en_US.utf8', 'AWS_REGION': 'ap-southeast-1', 'SAGEMAKER_METRICS_DIRECTORY': '/opt/ml/output/metrics/sagemaker', 'HOME': '/root', 'SHLVL': '1', 'PROTOCOL_BUFFERS_PYTHON_IMPLEMENTATION_VERSION': '2', 'OMP_NUM_THREADS': '2', 'ECS_CONTAINER_METADATA_URI': 'http://169.254.170.2/v3/4d055616-2c05-40ae-af97-8cca5f5e0572', 'DMLC_INTERFACE': 'eth0', 'ECS_CONTAINER_METADATA_URI_V4': 'http://169.254.170.2/v4/4d055616-2c05-40ae-af97-8cca5f5e0572', 'SAGEMAKER_HTTP_PORT': '8080', 'SAGEMAKER_DATA_PATH': '/opt/ml', 'KMP_DUPLICATE_LIB_OK': 'True', 'KMP_INIT_AT_FORK': 'FALSE'}\u001b[0m\n",
      "\u001b[34m[08/24/2021 04:06:29 INFO 139718768068416] envs={'ENVROOT': '/opt/amazon', 'PROTOCOL_BUFFERS_PYTHON_IMPLEMENTATION': 'cpp', 'HOSTNAME': 'ip-10-0-200-77.ap-southeast-1.compute.internal', 'TRAINING_JOB_NAME': 'fraud-detection-rcf-2021-08-24-04-03-38-941', 'NVIDIA_REQUIRE_CUDA': 'cuda>=9.0', 'TRAINING_JOB_ARN': 'arn:aws:sagemaker:ap-southeast-1:365792799466:training-job/fraud-detection-rcf-2021-08-24-04-03-38-941', 'AWS_CONTAINER_CREDENTIALS_RELATIVE_URI': '/v2/credentials/dc83f09f-bc83-4827-b628-6ebf308334a5', 'CANONICAL_ENVROOT': '/opt/amazon', 'PYTHONUNBUFFERED': 'TRUE', 'NVIDIA_VISIBLE_DEVICES': 'void', 'LD_LIBRARY_PATH': '/opt/amazon/lib/python3.7/site-packages/cv2/../../../../lib:/usr/local/nvidia/lib64:/opt/amazon/lib', 'MXNET_KVSTORE_BIGARRAY_BOUND': '400000000', 'NVIDIA_DRIVER_CAPABILITIES': 'compute,utility', 'AWS_EXECUTION_ENV': 'AWS_ECS_EC2', 'PATH': '/opt/amazon/bin:/usr/local/nvidia/bin:/usr/local/sbin:/usr/local/bin:/usr/sbin:/usr/bin:/sbin:/bin:/opt/amazon/bin:/opt/amazon/bin', 'PWD': '/', 'LANG': 'en_US.utf8', 'AWS_REGION': 'ap-southeast-1', 'SAGEMAKER_METRICS_DIRECTORY': '/opt/ml/output/metrics/sagemaker', 'HOME': '/root', 'SHLVL': '1', 'PROTOCOL_BUFFERS_PYTHON_IMPLEMENTATION_VERSION': '2', 'OMP_NUM_THREADS': '2', 'ECS_CONTAINER_METADATA_URI': 'http://169.254.170.2/v3/4d055616-2c05-40ae-af97-8cca5f5e0572', 'DMLC_INTERFACE': 'eth0', 'ECS_CONTAINER_METADATA_URI_V4': 'http://169.254.170.2/v4/4d055616-2c05-40ae-af97-8cca5f5e0572', 'SAGEMAKER_HTTP_PORT': '8080', 'SAGEMAKER_DATA_PATH': '/opt/ml', 'KMP_DUPLICATE_LIB_OK': 'True', 'KMP_INIT_AT_FORK': 'FALSE', 'DMLC_ROLE': 'server', 'DMLC_PS_ROOT_URI': '10.0.200.77', 'DMLC_PS_ROOT_PORT': '9000', 'DMLC_NUM_SERVER': '1', 'DMLC_NUM_WORKER': '1'}\u001b[0m\n",
      "\u001b[34m[08/24/2021 04:06:29 INFO 139718768068416] Environment: {'ENVROOT': '/opt/amazon', 'PROTOCOL_BUFFERS_PYTHON_IMPLEMENTATION': 'cpp', 'HOSTNAME': 'ip-10-0-200-77.ap-southeast-1.compute.internal', 'TRAINING_JOB_NAME': 'fraud-detection-rcf-2021-08-24-04-03-38-941', 'NVIDIA_REQUIRE_CUDA': 'cuda>=9.0', 'TRAINING_JOB_ARN': 'arn:aws:sagemaker:ap-southeast-1:365792799466:training-job/fraud-detection-rcf-2021-08-24-04-03-38-941', 'AWS_CONTAINER_CREDENTIALS_RELATIVE_URI': '/v2/credentials/dc83f09f-bc83-4827-b628-6ebf308334a5', 'CANONICAL_ENVROOT': '/opt/amazon', 'PYTHONUNBUFFERED': 'TRUE', 'NVIDIA_VISIBLE_DEVICES': 'void', 'LD_LIBRARY_PATH': '/opt/amazon/lib/python3.7/site-packages/cv2/../../../../lib:/usr/local/nvidia/lib64:/opt/amazon/lib', 'MXNET_KVSTORE_BIGARRAY_BOUND': '400000000', 'NVIDIA_DRIVER_CAPABILITIES': 'compute,utility', 'AWS_EXECUTION_ENV': 'AWS_ECS_EC2', 'PATH': '/opt/amazon/bin:/usr/local/nvidia/bin:/usr/local/sbin:/usr/local/bin:/usr/sbin:/usr/bin:/sbin:/bin:/opt/amazon/bin:/opt/amazon/bin', 'PWD': '/', 'LANG': 'en_US.utf8', 'AWS_REGION': 'ap-southeast-1', 'SAGEMAKER_METRICS_DIRECTORY': '/opt/ml/output/metrics/sagemaker', 'HOME': '/root', 'SHLVL': '1', 'PROTOCOL_BUFFERS_PYTHON_IMPLEMENTATION_VERSION': '2', 'OMP_NUM_THREADS': '2', 'ECS_CONTAINER_METADATA_URI': 'http://169.254.170.2/v3/4d055616-2c05-40ae-af97-8cca5f5e0572', 'DMLC_INTERFACE': 'eth0', 'ECS_CONTAINER_METADATA_URI_V4': 'http://169.254.170.2/v4/4d055616-2c05-40ae-af97-8cca5f5e0572', 'SAGEMAKER_HTTP_PORT': '8080', 'SAGEMAKER_DATA_PATH': '/opt/ml', 'KMP_DUPLICATE_LIB_OK': 'True', 'KMP_INIT_AT_FORK': 'FALSE', 'DMLC_ROLE': 'worker', 'DMLC_PS_ROOT_URI': '10.0.200.77', 'DMLC_PS_ROOT_PORT': '9000', 'DMLC_NUM_SERVER': '1', 'DMLC_NUM_WORKER': '1'}\u001b[0m\n",
      "\u001b[34mProcess 33 is a shell:scheduler.\u001b[0m\n",
      "\u001b[34mProcess 45 is a shell:server.\u001b[0m\n",
      "\u001b[34mProcess 1 is a worker.\u001b[0m\n",
      "\u001b[34m[08/24/2021 04:06:29 INFO 139718768068416] Using default worker.\u001b[0m\n",
      "\u001b[34m[08/24/2021 04:06:29 INFO 139718768068416] Loaded iterator creator application/x-recordio-protobuf for content type ('application/x-recordio-protobuf', '1.0')\u001b[0m\n",
      "\u001b[34m[08/24/2021 04:06:29 INFO 139718768068416] Checkpoint loading and saving are disabled.\u001b[0m\n",
      "\u001b[34m[08/24/2021 04:06:29 INFO 139718768068416] Verifying hyperparamemters...\u001b[0m\n",
      "\u001b[34m[08/24/2021 04:06:29 INFO 139718768068416] Hyperparameters are correct.\u001b[0m\n",
      "\u001b[34m[08/24/2021 04:06:29 INFO 139718768068416] Validating that feature_dim agrees with dimensions in training data...\u001b[0m\n",
      "\u001b[34m[08/24/2021 04:06:29 INFO 139718768068416] feature_dim is correct.\u001b[0m\n",
      "\u001b[34m[08/24/2021 04:06:29 INFO 139718768068416] Validating memory limits...\u001b[0m\n",
      "\u001b[34m[08/24/2021 04:06:29 INFO 139718768068416] Available memory in bytes: 14648401920\u001b[0m\n",
      "\u001b[34m[08/24/2021 04:06:29 INFO 139718768068416] Estimated sample size in bytes: 6144000\u001b[0m\n",
      "\u001b[34m[08/24/2021 04:06:29 INFO 139718768068416] Estimated memory needed to build the forest in bytes: 30720000\u001b[0m\n",
      "\u001b[34m[08/24/2021 04:06:29 INFO 139718768068416] Memory limits validated.\u001b[0m\n",
      "\u001b[34m[08/24/2021 04:06:29 INFO 139718768068416] Starting cluster sharing facilities...\u001b[0m\n",
      "\u001b[34m[I 21-08-24 04:06:29] >>> starting FTP server on 0.0.0.0:8999, pid=1 <<<\u001b[0m\n",
      "\u001b[34m[08/24/2021 04:06:29 INFO 139718768068416] Create Store: dist_async\u001b[0m\n",
      "\u001b[34m[08/24/2021 04:06:29 INFO 139717323028224] >>> starting FTP server on 0.0.0.0:8999, pid=1 <<<\u001b[0m\n",
      "\u001b[34m[I 21-08-24 04:06:29] poller: <class 'pyftpdlib.ioloop.Epoll'>\u001b[0m\n",
      "\u001b[34m[08/24/2021 04:06:29 INFO 139717323028224] poller: <class 'pyftpdlib.ioloop.Epoll'>\u001b[0m\n",
      "\u001b[34m[I 21-08-24 04:06:29] masquerade (NAT) address: None\u001b[0m\n",
      "\u001b[34m[08/24/2021 04:06:29 INFO 139717323028224] masquerade (NAT) address: None\u001b[0m\n",
      "\u001b[34m[I 21-08-24 04:06:29] passive ports: None\u001b[0m\n",
      "\u001b[34m[08/24/2021 04:06:29 INFO 139717323028224] passive ports: None\u001b[0m\n",
      "\u001b[34m[I 21-08-24 04:06:29] use sendfile(2): True\u001b[0m\n",
      "\u001b[34m[08/24/2021 04:06:29 INFO 139717323028224] use sendfile(2): True\u001b[0m\n",
      "\u001b[34m[08/24/2021 04:06:30 INFO 139718768068416] Cluster sharing facilities started.\u001b[0m\n",
      "\u001b[34m[08/24/2021 04:06:30 INFO 139718768068416] Verifying all workers are accessible...\u001b[0m\n",
      "\u001b[34m[08/24/2021 04:06:30 INFO 139718768068416] All workers accessible.\u001b[0m\n",
      "\u001b[34m[08/24/2021 04:06:30 INFO 139718768068416] Initializing Sampler...\u001b[0m\n",
      "\u001b[34m[08/24/2021 04:06:30 INFO 139718768068416] Sampler correctly initialized.\u001b[0m\n",
      "\u001b[34m#metrics {\"StartTime\": 1629777989.025981, \"EndTime\": 1629777990.1422172, \"Dimensions\": {\"Algorithm\": \"RandomCutForest\", \"Host\": \"algo-1\", \"Operation\": \"training\"}, \"Metrics\": {\"initialize.time\": {\"sum\": 1110.6064319610596, \"count\": 1, \"min\": 1110.6064319610596, \"max\": 1110.6064319610596}}}\n",
      "\u001b[0m\n",
      "\u001b[34m#metrics {\"StartTime\": 1629777990.1423626, \"EndTime\": 1629777990.1423957, \"Dimensions\": {\"Algorithm\": \"RandomCutForest\", \"Host\": \"algo-1\", \"Operation\": \"training\", \"Meta\": \"init_train_data_iter\"}, \"Metrics\": {\"Total Records Seen\": {\"sum\": 0.0, \"count\": 1, \"min\": 0, \"max\": 0}, \"Total Batches Seen\": {\"sum\": 0.0, \"count\": 1, \"min\": 0, \"max\": 0}, \"Max Records Seen Between Resets\": {\"sum\": 0.0, \"count\": 1, \"min\": 0, \"max\": 0}, \"Max Batches Seen Between Resets\": {\"sum\": 0.0, \"count\": 1, \"min\": 0, \"max\": 0}, \"Reset Count\": {\"sum\": 0.0, \"count\": 1, \"min\": 0, \"max\": 0}, \"Number of Records Since Last Reset\": {\"sum\": 0.0, \"count\": 1, \"min\": 0, \"max\": 0}, \"Number of Batches Since Last Reset\": {\"sum\": 0.0, \"count\": 1, \"min\": 0, \"max\": 0}}}\n",
      "\u001b[0m\n",
      "\u001b[34m[2021-08-24 04:06:30.143] [tensorio] [info] epoch_stats={\"data_pipeline\": \"/opt/ml/input/data/train\", \"epoch\": 0, \"duration\": 1116, \"num_examples\": 1, \"num_bytes\": 148000}\u001b[0m\n",
      "\u001b[34m[08/24/2021 04:06:30 INFO 139718768068416] Sampling training data...\u001b[0m\n",
      "\u001b[34m[2021-08-24 04:06:30.313] [tensorio] [info] epoch_stats={\"data_pipeline\": \"/opt/ml/input/data/train\", \"epoch\": 1, \"duration\": 169, \"num_examples\": 162, \"num_bytes\": 23842208}\u001b[0m\n",
      "\u001b[34m[08/24/2021 04:06:30 INFO 139718768068416] Sampling training data completed.\u001b[0m\n",
      "\u001b[34m#metrics {\"StartTime\": 1629777990.1423202, \"EndTime\": 1629777990.3232045, \"Dimensions\": {\"Algorithm\": \"RandomCutForest\", \"Host\": \"algo-1\", \"Operation\": \"training\"}, \"Metrics\": {\"epochs\": {\"sum\": 1.0, \"count\": 1, \"min\": 1, \"max\": 1}, \"update.time\": {\"sum\": 179.56852912902832, \"count\": 1, \"min\": 179.56852912902832, \"max\": 179.56852912902832}}}\n",
      "\u001b[0m\n",
      "\u001b[34m[08/24/2021 04:06:30 INFO 139718768068416] Early stop condition met. Stopping training.\u001b[0m\n",
      "\u001b[34m[08/24/2021 04:06:30 INFO 139718768068416] #progress_metric: host=algo-1, completed 100 % epochs\u001b[0m\n",
      "\u001b[34m#metrics {\"StartTime\": 1629777990.143606, \"EndTime\": 1629777990.323583, \"Dimensions\": {\"Algorithm\": \"RandomCutForest\", \"Host\": \"algo-1\", \"Operation\": \"training\", \"epoch\": 0, \"Meta\": \"training_data_iter\"}, \"Metrics\": {\"Total Records Seen\": {\"sum\": 161096.0, \"count\": 1, \"min\": 161096, \"max\": 161096}, \"Total Batches Seen\": {\"sum\": 162.0, \"count\": 1, \"min\": 162, \"max\": 162}, \"Max Records Seen Between Resets\": {\"sum\": 161096.0, \"count\": 1, \"min\": 161096, \"max\": 161096}, \"Max Batches Seen Between Resets\": {\"sum\": 162.0, \"count\": 1, \"min\": 162, \"max\": 162}, \"Reset Count\": {\"sum\": 1.0, \"count\": 1, \"min\": 1, \"max\": 1}, \"Number of Records Since Last Reset\": {\"sum\": 161096.0, \"count\": 1, \"min\": 161096, \"max\": 161096}, \"Number of Batches Since Last Reset\": {\"sum\": 162.0, \"count\": 1, \"min\": 162, \"max\": 162}}}\n",
      "\u001b[0m\n",
      "\u001b[34m[08/24/2021 04:06:30 INFO 139718768068416] #throughput_metric: host=algo-1, train throughput=894467.9968811432 records/second\u001b[0m\n",
      "\u001b[34m[08/24/2021 04:06:30 INFO 139718768068416] Master node: building Random Cut Forest...\u001b[0m\n",
      "\u001b[34m[08/24/2021 04:06:30 INFO 139718768068416] Gathering samples...\u001b[0m\n",
      "\u001b[34m[08/24/2021 04:06:30 INFO 139718768068416] 25600 samples gathered\u001b[0m\n",
      "\u001b[34m[08/24/2021 04:06:30 INFO 139718768068416] Building Random Cut Forest...\u001b[0m\n",
      "\u001b[34m[08/24/2021 04:06:30 INFO 139718768068416] Random Cut Forest built: \n",
      "\u001b[0m\n",
      "\u001b[34mForestInfo{num_trees: 50, num_samples_in_forest: 25600, num_samples_per_tree: 512, sample_dim: 30, shingle_size: 1, trees_num_nodes: [927, 933, 913, 919, 911, 967, 923, 921, 921, 937, 937, 921, 927, 925, 897, 923, 925, 909, 897, 915, 911, 911, 931, 909, 943, 911, 943, 951, 917, 927, 933, 929, 915, 911, 929, 927, 923, 903, 919, 933, 935, 927, 925, 925, 913, 895, 911, 907, 911, 913, ], trees_depth: [19, 21, 23, 19, 25, 20, 23, 19, 21, 23, 19, 21, 21, 23, 21, 25, 20, 20, 21, 21, 20, 23, 22, 19, 23, 23, 20, 23, 21, 21, 21, 20, 20, 22, 24, 22, 25, 20, 20, 24, 27, 21, 19, 23, 20, 21, 20, 22, 21, 30, ], max_num_nodes: 967, min_num_nodes: 895, avg_num_nodes: 921, max_tree_depth: 30, min_tree_depth: 19, avg_tree_depth: 21, mem_size: 26177296}\u001b[0m\n",
      "\u001b[34m#metrics {\"StartTime\": 1629777990.3232963, \"EndTime\": 1629777990.3979552, \"Dimensions\": {\"Algorithm\": \"RandomCutForest\", \"Host\": \"algo-1\", \"Operation\": \"training\"}, \"Metrics\": {\"fit_model.time\": {\"sum\": 46.11802101135254, \"count\": 1, \"min\": 46.11802101135254, \"max\": 46.11802101135254}, \"model.bytes\": {\"sum\": 26177296.0, \"count\": 1, \"min\": 26177296, \"max\": 26177296}, \"finalize.time\": {\"sum\": 74.05447959899902, \"count\": 1, \"min\": 74.05447959899902, \"max\": 74.05447959899902}}}\n",
      "\u001b[0m\n",
      "\u001b[34m[08/24/2021 04:06:31 INFO 139718768068416] Master node: Serializing the RandomCutForest model\u001b[0m\n",
      "\u001b[34m#metrics {\"StartTime\": 1629777990.3980489, \"EndTime\": 1629777991.1000862, \"Dimensions\": {\"Algorithm\": \"RandomCutForest\", \"Host\": \"algo-1\", \"Operation\": \"training\"}, \"Metrics\": {\"serialize_model.time\": {\"sum\": 701.9917964935303, \"count\": 1, \"min\": 701.9917964935303, \"max\": 701.9917964935303}}}\n",
      "\u001b[0m\n",
      "\u001b[34m[08/24/2021 04:06:31 INFO 139718768068416] Test data is not provided.\u001b[0m\n",
      "\u001b[34m#metrics {\"StartTime\": 1629777991.1001542, \"EndTime\": 1629777991.1002455, \"Dimensions\": {\"Algorithm\": \"RandomCutForest\", \"Host\": \"algo-1\", \"Operation\": \"training\"}, \"Metrics\": {\"setuptime\": {\"sum\": 23.567676544189453, \"count\": 1, \"min\": 23.567676544189453, \"max\": 23.567676544189453}, \"totaltime\": {\"sum\": 2106.365203857422, \"count\": 1, \"min\": 2106.365203857422, \"max\": 2106.365203857422}}}\n",
      "\u001b[0m\n",
      "\n",
      "2021-08-24 04:07:10 Completed - Training job completed\n",
      "Training seconds: 55\n",
      "Billable seconds: 55\n"
     ]
    }
   ],
   "source": [
    "rcf.fit(rcf.record_set(X_train))"
   ]
  },
  {
   "cell_type": "markdown",
   "metadata": {},
   "source": [
    "### Host RCF Model\n"
   ]
  },
  {
   "cell_type": "markdown",
   "metadata": {},
   "source": [
    "Once we have a trained model we can deploy it and get some predictions for our test set. SageMaker will spin up an instance for us and deploy the model, the whole process should take around 10 minutes, you will see progress being made with each `-` and an exclamation point when the process is finished."
   ]
  },
  {
   "cell_type": "code",
   "execution_count": null,
   "metadata": {},
   "outputs": [],
   "source": [
    "rcf_predictor = rcf.deploy(\n",
    "    model_name=\"{}-rcf\".format(\"fraud-detection\"),\n",
    "    endpoint_name=\"{}-rcf\".format(\"fraud-detection\"),\n",
    "    initial_instance_count=1,\n",
    "    instance_type=\"ml.c5.xlarge\")"
   ]
  },
  {
   "cell_type": "code",
   "execution_count": 28,
   "metadata": {},
   "outputs": [],
   "source": [
    "from sagemaker.predictor import CSVSerializer,JSONDeserializer\n",
    "\n",
    "rcf_predictor.serializer = CSVSerializer()\n",
    "rcf_predictor.deserializer = JSONDeserializer()"
   ]
  },
  {
   "cell_type": "markdown",
   "metadata": {},
   "source": [
    "### Test Random Cut Forest"
   ]
  },
  {
   "cell_type": "markdown",
   "metadata": {},
   "source": [
    "With the model deployed, let's see how it performs in terms of separating fraudulent from legitimate transactions."
   ]
  },
  {
   "cell_type": "code",
   "execution_count": 29,
   "metadata": {},
   "outputs": [],
   "source": [
    "def predict_rcf(current_predictor, data, rows=500):\n",
    "    split_array = np.array_split(data, int(data.shape[0] / float(rows) + 1))\n",
    "    predictions = []\n",
    "    for array in split_array:\n",
    "        array_preds = [s['score'] for s in current_predictor.predict(array)['scores']]\n",
    "        predictions.append(array_preds)\n",
    "\n",
    "    return np.concatenate([np.array(batch) for batch in predictions])"
   ]
  },
  {
   "cell_type": "code",
   "execution_count": 31,
   "metadata": {},
   "outputs": [],
   "source": [
    "import numpy as np\n",
    "\n",
    "positives = X_test[y_test == 1]\n",
    "positives_scores = predict_rcf(rcf_predictor, positives)\n",
    "\n",
    "negatives = X_test[y_test == 0]\n",
    "negatives_scores = predict_rcf(rcf_predictor, negatives)"
   ]
  },
  {
   "cell_type": "code",
   "execution_count": 32,
   "metadata": {},
   "outputs": [],
   "source": [
    "import seaborn as sns\n",
    "import matplotlib.pyplot as plt\n",
    "sns.set(color_codes=True)"
   ]
  },
  {
   "cell_type": "code",
   "execution_count": 33,
   "metadata": {},
   "outputs": [
    {
     "data": {
      "text/plain": [
       "<matplotlib.legend.Legend at 0x7f3ed0faf310>"
      ]
     },
     "execution_count": 33,
     "metadata": {},
     "output_type": "execute_result"
    },
    {
     "data": {
      "image/png": "[encoded data removed]",
      "text/plain": [
       "<Figure size 432x288 with 1 Axes>"
      ]
     },
     "metadata": {},
     "output_type": "display_data"
    }
   ],
   "source": [
    "sns.distplot(positives_scores, label='fraud', bins=20)\n",
    "sns.distplot(negatives_scores, label='not-fraud', bins=20)\n",
    "plt.legend()"
   ]
  },
  {
   "cell_type": "markdown",
   "metadata": {},
   "source": [
    "The unsupervised model already can achieve some separation between the classes, with higher anomaly scores being correlated to fraud."
   ]
  },
  {
   "cell_type": "code",
   "execution_count": null,
   "metadata": {},
   "outputs": [],
   "source": []
  }
 ],
 "metadata": {
  "instance_type": "ml.t3.medium",
  "kernelspec": {
   "display_name": "Python 3 (Data Science)",
   "language": "python",
   "name": "python3__SAGEMAKER_INTERNAL__arn:aws:sagemaker:ap-southeast-1:492261229750:image/datascience-1.0"
  },
  "language_info": {
   "codemirror_mode": {
    "name": "ipython",
    "version": 3
   },
   "file_extension": ".py",
   "mimetype": "text/x-python",
   "name": "python",
   "nbconvert_exporter": "python",
   "pygments_lexer": "ipython3",
   "version": "3.7.10"
  }
 },
 "nbformat": 4,
 "nbformat_minor": 4
}
