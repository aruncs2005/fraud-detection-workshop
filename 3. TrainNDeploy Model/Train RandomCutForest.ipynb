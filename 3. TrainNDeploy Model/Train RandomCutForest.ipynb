{
 "cells": [
  {
   "cell_type": "markdown",
   "metadata": {},
   "source": [
    "## Train an UnSupervised RandomCutForest model using the data stored in feature store"
   ]
  },
  {
   "cell_type": "code",
   "execution_count": 2,
   "metadata": {},
   "outputs": [],
   "source": [
    "import boto3\n",
    "import sagemaker\n",
    "from sagemaker.session import Session\n",
    "\n",
    "\n",
    "region = boto3.Session().region_name\n",
    "\n",
    "boto_session = boto3.Session(region_name=region)\n",
    "\n",
    "sagemaker_client = boto_session.client(service_name='sagemaker', region_name=region)\n",
    "featurestore_runtime = boto_session.client(service_name='sagemaker-featurestore-runtime', region_name=region)\n",
    "\n",
    "feature_store_session = Session(\n",
    "    boto_session=boto_session,\n",
    "    sagemaker_client=sagemaker_client,\n",
    "    sagemaker_featurestore_runtime_client=featurestore_runtime\n",
    ")"
   ]
  },
  {
   "cell_type": "code",
   "execution_count": 3,
   "metadata": {},
   "outputs": [],
   "source": [
    "from sagemaker.feature_store.feature_group import FeatureGroup\n",
    "\n",
    "fd_feature_group_name = 'transactionfeaturegroup001'\n",
    "\n",
    "fd_feature_group = FeatureGroup(name=fd_feature_group_name, sagemaker_session=feature_store_session)"
   ]
  },
  {
   "cell_type": "markdown",
   "metadata": {},
   "source": [
    "## Build Training Dataset\n",
    "\n",
    "SageMaker FeatureStore automatically builds the Glue Data Catalog for FeatureGroups (you can optionally turn it on/off while creating the FeatureGroup). In this example, we want to create one training dataset with FeatureValues from both identity and transaction FeatureGroups. This is done by utilizing the auto-built Catalog. We run an Athena query that joins the data stored in the offline store in S3 from the 2 FeatureGroups. "
   ]
  },
  {
   "cell_type": "code",
   "execution_count": 4,
   "metadata": {},
   "outputs": [
    {
     "name": "stdout",
     "output_type": "stream",
     "text": [
      "sagemaker-us-east-1-365792799466\n"
     ]
    }
   ],
   "source": [
    "# You can modify the following to use a bucket of your choosing\n",
    "default_s3_bucket_name = feature_store_session.default_bucket()\n",
    "prefix = 'sagemaker-featurestore-demo'\n",
    "\n",
    "print(default_s3_bucket_name)"
   ]
  },
  {
   "cell_type": "code",
   "execution_count": 5,
   "metadata": {},
   "outputs": [
    {
     "name": "stdout",
     "output_type": "stream",
     "text": [
      "transactionfeaturegroup001-1629730459\n",
      "Running SELECT * FROM \"transactionfeaturegroup001-1629730459\"\n"
     ]
    },
    {
     "data": {
      "text/html": [
       "<div>\n",
       "<style scoped>\n",
       "    .dataframe tbody tr th:only-of-type {\n",
       "        vertical-align: middle;\n",
       "    }\n",
       "\n",
       "    .dataframe tbody tr th {\n",
       "        vertical-align: top;\n",
       "    }\n",
       "\n",
       "    .dataframe thead th {\n",
       "        text-align: right;\n",
       "    }\n",
       "</style>\n",
       "<table border=\"1\" class=\"dataframe\">\n",
       "  <thead>\n",
       "    <tr style=\"text-align: right;\">\n",
       "      <th></th>\n",
       "      <th>time</th>\n",
       "      <th>v1</th>\n",
       "      <th>v2</th>\n",
       "      <th>v3</th>\n",
       "      <th>v4</th>\n",
       "      <th>v5</th>\n",
       "      <th>v6</th>\n",
       "      <th>v7</th>\n",
       "      <th>v8</th>\n",
       "      <th>v9</th>\n",
       "      <th>...</th>\n",
       "      <th>v26</th>\n",
       "      <th>v27</th>\n",
       "      <th>v28</th>\n",
       "      <th>amount</th>\n",
       "      <th>class</th>\n",
       "      <th>event_time</th>\n",
       "      <th>record_id</th>\n",
       "      <th>write_time</th>\n",
       "      <th>api_invocation_time</th>\n",
       "      <th>is_deleted</th>\n",
       "    </tr>\n",
       "  </thead>\n",
       "  <tbody>\n",
       "    <tr>\n",
       "      <th>0</th>\n",
       "      <td>71503.0</td>\n",
       "      <td>-1.406379</td>\n",
       "      <td>1.193442</td>\n",
       "      <td>0.932727</td>\n",
       "      <td>-1.217894</td>\n",
       "      <td>-0.552076</td>\n",
       "      <td>-1.128438</td>\n",
       "      <td>0.204981</td>\n",
       "      <td>0.143193</td>\n",
       "      <td>0.163657</td>\n",
       "      <td>...</td>\n",
       "      <td>0.659737</td>\n",
       "      <td>-0.647898</td>\n",
       "      <td>0.073977</td>\n",
       "      <td>7.68</td>\n",
       "      <td>0.0</td>\n",
       "      <td>1.629730e+09</td>\n",
       "      <td>109710</td>\n",
       "      <td>2021-08-23 15:02:54.795</td>\n",
       "      <td>2021-08-23 14:57:30.000</td>\n",
       "      <td>False</td>\n",
       "    </tr>\n",
       "    <tr>\n",
       "      <th>1</th>\n",
       "      <td>37.0</td>\n",
       "      <td>1.295668</td>\n",
       "      <td>0.341483</td>\n",
       "      <td>0.081505</td>\n",
       "      <td>0.566746</td>\n",
       "      <td>-0.110459</td>\n",
       "      <td>-0.766325</td>\n",
       "      <td>0.073155</td>\n",
       "      <td>-0.168304</td>\n",
       "      <td>0.071837</td>\n",
       "      <td>...</td>\n",
       "      <td>0.127881</td>\n",
       "      <td>-0.023731</td>\n",
       "      <td>0.025200</td>\n",
       "      <td>0.99</td>\n",
       "      <td>0.0</td>\n",
       "      <td>1.629730e+09</td>\n",
       "      <td>55</td>\n",
       "      <td>2021-08-23 15:02:54.795</td>\n",
       "      <td>2021-08-23 14:57:30.000</td>\n",
       "      <td>False</td>\n",
       "    </tr>\n",
       "    <tr>\n",
       "      <th>2</th>\n",
       "      <td>71525.0</td>\n",
       "      <td>1.291485</td>\n",
       "      <td>-1.095189</td>\n",
       "      <td>-0.301904</td>\n",
       "      <td>-2.623376</td>\n",
       "      <td>-1.312201</td>\n",
       "      <td>-1.456160</td>\n",
       "      <td>-0.262129</td>\n",
       "      <td>-0.238359</td>\n",
       "      <td>0.640486</td>\n",
       "      <td>...</td>\n",
       "      <td>-0.689670</td>\n",
       "      <td>0.050912</td>\n",
       "      <td>0.014404</td>\n",
       "      <td>63.54</td>\n",
       "      <td>0.0</td>\n",
       "      <td>1.629730e+09</td>\n",
       "      <td>109752</td>\n",
       "      <td>2021-08-23 15:02:54.795</td>\n",
       "      <td>2021-08-23 14:57:30.000</td>\n",
       "      <td>False</td>\n",
       "    </tr>\n",
       "    <tr>\n",
       "      <th>3</th>\n",
       "      <td>98.0</td>\n",
       "      <td>1.027114</td>\n",
       "      <td>-1.272543</td>\n",
       "      <td>0.673656</td>\n",
       "      <td>-0.747436</td>\n",
       "      <td>-1.299107</td>\n",
       "      <td>0.293656</td>\n",
       "      <td>-1.054200</td>\n",
       "      <td>0.234900</td>\n",
       "      <td>-0.574991</td>\n",
       "      <td>...</td>\n",
       "      <td>-0.030996</td>\n",
       "      <td>0.018465</td>\n",
       "      <td>0.033482</td>\n",
       "      <td>159.00</td>\n",
       "      <td>0.0</td>\n",
       "      <td>1.629730e+09</td>\n",
       "      <td>158</td>\n",
       "      <td>2021-08-23 15:02:54.795</td>\n",
       "      <td>2021-08-23 14:57:32.000</td>\n",
       "      <td>False</td>\n",
       "    </tr>\n",
       "    <tr>\n",
       "      <th>4</th>\n",
       "      <td>71580.0</td>\n",
       "      <td>1.244781</td>\n",
       "      <td>0.115431</td>\n",
       "      <td>0.111972</td>\n",
       "      <td>0.388976</td>\n",
       "      <td>0.083840</td>\n",
       "      <td>-0.040992</td>\n",
       "      <td>-0.023859</td>\n",
       "      <td>-0.007790</td>\n",
       "      <td>0.122738</td>\n",
       "      <td>...</td>\n",
       "      <td>0.175155</td>\n",
       "      <td>-0.017849</td>\n",
       "      <td>0.009555</td>\n",
       "      <td>17.99</td>\n",
       "      <td>0.0</td>\n",
       "      <td>1.629730e+09</td>\n",
       "      <td>109878</td>\n",
       "      <td>2021-08-23 15:02:54.795</td>\n",
       "      <td>2021-08-23 14:57:32.000</td>\n",
       "      <td>False</td>\n",
       "    </tr>\n",
       "    <tr>\n",
       "      <th>...</th>\n",
       "      <td>...</td>\n",
       "      <td>...</td>\n",
       "      <td>...</td>\n",
       "      <td>...</td>\n",
       "      <td>...</td>\n",
       "      <td>...</td>\n",
       "      <td>...</td>\n",
       "      <td>...</td>\n",
       "      <td>...</td>\n",
       "      <td>...</td>\n",
       "      <td>...</td>\n",
       "      <td>...</td>\n",
       "      <td>...</td>\n",
       "      <td>...</td>\n",
       "      <td>...</td>\n",
       "      <td>...</td>\n",
       "      <td>...</td>\n",
       "      <td>...</td>\n",
       "      <td>...</td>\n",
       "      <td>...</td>\n",
       "      <td>...</td>\n",
       "    </tr>\n",
       "    <tr>\n",
       "      <th>164529</th>\n",
       "      <td>71455.0</td>\n",
       "      <td>1.232264</td>\n",
       "      <td>0.185778</td>\n",
       "      <td>-0.029376</td>\n",
       "      <td>0.674766</td>\n",
       "      <td>0.407076</td>\n",
       "      <td>0.562455</td>\n",
       "      <td>-0.123681</td>\n",
       "      <td>0.194493</td>\n",
       "      <td>-0.073745</td>\n",
       "      <td>...</td>\n",
       "      <td>-0.352931</td>\n",
       "      <td>0.031514</td>\n",
       "      <td>-0.000818</td>\n",
       "      <td>2.50</td>\n",
       "      <td>0.0</td>\n",
       "      <td>1.629730e+09</td>\n",
       "      <td>109609</td>\n",
       "      <td>2021-08-23 15:12:22.929</td>\n",
       "      <td>2021-08-23 15:09:54.000</td>\n",
       "      <td>False</td>\n",
       "    </tr>\n",
       "    <tr>\n",
       "      <th>164530</th>\n",
       "      <td>71461.0</td>\n",
       "      <td>1.271109</td>\n",
       "      <td>-0.860215</td>\n",
       "      <td>-0.167019</td>\n",
       "      <td>-0.844150</td>\n",
       "      <td>-0.502688</td>\n",
       "      <td>0.068691</td>\n",
       "      <td>-0.484409</td>\n",
       "      <td>-0.008597</td>\n",
       "      <td>-0.797508</td>\n",
       "      <td>...</td>\n",
       "      <td>-0.208296</td>\n",
       "      <td>-0.016545</td>\n",
       "      <td>0.006612</td>\n",
       "      <td>100.00</td>\n",
       "      <td>0.0</td>\n",
       "      <td>1.629730e+09</td>\n",
       "      <td>109620</td>\n",
       "      <td>2021-08-23 15:12:22.929</td>\n",
       "      <td>2021-08-23 15:09:54.000</td>\n",
       "      <td>False</td>\n",
       "    </tr>\n",
       "    <tr>\n",
       "      <th>164531</th>\n",
       "      <td>116747.0</td>\n",
       "      <td>2.053118</td>\n",
       "      <td>0.133098</td>\n",
       "      <td>-1.765097</td>\n",
       "      <td>0.566274</td>\n",
       "      <td>0.047303</td>\n",
       "      <td>-1.580677</td>\n",
       "      <td>0.187834</td>\n",
       "      <td>-0.319220</td>\n",
       "      <td>0.795872</td>\n",
       "      <td>...</td>\n",
       "      <td>-0.099420</td>\n",
       "      <td>-0.010316</td>\n",
       "      <td>-0.031565</td>\n",
       "      <td>4.35</td>\n",
       "      <td>0.0</td>\n",
       "      <td>1.629730e+09</td>\n",
       "      <td>164481</td>\n",
       "      <td>2021-08-23 15:12:22.929</td>\n",
       "      <td>2021-08-23 15:09:54.000</td>\n",
       "      <td>False</td>\n",
       "    </tr>\n",
       "    <tr>\n",
       "      <th>164532</th>\n",
       "      <td>116770.0</td>\n",
       "      <td>1.889157</td>\n",
       "      <td>-0.500800</td>\n",
       "      <td>-2.138707</td>\n",
       "      <td>0.539548</td>\n",
       "      <td>2.276821</td>\n",
       "      <td>4.078737</td>\n",
       "      <td>-0.640655</td>\n",
       "      <td>0.992330</td>\n",
       "      <td>0.967167</td>\n",
       "      <td>...</td>\n",
       "      <td>-0.801186</td>\n",
       "      <td>0.052966</td>\n",
       "      <td>-0.045232</td>\n",
       "      <td>34.40</td>\n",
       "      <td>0.0</td>\n",
       "      <td>1.629730e+09</td>\n",
       "      <td>164507</td>\n",
       "      <td>2021-08-23 15:12:22.929</td>\n",
       "      <td>2021-08-23 15:09:55.000</td>\n",
       "      <td>False</td>\n",
       "    </tr>\n",
       "    <tr>\n",
       "      <th>164533</th>\n",
       "      <td>116776.0</td>\n",
       "      <td>1.901903</td>\n",
       "      <td>-0.997281</td>\n",
       "      <td>-1.318556</td>\n",
       "      <td>-0.139656</td>\n",
       "      <td>-0.893199</td>\n",
       "      <td>-1.527770</td>\n",
       "      <td>0.077046</td>\n",
       "      <td>-0.450333</td>\n",
       "      <td>-0.557449</td>\n",
       "      <td>...</td>\n",
       "      <td>0.440635</td>\n",
       "      <td>-0.097726</td>\n",
       "      <td>-0.038505</td>\n",
       "      <td>139.47</td>\n",
       "      <td>0.0</td>\n",
       "      <td>1.629730e+09</td>\n",
       "      <td>164514</td>\n",
       "      <td>2021-08-23 15:12:22.929</td>\n",
       "      <td>2021-08-23 15:09:55.000</td>\n",
       "      <td>False</td>\n",
       "    </tr>\n",
       "  </tbody>\n",
       "</table>\n",
       "<p>164534 rows × 36 columns</p>\n",
       "</div>"
      ],
      "text/plain": [
       "            time        v1        v2        v3        v4        v5        v6  \\\n",
       "0        71503.0 -1.406379  1.193442  0.932727 -1.217894 -0.552076 -1.128438   \n",
       "1           37.0  1.295668  0.341483  0.081505  0.566746 -0.110459 -0.766325   \n",
       "2        71525.0  1.291485 -1.095189 -0.301904 -2.623376 -1.312201 -1.456160   \n",
       "3           98.0  1.027114 -1.272543  0.673656 -0.747436 -1.299107  0.293656   \n",
       "4        71580.0  1.244781  0.115431  0.111972  0.388976  0.083840 -0.040992   \n",
       "...          ...       ...       ...       ...       ...       ...       ...   \n",
       "164529   71455.0  1.232264  0.185778 -0.029376  0.674766  0.407076  0.562455   \n",
       "164530   71461.0  1.271109 -0.860215 -0.167019 -0.844150 -0.502688  0.068691   \n",
       "164531  116747.0  2.053118  0.133098 -1.765097  0.566274  0.047303 -1.580677   \n",
       "164532  116770.0  1.889157 -0.500800 -2.138707  0.539548  2.276821  4.078737   \n",
       "164533  116776.0  1.901903 -0.997281 -1.318556 -0.139656 -0.893199 -1.527770   \n",
       "\n",
       "              v7        v8        v9  ...       v26       v27       v28  \\\n",
       "0       0.204981  0.143193  0.163657  ...  0.659737 -0.647898  0.073977   \n",
       "1       0.073155 -0.168304  0.071837  ...  0.127881 -0.023731  0.025200   \n",
       "2      -0.262129 -0.238359  0.640486  ... -0.689670  0.050912  0.014404   \n",
       "3      -1.054200  0.234900 -0.574991  ... -0.030996  0.018465  0.033482   \n",
       "4      -0.023859 -0.007790  0.122738  ...  0.175155 -0.017849  0.009555   \n",
       "...          ...       ...       ...  ...       ...       ...       ...   \n",
       "164529 -0.123681  0.194493 -0.073745  ... -0.352931  0.031514 -0.000818   \n",
       "164530 -0.484409 -0.008597 -0.797508  ... -0.208296 -0.016545  0.006612   \n",
       "164531  0.187834 -0.319220  0.795872  ... -0.099420 -0.010316 -0.031565   \n",
       "164532 -0.640655  0.992330  0.967167  ... -0.801186  0.052966 -0.045232   \n",
       "164533  0.077046 -0.450333 -0.557449  ...  0.440635 -0.097726 -0.038505   \n",
       "\n",
       "        amount  class    event_time  record_id               write_time  \\\n",
       "0         7.68    0.0  1.629730e+09     109710  2021-08-23 15:02:54.795   \n",
       "1         0.99    0.0  1.629730e+09         55  2021-08-23 15:02:54.795   \n",
       "2        63.54    0.0  1.629730e+09     109752  2021-08-23 15:02:54.795   \n",
       "3       159.00    0.0  1.629730e+09        158  2021-08-23 15:02:54.795   \n",
       "4        17.99    0.0  1.629730e+09     109878  2021-08-23 15:02:54.795   \n",
       "...        ...    ...           ...        ...                      ...   \n",
       "164529    2.50    0.0  1.629730e+09     109609  2021-08-23 15:12:22.929   \n",
       "164530  100.00    0.0  1.629730e+09     109620  2021-08-23 15:12:22.929   \n",
       "164531    4.35    0.0  1.629730e+09     164481  2021-08-23 15:12:22.929   \n",
       "164532   34.40    0.0  1.629730e+09     164507  2021-08-23 15:12:22.929   \n",
       "164533  139.47    0.0  1.629730e+09     164514  2021-08-23 15:12:22.929   \n",
       "\n",
       "            api_invocation_time  is_deleted  \n",
       "0       2021-08-23 14:57:30.000       False  \n",
       "1       2021-08-23 14:57:30.000       False  \n",
       "2       2021-08-23 14:57:30.000       False  \n",
       "3       2021-08-23 14:57:32.000       False  \n",
       "4       2021-08-23 14:57:32.000       False  \n",
       "...                         ...         ...  \n",
       "164529  2021-08-23 15:09:54.000       False  \n",
       "164530  2021-08-23 15:09:54.000       False  \n",
       "164531  2021-08-23 15:09:54.000       False  \n",
       "164532  2021-08-23 15:09:55.000       False  \n",
       "164533  2021-08-23 15:09:55.000       False  \n",
       "\n",
       "[164534 rows x 36 columns]"
      ]
     },
     "execution_count": 5,
     "metadata": {},
     "output_type": "execute_result"
    }
   ],
   "source": [
    "transaction_query = fd_feature_group.athena_query()\n",
    "\n",
    "transaction_table = transaction_query.table_name\n",
    "\n",
    "print(transaction_table)\n",
    "\n",
    "query_string = 'SELECT * FROM \"'+transaction_table+'\"'\n",
    "print('Running ' + query_string)\n",
    "\n",
    "# run Athena query. The output is loaded to a Pandas dataframe.\n",
    "#dataset = pd.DataFrame()\n",
    "transaction_query.run(query_string=query_string, output_location='s3://'+default_s3_bucket_name+'/'+prefix+'/query_results/')\n",
    "transaction_query.wait()\n",
    "dataset = transaction_query.as_dataframe()\n",
    "\n",
    "dataset"
   ]
  },
  {
   "cell_type": "code",
   "execution_count": 6,
   "metadata": {},
   "outputs": [],
   "source": [
    "# Select useful columns for training with target column as the first.\n",
    "dataset = dataset[['time', 'v1', 'v2', 'v3', 'v4', 'v5', 'v6', 'v7', 'v8', 'v9', 'v10',\n",
    "       'v11', 'v12', 'v13', 'v14', 'v15', 'v16', 'v17', 'v18', 'v19', 'v20',\n",
    "       'v21', 'v22', 'v23', 'v24', 'v25', 'v26', 'v27', 'v28', 'amount',\n",
    "       'class']]\n"
   ]
  },
  {
   "cell_type": "code",
   "execution_count": 16,
   "metadata": {},
   "outputs": [],
   "source": [
    "dataset = dataset.dropna()"
   ]
  },
  {
   "cell_type": "markdown",
   "metadata": {},
   "source": [
    "The class column corresponds to whether or not a transaction is fradulent. We see that the majority of data is non-fraudulant with only $492$ ($.173\\%$) of the data corresponding to fraudulant examples."
   ]
  },
  {
   "cell_type": "code",
   "execution_count": 17,
   "metadata": {},
   "outputs": [
    {
     "name": "stdout",
     "output_type": "stream",
     "text": [
      "Number of frauds:  358\n",
      "Number of non-frauds:  164175\n",
      "Percentage of fradulent data: 0.21758552995447722\n"
     ]
    }
   ],
   "source": [
    "nonfrauds, frauds = dataset.groupby('class').size()\n",
    "print('Number of frauds: ', frauds)\n",
    "print('Number of non-frauds: ', nonfrauds)\n",
    "print('Percentage of fradulent data:', 100.*frauds/(frauds + nonfrauds))"
   ]
  },
  {
   "cell_type": "markdown",
   "metadata": {},
   "source": [
    "This dataset has 28 columns, $V_i$ for $i=1..28$ of anonymized features along with columns for time, amount, and class. We already know that the columns $V_i$ have been normalized to have $0$ mean and unit standard deviation as the result of a PCA. You can read more about PCA here:. \n",
    "\n",
    "Tip: For our dataset this amount of preprocessing will give us reasonable accuracy, but it's important to note that there are more preprocessing steps one can use to improve accuracy . For unbalanced data sets like ours where the positive (fraudulent) examples occur much less frequently than the negative (legitimate) examples, we may try “over-sampling” the minority dataset by generating synthetic data (read about SMOTE in Data Mining for Imbalanced Datasets: An Overview (https://link.springer.com/chapter/10.1007%2F0-387-25465-X_40) or undersampling the majority class by using ensemble methods (see http://citeseerx.ist.psu.edu/viewdoc/download?doi=10.1.1.68.6858&rep=rep1&type=pdfor)."
   ]
  },
  {
   "cell_type": "code",
   "execution_count": 18,
   "metadata": {},
   "outputs": [],
   "source": [
    "feature_columns = dataset.columns[:-1]\n",
    "label_column = dataset.columns[-1]\n",
    "\n",
    "features = dataset[feature_columns].values.astype('float32')\n",
    "labels = (dataset[label_column].values).astype('float32')"
   ]
  },
  {
   "cell_type": "markdown",
   "metadata": {},
   "source": [
    "Let's do some analysis and discuss different ways we can preprocess our data. Let's discuss the way in which this data was preprocessed."
   ]
  },
  {
   "cell_type": "markdown",
   "metadata": {},
   "source": [
    "## Amazon SageMaker RandomCutForest\n",
    "\n",
    "In a fraud detection scenario, commonly we will have very few labeled examples, and it's possible that labeling fraud takes a very long time. We would like then to extract information from the unlabeled data we have at hand as well. _Anomaly detection_ is a form of unsupervised learning where we try to identify anomalous examples based solely on their feature characteristics. Random Cut Forest is a state-of-the-art anomaly detection algorithm that is both accurate and scalable. We will train such a model on our training data and evaluate its performance on our test set."
   ]
  },
  {
   "cell_type": "markdown",
   "metadata": {},
   "source": [
    "We will split our dataset into a train and test to evaluate the performance of our models. It's important to do so _before_ any techniques meant to alleviate the class imbalance are used. This ensures that we don't leak information from the test set into the train set."
   ]
  },
  {
   "cell_type": "code",
   "execution_count": 19,
   "metadata": {},
   "outputs": [],
   "source": [
    "from sklearn.model_selection import train_test_split\n",
    "\n",
    "X_train, X_test, y_train, y_test = train_test_split(\n",
    "    features, labels, test_size=0.1, random_state=42)\n"
   ]
  },
  {
   "cell_type": "markdown",
   "metadata": {},
   "source": [
    "---\n",
    "## Train\n"
   ]
  },
  {
   "cell_type": "code",
   "execution_count": 21,
   "metadata": {},
   "outputs": [],
   "source": [
    "import os\n",
    "import sagemaker\n",
    "\n",
    "session = sagemaker.Session()\n",
    "bucket = default_s3_bucket_name\n",
    "prefix = 'rcf-fraud-classifier'"
   ]
  },
  {
   "cell_type": "code",
   "execution_count": 22,
   "metadata": {},
   "outputs": [],
   "source": [
    "sagemaker_iam_role = sagemaker.get_execution_role()"
   ]
  },
  {
   "cell_type": "code",
   "execution_count": 23,
   "metadata": {},
   "outputs": [],
   "source": [
    "from sagemaker import RandomCutForest\n",
    "\n",
    "# specify general training job information\n",
    "rcf = RandomCutForest(role=sagemaker_iam_role,\n",
    "                      instance_count=1,\n",
    "                      instance_type=\"ml.m5.xlarge\",\n",
    "                      data_location='s3://{}/{}/'.format(bucket, prefix),\n",
    "                      output_path='s3://{}/{}/output'.format(bucket, prefix),\n",
    "                      base_job_name=\"{}-rcf\".format(\"fraud-detection\"),\n",
    "                      num_samples_per_tree=512,\n",
    "                      num_trees=50)"
   ]
  },
  {
   "cell_type": "code",
   "execution_count": 24,
   "metadata": {
    "scrolled": true
   },
   "outputs": [
    {
     "name": "stderr",
     "output_type": "stream",
     "text": [
      "Defaulting to the only supported framework/algorithm version: 1. Ignoring framework/algorithm version: 1.\n"
     ]
    },
    {
     "name": "stdout",
     "output_type": "stream",
     "text": [
      "2021-08-23 17:12:35 Starting - Starting the training job...\n",
      "2021-08-23 17:13:02 Starting - Launching requested ML instancesProfilerReport-1629738755: InProgress\n",
      "......\n",
      "2021-08-23 17:14:02 Starting - Preparing the instances for training.........\n",
      "2021-08-23 17:15:22 Downloading - Downloading input data...\n",
      "2021-08-23 17:16:03 Training - Training image download completed. Training in progress.\n",
      "2021-08-23 17:16:03 Uploading - Uploading generated training model\u001b[34mDocker entrypoint called with argument(s): train\u001b[0m\n",
      "\u001b[34mRunning default environment configuration script\u001b[0m\n",
      "\u001b[34m[08/23/2021 17:15:57 INFO 140577644418880] Reading default configuration from /opt/amazon/lib/python3.7/site-packages/algorithm/resources/default-conf.json: {'num_samples_per_tree': 256, 'num_trees': 100, 'force_dense': 'true', 'eval_metrics': ['accuracy', 'precision_recall_fscore'], 'epochs': 1, 'mini_batch_size': 1000, '_log_level': 'info', '_kvstore': 'dist_async', '_num_kv_servers': 'auto', '_num_gpus': 'auto', '_tuning_objective_metric': '', '_ftp_port': 8999}\u001b[0m\n",
      "\u001b[34m[08/23/2021 17:15:57 INFO 140577644418880] Merging with provided configuration from /opt/ml/input/config/hyperparameters.json: {'num_trees': '50', 'num_samples_per_tree': '512', 'feature_dim': '30', 'mini_batch_size': '1000'}\u001b[0m\n",
      "\u001b[34m[08/23/2021 17:15:57 INFO 140577644418880] Final configuration: {'num_samples_per_tree': '512', 'num_trees': '50', 'force_dense': 'true', 'eval_metrics': ['accuracy', 'precision_recall_fscore'], 'epochs': 1, 'mini_batch_size': '1000', '_log_level': 'info', '_kvstore': 'dist_async', '_num_kv_servers': 'auto', '_num_gpus': 'auto', '_tuning_objective_metric': '', '_ftp_port': 8999, 'feature_dim': '30'}\u001b[0m\n",
      "\u001b[34m[08/23/2021 17:15:57 WARNING 140577644418880] Loggers have already been setup.\u001b[0m\n",
      "\u001b[34m[08/23/2021 17:15:57 INFO 140577644418880] Launching parameter server for role scheduler\u001b[0m\n",
      "\u001b[34m[08/23/2021 17:15:57 INFO 140577644418880] {'ENVROOT': '/opt/amazon', 'PROTOCOL_BUFFERS_PYTHON_IMPLEMENTATION': 'cpp', 'HOSTNAME': 'ip-10-2-234-58.ec2.internal', 'TRAINING_JOB_NAME': 'fraud-detection-rcf-2021-08-23-17-12-35-568', 'NVIDIA_REQUIRE_CUDA': 'cuda>=9.0', 'TRAINING_JOB_ARN': 'arn:aws:sagemaker:us-east-1:365792799466:training-job/fraud-detection-rcf-2021-08-23-17-12-35-568', 'AWS_CONTAINER_CREDENTIALS_RELATIVE_URI': '/v2/credentials/86b5b444-a2bc-46fc-b91d-acc3a198342a', 'CANONICAL_ENVROOT': '/opt/amazon', 'PYTHONUNBUFFERED': 'TRUE', 'NVIDIA_VISIBLE_DEVICES': 'void', 'LD_LIBRARY_PATH': '/opt/amazon/lib/python3.7/site-packages/cv2/../../../../lib:/usr/local/nvidia/lib64:/opt/amazon/lib', 'MXNET_KVSTORE_BIGARRAY_BOUND': '400000000', 'NVIDIA_DRIVER_CAPABILITIES': 'compute,utility', 'AWS_EXECUTION_ENV': 'AWS_ECS_EC2', 'PATH': '/opt/amazon/bin:/usr/local/nvidia/bin:/usr/local/sbin:/usr/local/bin:/usr/sbin:/usr/bin:/sbin:/bin:/opt/amazon/bin:/opt/amazon/bin', 'PWD': '/', 'LANG': 'en_US.utf8', 'AWS_REGION': 'us-east-1', 'SAGEMAKER_METRICS_DIRECTORY': '/opt/ml/output/metrics/sagemaker', 'HOME': '/root', 'SHLVL': '1', 'PROTOCOL_BUFFERS_PYTHON_IMPLEMENTATION_VERSION': '2', 'OMP_NUM_THREADS': '2', 'DMLC_INTERFACE': 'eth0', 'ECS_CONTAINER_METADATA_URI': 'http://169.254.170.2/v3/11a0402e-78df-4db9-933c-0632ceef199d', 'ECS_CONTAINER_METADATA_URI_V4': 'http://169.254.170.2/v4/11a0402e-78df-4db9-933c-0632ceef199d', 'SAGEMAKER_HTTP_PORT': '8080', 'SAGEMAKER_DATA_PATH': '/opt/ml', 'KMP_DUPLICATE_LIB_OK': 'True', 'KMP_INIT_AT_FORK': 'FALSE'}\u001b[0m\n",
      "\u001b[34m[08/23/2021 17:15:57 INFO 140577644418880] envs={'ENVROOT': '/opt/amazon', 'PROTOCOL_BUFFERS_PYTHON_IMPLEMENTATION': 'cpp', 'HOSTNAME': 'ip-10-2-234-58.ec2.internal', 'TRAINING_JOB_NAME': 'fraud-detection-rcf-2021-08-23-17-12-35-568', 'NVIDIA_REQUIRE_CUDA': 'cuda>=9.0', 'TRAINING_JOB_ARN': 'arn:aws:sagemaker:us-east-1:365792799466:training-job/fraud-detection-rcf-2021-08-23-17-12-35-568', 'AWS_CONTAINER_CREDENTIALS_RELATIVE_URI': '/v2/credentials/86b5b444-a2bc-46fc-b91d-acc3a198342a', 'CANONICAL_ENVROOT': '/opt/amazon', 'PYTHONUNBUFFERED': 'TRUE', 'NVIDIA_VISIBLE_DEVICES': 'void', 'LD_LIBRARY_PATH': '/opt/amazon/lib/python3.7/site-packages/cv2/../../../../lib:/usr/local/nvidia/lib64:/opt/amazon/lib', 'MXNET_KVSTORE_BIGARRAY_BOUND': '400000000', 'NVIDIA_DRIVER_CAPABILITIES': 'compute,utility', 'AWS_EXECUTION_ENV': 'AWS_ECS_EC2', 'PATH': '/opt/amazon/bin:/usr/local/nvidia/bin:/usr/local/sbin:/usr/local/bin:/usr/sbin:/usr/bin:/sbin:/bin:/opt/amazon/bin:/opt/amazon/bin', 'PWD': '/', 'LANG': 'en_US.utf8', 'AWS_REGION': 'us-east-1', 'SAGEMAKER_METRICS_DIRECTORY': '/opt/ml/output/metrics/sagemaker', 'HOME': '/root', 'SHLVL': '1', 'PROTOCOL_BUFFERS_PYTHON_IMPLEMENTATION_VERSION': '2', 'OMP_NUM_THREADS': '2', 'DMLC_INTERFACE': 'eth0', 'ECS_CONTAINER_METADATA_URI': 'http://169.254.170.2/v3/11a0402e-78df-4db9-933c-0632ceef199d', 'ECS_CONTAINER_METADATA_URI_V4': 'http://169.254.170.2/v4/11a0402e-78df-4db9-933c-0632ceef199d', 'SAGEMAKER_HTTP_PORT': '8080', 'SAGEMAKER_DATA_PATH': '/opt/ml', 'KMP_DUPLICATE_LIB_OK': 'True', 'KMP_INIT_AT_FORK': 'FALSE', 'DMLC_ROLE': 'scheduler', 'DMLC_PS_ROOT_URI': '10.2.234.58', 'DMLC_PS_ROOT_PORT': '9000', 'DMLC_NUM_SERVER': '1', 'DMLC_NUM_WORKER': '1'}\u001b[0m\n",
      "\u001b[34m[08/23/2021 17:15:57 INFO 140577644418880] Launching parameter server for role server\u001b[0m\n",
      "\u001b[34m[08/23/2021 17:15:57 INFO 140577644418880] {'ENVROOT': '/opt/amazon', 'PROTOCOL_BUFFERS_PYTHON_IMPLEMENTATION': 'cpp', 'HOSTNAME': 'ip-10-2-234-58.ec2.internal', 'TRAINING_JOB_NAME': 'fraud-detection-rcf-2021-08-23-17-12-35-568', 'NVIDIA_REQUIRE_CUDA': 'cuda>=9.0', 'TRAINING_JOB_ARN': 'arn:aws:sagemaker:us-east-1:365792799466:training-job/fraud-detection-rcf-2021-08-23-17-12-35-568', 'AWS_CONTAINER_CREDENTIALS_RELATIVE_URI': '/v2/credentials/86b5b444-a2bc-46fc-b91d-acc3a198342a', 'CANONICAL_ENVROOT': '/opt/amazon', 'PYTHONUNBUFFERED': 'TRUE', 'NVIDIA_VISIBLE_DEVICES': 'void', 'LD_LIBRARY_PATH': '/opt/amazon/lib/python3.7/site-packages/cv2/../../../../lib:/usr/local/nvidia/lib64:/opt/amazon/lib', 'MXNET_KVSTORE_BIGARRAY_BOUND': '400000000', 'NVIDIA_DRIVER_CAPABILITIES': 'compute,utility', 'AWS_EXECUTION_ENV': 'AWS_ECS_EC2', 'PATH': '/opt/amazon/bin:/usr/local/nvidia/bin:/usr/local/sbin:/usr/local/bin:/usr/sbin:/usr/bin:/sbin:/bin:/opt/amazon/bin:/opt/amazon/bin', 'PWD': '/', 'LANG': 'en_US.utf8', 'AWS_REGION': 'us-east-1', 'SAGEMAKER_METRICS_DIRECTORY': '/opt/ml/output/metrics/sagemaker', 'HOME': '/root', 'SHLVL': '1', 'PROTOCOL_BUFFERS_PYTHON_IMPLEMENTATION_VERSION': '2', 'OMP_NUM_THREADS': '2', 'DMLC_INTERFACE': 'eth0', 'ECS_CONTAINER_METADATA_URI': 'http://169.254.170.2/v3/11a0402e-78df-4db9-933c-0632ceef199d', 'ECS_CONTAINER_METADATA_URI_V4': 'http://169.254.170.2/v4/11a0402e-78df-4db9-933c-0632ceef199d', 'SAGEMAKER_HTTP_PORT': '8080', 'SAGEMAKER_DATA_PATH': '/opt/ml', 'KMP_DUPLICATE_LIB_OK': 'True', 'KMP_INIT_AT_FORK': 'FALSE'}\u001b[0m\n",
      "\u001b[34m[08/23/2021 17:15:57 INFO 140577644418880] envs={'ENVROOT': '/opt/amazon', 'PROTOCOL_BUFFERS_PYTHON_IMPLEMENTATION': 'cpp', 'HOSTNAME': 'ip-10-2-234-58.ec2.internal', 'TRAINING_JOB_NAME': 'fraud-detection-rcf-2021-08-23-17-12-35-568', 'NVIDIA_REQUIRE_CUDA': 'cuda>=9.0', 'TRAINING_JOB_ARN': 'arn:aws:sagemaker:us-east-1:365792799466:training-job/fraud-detection-rcf-2021-08-23-17-12-35-568', 'AWS_CONTAINER_CREDENTIALS_RELATIVE_URI': '/v2/credentials/86b5b444-a2bc-46fc-b91d-acc3a198342a', 'CANONICAL_ENVROOT': '/opt/amazon', 'PYTHONUNBUFFERED': 'TRUE', 'NVIDIA_VISIBLE_DEVICES': 'void', 'LD_LIBRARY_PATH': '/opt/amazon/lib/python3.7/site-packages/cv2/../../../../lib:/usr/local/nvidia/lib64:/opt/amazon/lib', 'MXNET_KVSTORE_BIGARRAY_BOUND': '400000000', 'NVIDIA_DRIVER_CAPABILITIES': 'compute,utility', 'AWS_EXECUTION_ENV': 'AWS_ECS_EC2', 'PATH': '/opt/amazon/bin:/usr/local/nvidia/bin:/usr/local/sbin:/usr/local/bin:/usr/sbin:/usr/bin:/sbin:/bin:/opt/amazon/bin:/opt/amazon/bin', 'PWD': '/', 'LANG': 'en_US.utf8', 'AWS_REGION': 'us-east-1', 'SAGEMAKER_METRICS_DIRECTORY': '/opt/ml/output/metrics/sagemaker', 'HOME': '/root', 'SHLVL': '1', 'PROTOCOL_BUFFERS_PYTHON_IMPLEMENTATION_VERSION': '2', 'OMP_NUM_THREADS': '2', 'DMLC_INTERFACE': 'eth0', 'ECS_CONTAINER_METADATA_URI': 'http://169.254.170.2/v3/11a0402e-78df-4db9-933c-0632ceef199d', 'ECS_CONTAINER_METADATA_URI_V4': 'http://169.254.170.2/v4/11a0402e-78df-4db9-933c-0632ceef199d', 'SAGEMAKER_HTTP_PORT': '8080', 'SAGEMAKER_DATA_PATH': '/opt/ml', 'KMP_DUPLICATE_LIB_OK': 'True', 'KMP_INIT_AT_FORK': 'FALSE', 'DMLC_ROLE': 'server', 'DMLC_PS_ROOT_URI': '10.2.234.58', 'DMLC_PS_ROOT_PORT': '9000', 'DMLC_NUM_SERVER': '1', 'DMLC_NUM_WORKER': '1'}\u001b[0m\n",
      "\u001b[34m[08/23/2021 17:15:57 INFO 140577644418880] Environment: {'ENVROOT': '/opt/amazon', 'PROTOCOL_BUFFERS_PYTHON_IMPLEMENTATION': 'cpp', 'HOSTNAME': 'ip-10-2-234-58.ec2.internal', 'TRAINING_JOB_NAME': 'fraud-detection-rcf-2021-08-23-17-12-35-568', 'NVIDIA_REQUIRE_CUDA': 'cuda>=9.0', 'TRAINING_JOB_ARN': 'arn:aws:sagemaker:us-east-1:365792799466:training-job/fraud-detection-rcf-2021-08-23-17-12-35-568', 'AWS_CONTAINER_CREDENTIALS_RELATIVE_URI': '/v2/credentials/86b5b444-a2bc-46fc-b91d-acc3a198342a', 'CANONICAL_ENVROOT': '/opt/amazon', 'PYTHONUNBUFFERED': 'TRUE', 'NVIDIA_VISIBLE_DEVICES': 'void', 'LD_LIBRARY_PATH': '/opt/amazon/lib/python3.7/site-packages/cv2/../../../../lib:/usr/local/nvidia/lib64:/opt/amazon/lib', 'MXNET_KVSTORE_BIGARRAY_BOUND': '400000000', 'NVIDIA_DRIVER_CAPABILITIES': 'compute,utility', 'AWS_EXECUTION_ENV': 'AWS_ECS_EC2', 'PATH': '/opt/amazon/bin:/usr/local/nvidia/bin:/usr/local/sbin:/usr/local/bin:/usr/sbin:/usr/bin:/sbin:/bin:/opt/amazon/bin:/opt/amazon/bin', 'PWD': '/', 'LANG': 'en_US.utf8', 'AWS_REGION': 'us-east-1', 'SAGEMAKER_METRICS_DIRECTORY': '/opt/ml/output/metrics/sagemaker', 'HOME': '/root', 'SHLVL': '1', 'PROTOCOL_BUFFERS_PYTHON_IMPLEMENTATION_VERSION': '2', 'OMP_NUM_THREADS': '2', 'DMLC_INTERFACE': 'eth0', 'ECS_CONTAINER_METADATA_URI': 'http://169.254.170.2/v3/11a0402e-78df-4db9-933c-0632ceef199d', 'ECS_CONTAINER_METADATA_URI_V4': 'http://169.254.170.2/v4/11a0402e-78df-4db9-933c-0632ceef199d', 'SAGEMAKER_HTTP_PORT': '8080', 'SAGEMAKER_DATA_PATH': '/opt/ml', 'KMP_DUPLICATE_LIB_OK': 'True', 'KMP_INIT_AT_FORK': 'FALSE', 'DMLC_ROLE': 'worker', 'DMLC_PS_ROOT_URI': '10.2.234.58', 'DMLC_PS_ROOT_PORT': '9000', 'DMLC_NUM_SERVER': '1', 'DMLC_NUM_WORKER': '1'}\u001b[0m\n",
      "\u001b[34mProcess 33 is a shell:scheduler.\u001b[0m\n",
      "\u001b[34mProcess 43 is a shell:server.\u001b[0m\n",
      "\u001b[34mProcess 1 is a worker.\u001b[0m\n",
      "\u001b[34m[08/23/2021 17:15:57 INFO 140577644418880] Using default worker.\u001b[0m\n",
      "\u001b[34m[08/23/2021 17:15:57 INFO 140577644418880] Loaded iterator creator application/x-recordio-protobuf for content type ('application/x-recordio-protobuf', '1.0')\u001b[0m\n",
      "\u001b[34m[08/23/2021 17:15:57 INFO 140577644418880] Checkpoint loading and saving are disabled.\u001b[0m\n",
      "\u001b[34m[08/23/2021 17:15:57 INFO 140577644418880] Verifying hyperparamemters...\u001b[0m\n",
      "\u001b[34m[08/23/2021 17:15:57 INFO 140577644418880] Hyperparameters are correct.\u001b[0m\n",
      "\u001b[34m[08/23/2021 17:15:57 INFO 140577644418880] Validating that feature_dim agrees with dimensions in training data...\u001b[0m\n",
      "\u001b[34m[08/23/2021 17:15:57 INFO 140577644418880] feature_dim is correct.\u001b[0m\n",
      "\u001b[34m[08/23/2021 17:15:57 INFO 140577644418880] Validating memory limits...\u001b[0m\n",
      "\u001b[34m[08/23/2021 17:15:57 INFO 140577644418880] Available memory in bytes: 14824767488\u001b[0m\n",
      "\u001b[34m[08/23/2021 17:15:57 INFO 140577644418880] Estimated sample size in bytes: 6144000\u001b[0m\n",
      "\u001b[34m[08/23/2021 17:15:57 INFO 140577644418880] Estimated memory needed to build the forest in bytes: 30720000\u001b[0m\n",
      "\u001b[34m[08/23/2021 17:15:57 INFO 140577644418880] Memory limits validated.\u001b[0m\n",
      "\u001b[34m[08/23/2021 17:15:57 INFO 140577644418880] Starting cluster sharing facilities...\u001b[0m\n",
      "\u001b[34m[08/23/2021 17:15:57 INFO 140577644418880] Create Store: dist_async\u001b[0m\n",
      "\u001b[34m[I 21-08-23 17:15:57] >>> starting FTP server on 0.0.0.0:8999, pid=1 <<<\u001b[0m\n",
      "\u001b[34m[I 21-08-23 17:15:57] poller: <class 'pyftpdlib.ioloop.Epoll'>\u001b[0m\n",
      "\u001b[34m[08/23/2021 17:15:57 INFO 140576125073152] >>> starting FTP server on 0.0.0.0:8999, pid=1 <<<\u001b[0m\n",
      "\u001b[34m[08/23/2021 17:15:57 INFO 140576125073152] poller: <class 'pyftpdlib.ioloop.Epoll'>\u001b[0m\n",
      "\u001b[34m[08/23/2021 17:15:57 INFO 140576125073152] masquerade (NAT) address: None\u001b[0m\n",
      "\u001b[34m[I 21-08-23 17:15:57] masquerade (NAT) address: None\u001b[0m\n",
      "\u001b[34m[I 21-08-23 17:15:57] passive ports: None\u001b[0m\n",
      "\u001b[34m[I 21-08-23 17:15:57] use sendfile(2): True\u001b[0m\n",
      "\u001b[34m[08/23/2021 17:15:57 INFO 140576125073152] passive ports: None\u001b[0m\n",
      "\u001b[34m[08/23/2021 17:15:57 INFO 140576125073152] use sendfile(2): True\u001b[0m\n",
      "\u001b[34m[08/23/2021 17:15:58 INFO 140577644418880] Cluster sharing facilities started.\u001b[0m\n",
      "\u001b[34m[08/23/2021 17:15:58 INFO 140577644418880] Verifying all workers are accessible...\u001b[0m\n",
      "\u001b[34m[08/23/2021 17:15:58 INFO 140577644418880] All workers accessible.\u001b[0m\n",
      "\u001b[34m[08/23/2021 17:15:58 INFO 140577644418880] Initializing Sampler...\u001b[0m\n",
      "\u001b[34m[08/23/2021 17:15:58 INFO 140577644418880] Sampler correctly initialized.\u001b[0m\n",
      "\u001b[34m#metrics {\"StartTime\": 1629738957.7028954, \"EndTime\": 1629738958.7186198, \"Dimensions\": {\"Algorithm\": \"RandomCutForest\", \"Host\": \"algo-1\", \"Operation\": \"training\"}, \"Metrics\": {\"initialize.time\": {\"sum\": 1007.110595703125, \"count\": 1, \"min\": 1007.110595703125, \"max\": 1007.110595703125}}}\n",
      "\u001b[0m\n",
      "\u001b[34m#metrics {\"StartTime\": 1629738958.7187655, \"EndTime\": 1629738958.7188032, \"Dimensions\": {\"Algorithm\": \"RandomCutForest\", \"Host\": \"algo-1\", \"Operation\": \"training\", \"Meta\": \"init_train_data_iter\"}, \"Metrics\": {\"Total Records Seen\": {\"sum\": 0.0, \"count\": 1, \"min\": 0, \"max\": 0}, \"Total Batches Seen\": {\"sum\": 0.0, \"count\": 1, \"min\": 0, \"max\": 0}, \"Max Records Seen Between Resets\": {\"sum\": 0.0, \"count\": 1, \"min\": 0, \"max\": 0}, \"Max Batches Seen Between Resets\": {\"sum\": 0.0, \"count\": 1, \"min\": 0, \"max\": 0}, \"Reset Count\": {\"sum\": 0.0, \"count\": 1, \"min\": 0, \"max\": 0}, \"Number of Records Since Last Reset\": {\"sum\": 0.0, \"count\": 1, \"min\": 0, \"max\": 0}, \"Number of Batches Since Last Reset\": {\"sum\": 0.0, \"count\": 1, \"min\": 0, \"max\": 0}}}\n",
      "\u001b[0m\n",
      "\u001b[34m[2021-08-23 17:15:58.719] [tensorio] [info] epoch_stats={\"data_pipeline\": \"/opt/ml/input/data/train\", \"epoch\": 0, \"duration\": 1016, \"num_examples\": 1, \"num_bytes\": 148000}\u001b[0m\n",
      "\u001b[34m[08/23/2021 17:15:58 INFO 140577644418880] Sampling training data...\u001b[0m\n",
      "\u001b[34m[2021-08-23 17:15:58.879] [tensorio] [info] epoch_stats={\"data_pipeline\": \"/opt/ml/input/data/train\", \"epoch\": 1, \"duration\": 159, \"num_examples\": 149, \"num_bytes\": 21915692}\u001b[0m\n",
      "\u001b[34m[08/23/2021 17:15:58 INFO 140577644418880] Sampling training data completed.\u001b[0m\n",
      "\u001b[34m#metrics {\"StartTime\": 1629738958.7187226, \"EndTime\": 1629738958.8915703, \"Dimensions\": {\"Algorithm\": \"RandomCutForest\", \"Host\": \"algo-1\", \"Operation\": \"training\"}, \"Metrics\": {\"epochs\": {\"sum\": 1.0, \"count\": 1, \"min\": 1, \"max\": 1}, \"update.time\": {\"sum\": 171.71978950500488, \"count\": 1, \"min\": 171.71978950500488, \"max\": 171.71978950500488}}}\n",
      "\u001b[0m\n",
      "\u001b[34m[08/23/2021 17:15:58 INFO 140577644418880] Early stop condition met. Stopping training.\u001b[0m\n",
      "\u001b[34m[08/23/2021 17:15:58 INFO 140577644418880] #progress_metric: host=algo-1, completed 100 % epochs\u001b[0m\n",
      "\u001b[34m#metrics {\"StartTime\": 1629738958.719821, \"EndTime\": 1629738958.891902, \"Dimensions\": {\"Algorithm\": \"RandomCutForest\", \"Host\": \"algo-1\", \"Operation\": \"training\", \"epoch\": 0, \"Meta\": \"training_data_iter\"}, \"Metrics\": {\"Total Records Seen\": {\"sum\": 148079.0, \"count\": 1, \"min\": 148079, \"max\": 148079}, \"Total Batches Seen\": {\"sum\": 149.0, \"count\": 1, \"min\": 149, \"max\": 149}, \"Max Records Seen Between Resets\": {\"sum\": 148079.0, \"count\": 1, \"min\": 148079, \"max\": 148079}, \"Max Batches Seen Between Resets\": {\"sum\": 149.0, \"count\": 1, \"min\": 149, \"max\": 149}, \"Reset Count\": {\"sum\": 1.0, \"count\": 1, \"min\": 1, \"max\": 1}, \"Number of Records Since Last Reset\": {\"sum\": 148079.0, \"count\": 1, \"min\": 148079, \"max\": 148079}, \"Number of Batches Since Last Reset\": {\"sum\": 149.0, \"count\": 1, \"min\": 149, \"max\": 149}}}\n",
      "\u001b[0m\n",
      "\u001b[34m[08/23/2021 17:15:58 INFO 140577644418880] #throughput_metric: host=algo-1, train throughput=859935.3991221876 records/second\u001b[0m\n",
      "\u001b[34m[08/23/2021 17:15:58 INFO 140577644418880] Master node: building Random Cut Forest...\u001b[0m\n",
      "\u001b[34m[08/23/2021 17:15:58 INFO 140577644418880] Gathering samples...\u001b[0m\n",
      "\u001b[34m[08/23/2021 17:15:58 INFO 140577644418880] 25600 samples gathered\u001b[0m\n",
      "\u001b[34m[08/23/2021 17:15:58 INFO 140577644418880] Building Random Cut Forest...\u001b[0m\n",
      "\u001b[34m[08/23/2021 17:15:58 INFO 140577644418880] Random Cut Forest built: \n",
      "\u001b[0m\n",
      "\u001b[34mForestInfo{num_trees: 50, num_samples_in_forest: 25600, num_samples_per_tree: 512, sample_dim: 30, shingle_size: 1, trees_num_nodes: [981, 989, 991, 983, 973, 1007, 977, 991, 991, 989, 993, 997, 979, 993, 991, 995, 991, 987, 987, 993, 985, 991, 997, 987, 983, 987, 987, 983, 989, 975, 993, 995, 979, 993, 985, 983, 1003, 981, 995, 985, 981, 983, 995, 985, 983, 981, 999, 989, 987, 987, ], trees_depth: [24, 20, 21, 26, 22, 23, 20, 24, 20, 26, 23, 22, 22, 22, 26, 28, 24, 21, 20, 20, 24, 19, 23, 21, 21, 22, 24, 19, 25, 25, 26, 24, 22, 21, 27, 24, 25, 23, 20, 24, 26, 24, 22, 26, 21, 31, 22, 22, 23, 23, ], max_num_nodes: 1007, min_num_nodes: 973, avg_num_nodes: 988, max_tree_depth: 31, min_tree_depth: 19, avg_tree_depth: 23, mem_size: 28061920}\u001b[0m\n",
      "\u001b[34m#metrics {\"StartTime\": 1629738958.8916454, \"EndTime\": 1629738958.972682, \"Dimensions\": {\"Algorithm\": \"RandomCutForest\", \"Host\": \"algo-1\", \"Operation\": \"training\"}, \"Metrics\": {\"fit_model.time\": {\"sum\": 63.0795955657959, \"count\": 1, \"min\": 63.0795955657959, \"max\": 63.0795955657959}, \"model.bytes\": {\"sum\": 28061920.0, \"count\": 1, \"min\": 28061920, \"max\": 28061920}, \"finalize.time\": {\"sum\": 80.49464225769043, \"count\": 1, \"min\": 80.49464225769043, \"max\": 80.49464225769043}}}\n",
      "\u001b[0m\n",
      "\u001b[34m[08/23/2021 17:15:59 INFO 140577644418880] Master node: Serializing the RandomCutForest model\u001b[0m\n",
      "\u001b[34m#metrics {\"StartTime\": 1629738958.9727612, \"EndTime\": 1629738959.7337408, \"Dimensions\": {\"Algorithm\": \"RandomCutForest\", \"Host\": \"algo-1\", \"Operation\": \"training\"}, \"Metrics\": {\"serialize_model.time\": {\"sum\": 760.932445526123, \"count\": 1, \"min\": 760.932445526123, \"max\": 760.932445526123}}}\n",
      "\u001b[0m\n",
      "\u001b[34m[08/23/2021 17:15:59 INFO 140577644418880] Test data is not provided.\u001b[0m\n",
      "\u001b[34m#metrics {\"StartTime\": 1629738959.7338097, \"EndTime\": 1629738959.7338984, \"Dimensions\": {\"Algorithm\": \"RandomCutForest\", \"Host\": \"algo-1\", \"Operation\": \"training\"}, \"Metrics\": {\"setuptime\": {\"sum\": 24.222850799560547, \"count\": 1, \"min\": 24.222850799560547, \"max\": 24.222850799560547}, \"totaltime\": {\"sum\": 2063.441276550293, \"count\": 1, \"min\": 2063.441276550293, \"max\": 2063.441276550293}}}\n",
      "\u001b[0m\n",
      "\n",
      "2021-08-23 17:16:23 Completed - Training job completed\n",
      "Training seconds: 60\n",
      "Billable seconds: 60\n"
     ]
    }
   ],
   "source": [
    "rcf.fit(rcf.record_set(X_train))"
   ]
  },
  {
   "cell_type": "markdown",
   "metadata": {},
   "source": [
    "### Host RCF Model\n"
   ]
  },
  {
   "cell_type": "markdown",
   "metadata": {},
   "source": [
    "Once we have a trained model we can deploy it and get some predictions for our test set. SageMaker will spin up an instance for us and deploy the model, the whole process should take around 10 minutes, you will see progress being made with each `-` and an exclamation point when the process is finished."
   ]
  },
  {
   "cell_type": "code",
   "execution_count": 25,
   "metadata": {},
   "outputs": [
    {
     "name": "stderr",
     "output_type": "stream",
     "text": [
      "Defaulting to the only supported framework/algorithm version: 1. Ignoring framework/algorithm version: 1.\n"
     ]
    },
    {
     "name": "stdout",
     "output_type": "stream",
     "text": [
      "------------------!"
     ]
    }
   ],
   "source": [
    "rcf_predictor = rcf.deploy(\n",
    "    model_name=\"{}-rcf\".format(\"fraud-detection\"),\n",
    "    endpoint_name=\"{}-rcf\".format(\"fraud-detection\"),\n",
    "    initial_instance_count=1,\n",
    "    instance_type=\"ml.c5.xlarge\")"
   ]
  },
  {
   "cell_type": "code",
   "execution_count": 28,
   "metadata": {},
   "outputs": [],
   "source": [
    "from sagemaker.predictor import CSVSerializer,JSONDeserializer\n",
    "\n",
    "rcf_predictor.serializer = CSVSerializer()\n",
    "rcf_predictor.deserializer = JSONDeserializer()"
   ]
  },
  {
   "cell_type": "markdown",
   "metadata": {},
   "source": [
    "### Test Random Cut Forest"
   ]
  },
  {
   "cell_type": "markdown",
   "metadata": {},
   "source": [
    "With the model deployed, let's see how it performs in terms of separating fraudulent from legitimate transactions."
   ]
  },
  {
   "cell_type": "code",
   "execution_count": 29,
   "metadata": {},
   "outputs": [],
   "source": [
    "def predict_rcf(current_predictor, data, rows=500):\n",
    "    split_array = np.array_split(data, int(data.shape[0] / float(rows) + 1))\n",
    "    predictions = []\n",
    "    for array in split_array:\n",
    "        array_preds = [s['score'] for s in current_predictor.predict(array)['scores']]\n",
    "        predictions.append(array_preds)\n",
    "\n",
    "    return np.concatenate([np.array(batch) for batch in predictions])"
   ]
  },
  {
   "cell_type": "code",
   "execution_count": 31,
   "metadata": {},
   "outputs": [],
   "source": [
    "import numpy as np\n",
    "\n",
    "positives = X_test[y_test == 1]\n",
    "positives_scores = predict_rcf(rcf_predictor, positives)\n",
    "\n",
    "negatives = X_test[y_test == 0]\n",
    "negatives_scores = predict_rcf(rcf_predictor, negatives)"
   ]
  },
  {
   "cell_type": "code",
   "execution_count": 32,
   "metadata": {},
   "outputs": [],
   "source": [
    "import seaborn as sns\n",
    "import matplotlib.pyplot as plt\n",
    "sns.set(color_codes=True)"
   ]
  },
  {
   "cell_type": "code",
   "execution_count": 33,
   "metadata": {},
   "outputs": [
    {
     "data": {
      "text/plain": [
       "<matplotlib.legend.Legend at 0x7f3ed0faf310>"
      ]
     },
     "execution_count": 33,
     "metadata": {},
     "output_type": "execute_result"
    },
    {
     "data": {
      "image/png": "[encoded data removed]",
      "text/plain": [
       "<Figure size 432x288 with 1 Axes>"
      ]
     },
     "metadata": {},
     "output_type": "display_data"
    }
   ],
   "source": [
    "sns.distplot(positives_scores, label='fraud', bins=20)\n",
    "sns.distplot(negatives_scores, label='not-fraud', bins=20)\n",
    "plt.legend()"
   ]
  },
  {
   "cell_type": "markdown",
   "metadata": {},
   "source": [
    "The unsupervised model already can achieve some separation between the classes, with higher anomaly scores being correlated to fraud."
   ]
  },
  {
   "cell_type": "code",
   "execution_count": null,
   "metadata": {},
   "outputs": [],
   "source": []
  }
 ],
 "metadata": {
  "instance_type": "ml.t3.medium",
  "kernelspec": {
   "display_name": "Python 3 (Data Science)",
   "language": "python",
   "name": "python3__SAGEMAKER_INTERNAL__arn:aws:sagemaker:us-east-1:081325390199:image/datascience-1.0"
  },
  "language_info": {
   "codemirror_mode": {
    "name": "ipython",
    "version": 3
   },
   "file_extension": ".py",
   "mimetype": "text/x-python",
   "name": "python",
   "nbconvert_exporter": "python",
   "pygments_lexer": "ipython3",
   "version": "3.7.10"
  }
 },
 "nbformat": 4,
 "nbformat_minor": 4
}
