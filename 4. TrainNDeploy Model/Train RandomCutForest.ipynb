{
 "cells": [
  {
   "cell_type": "markdown",
   "metadata": {},
   "source": [
    "## Train an UnSupervised RandomCutForest model using the data stored in feature store"
   ]
  },
  {
   "cell_type": "markdown",
   "metadata": {},
   "source": [
    "#### Setup Sagemaker and feature store session"
   ]
  },
  {
   "cell_type": "code",
   "execution_count": 2,
   "metadata": {},
   "outputs": [],
   "source": [
    "import boto3\n",
    "import sagemaker\n",
    "from sagemaker.session import Session\n",
    "\n",
    "\n",
    "region = boto3.Session().region_name\n",
    "\n",
    "boto_session = boto3.Session(region_name=region)\n",
    "\n",
    "sagemaker_client = boto_session.client(service_name='sagemaker', region_name=region)\n",
    "featurestore_runtime = boto_session.client(service_name='sagemaker-featurestore-runtime', region_name=region)\n",
    "\n",
    "feature_store_session = Session(\n",
    "    boto_session=boto_session,\n",
    "    sagemaker_client=sagemaker_client,\n",
    "    sagemaker_featurestore_runtime_client=featurestore_runtime\n",
    ")"
   ]
  },
  {
   "cell_type": "markdown",
   "metadata": {},
   "source": [
    "#### Load the feature group created in previous lab"
   ]
  },
  {
   "cell_type": "code",
   "execution_count": 29,
   "metadata": {},
   "outputs": [],
   "source": [
    "%store -r"
   ]
  },
  {
   "cell_type": "code",
   "execution_count": 4,
   "metadata": {},
   "outputs": [],
   "source": [
    "from sagemaker.feature_store.feature_group import FeatureGroup\n",
    "\n",
    "fd_feature_group_name = fd_feature_group_name\n",
    "\n",
    "fd_feature_group = FeatureGroup(name=fd_feature_group_name, sagemaker_session=feature_store_session)"
   ]
  },
  {
   "cell_type": "markdown",
   "metadata": {},
   "source": [
    "## Build Training Dataset\n",
    "\n",
    "SageMaker FeatureStore automatically builds the Glue Data Catalog for FeatureGroups (you can optionally turn it on/off while creating the FeatureGroup). In this example, we want to create one training dataset retrieving values from the feature group. This is done by utilizing the auto-built Catalog. We run an Athena query that joins the data stored in the offline store in S3 from the 2 FeatureGroups. "
   ]
  },
  {
   "cell_type": "code",
   "execution_count": 5,
   "metadata": {},
   "outputs": [
    {
     "name": "stdout",
     "output_type": "stream",
     "text": [
      "sagemaker-us-east-1-365792799466\n"
     ]
    }
   ],
   "source": [
    "# You can modify the following to use a bucket of your choosing\n",
    "default_s3_bucket_name = feature_store_session.default_bucket()\n",
    "prefix = 'sagemaker-featurestore-demo'\n",
    "\n",
    "print(default_s3_bucket_name)"
   ]
  },
  {
   "cell_type": "code",
   "execution_count": 7,
   "metadata": {},
   "outputs": [
    {
     "name": "stdout",
     "output_type": "stream",
     "text": [
      "transactionfeaturegroup0012-1637753313\n",
      "Running SELECT * FROM \"transactionfeaturegroup0012-1637753313\"\n"
     ]
    },
    {
     "data": {
      "text/html": [
       "<div>\n",
       "<style scoped>\n",
       "    .dataframe tbody tr th:only-of-type {\n",
       "        vertical-align: middle;\n",
       "    }\n",
       "\n",
       "    .dataframe tbody tr th {\n",
       "        vertical-align: top;\n",
       "    }\n",
       "\n",
       "    .dataframe thead th {\n",
       "        text-align: right;\n",
       "    }\n",
       "</style>\n",
       "<table border=\"1\" class=\"dataframe\">\n",
       "  <thead>\n",
       "    <tr style=\"text-align: right;\">\n",
       "      <th></th>\n",
       "      <th>time</th>\n",
       "      <th>v1</th>\n",
       "      <th>v2</th>\n",
       "      <th>v3</th>\n",
       "      <th>v4</th>\n",
       "      <th>v5</th>\n",
       "      <th>v6</th>\n",
       "      <th>v7</th>\n",
       "      <th>v8</th>\n",
       "      <th>v9</th>\n",
       "      <th>...</th>\n",
       "      <th>v26</th>\n",
       "      <th>v27</th>\n",
       "      <th>v28</th>\n",
       "      <th>amount</th>\n",
       "      <th>class</th>\n",
       "      <th>event_time</th>\n",
       "      <th>record_id</th>\n",
       "      <th>write_time</th>\n",
       "      <th>api_invocation_time</th>\n",
       "      <th>is_deleted</th>\n",
       "    </tr>\n",
       "  </thead>\n",
       "  <tbody>\n",
       "    <tr>\n",
       "      <th>0</th>\n",
       "      <td>116779.0</td>\n",
       "      <td>-0.080126</td>\n",
       "      <td>-0.137993</td>\n",
       "      <td>-1.171915</td>\n",
       "      <td>-2.671600</td>\n",
       "      <td>0.459036</td>\n",
       "      <td>-1.392018</td>\n",
       "      <td>1.428846</td>\n",
       "      <td>-0.544633</td>\n",
       "      <td>1.301947</td>\n",
       "      <td>...</td>\n",
       "      <td>-0.719977</td>\n",
       "      <td>0.117604</td>\n",
       "      <td>0.051610</td>\n",
       "      <td>140.32</td>\n",
       "      <td>0</td>\n",
       "      <td>1.637753e+09</td>\n",
       "      <td>164521</td>\n",
       "      <td>2021-11-25 03:07:02.823</td>\n",
       "      <td>2021-11-25 03:01:28.000</td>\n",
       "      <td>False</td>\n",
       "    </tr>\n",
       "    <tr>\n",
       "      <th>1</th>\n",
       "      <td>158936.0</td>\n",
       "      <td>-0.947718</td>\n",
       "      <td>1.003400</td>\n",
       "      <td>-2.849800</td>\n",
       "      <td>-0.459904</td>\n",
       "      <td>1.686475</td>\n",
       "      <td>-0.114081</td>\n",
       "      <td>0.603340</td>\n",
       "      <td>0.836296</td>\n",
       "      <td>-0.704312</td>\n",
       "      <td>...</td>\n",
       "      <td>-0.036651</td>\n",
       "      <td>0.558805</td>\n",
       "      <td>0.169635</td>\n",
       "      <td>24.05</td>\n",
       "      <td>0</td>\n",
       "      <td>1.637753e+09</td>\n",
       "      <td>259052</td>\n",
       "      <td>2021-11-25 03:07:02.823</td>\n",
       "      <td>2021-11-25 03:01:28.000</td>\n",
       "      <td>False</td>\n",
       "    </tr>\n",
       "    <tr>\n",
       "      <th>2</th>\n",
       "      <td>53196.0</td>\n",
       "      <td>-1.240137</td>\n",
       "      <td>0.977945</td>\n",
       "      <td>1.872124</td>\n",
       "      <td>-2.056931</td>\n",
       "      <td>-0.485397</td>\n",
       "      <td>-1.011293</td>\n",
       "      <td>0.502642</td>\n",
       "      <td>-0.270337</td>\n",
       "      <td>-0.699048</td>\n",
       "      <td>...</td>\n",
       "      <td>-0.564175</td>\n",
       "      <td>0.423510</td>\n",
       "      <td>0.091716</td>\n",
       "      <td>2.00</td>\n",
       "      <td>0</td>\n",
       "      <td>1.637753e+09</td>\n",
       "      <td>68933</td>\n",
       "      <td>2021-11-25 03:07:02.823</td>\n",
       "      <td>2021-11-25 03:01:29.000</td>\n",
       "      <td>False</td>\n",
       "    </tr>\n",
       "    <tr>\n",
       "      <th>3</th>\n",
       "      <td>53200.0</td>\n",
       "      <td>-0.302585</td>\n",
       "      <td>0.510080</td>\n",
       "      <td>1.430475</td>\n",
       "      <td>0.476107</td>\n",
       "      <td>-0.056004</td>\n",
       "      <td>-1.010626</td>\n",
       "      <td>0.456268</td>\n",
       "      <td>0.031891</td>\n",
       "      <td>0.392884</td>\n",
       "      <td>...</td>\n",
       "      <td>-0.906655</td>\n",
       "      <td>0.244922</td>\n",
       "      <td>0.246894</td>\n",
       "      <td>1.00</td>\n",
       "      <td>0</td>\n",
       "      <td>1.637753e+09</td>\n",
       "      <td>68942</td>\n",
       "      <td>2021-11-25 03:07:02.823</td>\n",
       "      <td>2021-11-25 03:01:29.000</td>\n",
       "      <td>False</td>\n",
       "    </tr>\n",
       "    <tr>\n",
       "      <th>4</th>\n",
       "      <td>116857.0</td>\n",
       "      <td>-0.977216</td>\n",
       "      <td>-2.241838</td>\n",
       "      <td>-0.932266</td>\n",
       "      <td>-3.500137</td>\n",
       "      <td>0.133219</td>\n",
       "      <td>1.038875</td>\n",
       "      <td>2.035973</td>\n",
       "      <td>0.003291</td>\n",
       "      <td>1.935709</td>\n",
       "      <td>...</td>\n",
       "      <td>-1.732917</td>\n",
       "      <td>0.104239</td>\n",
       "      <td>0.165849</td>\n",
       "      <td>525.90</td>\n",
       "      <td>0</td>\n",
       "      <td>1.637753e+09</td>\n",
       "      <td>164605</td>\n",
       "      <td>2021-11-25 03:07:02.823</td>\n",
       "      <td>2021-11-25 03:01:29.000</td>\n",
       "      <td>False</td>\n",
       "    </tr>\n",
       "    <tr>\n",
       "      <th>...</th>\n",
       "      <td>...</td>\n",
       "      <td>...</td>\n",
       "      <td>...</td>\n",
       "      <td>...</td>\n",
       "      <td>...</td>\n",
       "      <td>...</td>\n",
       "      <td>...</td>\n",
       "      <td>...</td>\n",
       "      <td>...</td>\n",
       "      <td>...</td>\n",
       "      <td>...</td>\n",
       "      <td>...</td>\n",
       "      <td>...</td>\n",
       "      <td>...</td>\n",
       "      <td>...</td>\n",
       "      <td>...</td>\n",
       "      <td>...</td>\n",
       "      <td>...</td>\n",
       "      <td>...</td>\n",
       "      <td>...</td>\n",
       "      <td>...</td>\n",
       "    </tr>\n",
       "    <tr>\n",
       "      <th>284802</th>\n",
       "      <td>33463.0</td>\n",
       "      <td>0.976263</td>\n",
       "      <td>-0.118509</td>\n",
       "      <td>0.153144</td>\n",
       "      <td>1.493143</td>\n",
       "      <td>-0.389002</td>\n",
       "      <td>-0.585357</td>\n",
       "      <td>0.269744</td>\n",
       "      <td>-0.053734</td>\n",
       "      <td>0.262421</td>\n",
       "      <td>...</td>\n",
       "      <td>-0.256510</td>\n",
       "      <td>-0.003653</td>\n",
       "      <td>0.027824</td>\n",
       "      <td>105.00</td>\n",
       "      <td>0</td>\n",
       "      <td>1.637753e+09</td>\n",
       "      <td>24971</td>\n",
       "      <td>2021-11-25 02:52:47.395</td>\n",
       "      <td>2021-11-25 02:52:44.000</td>\n",
       "      <td>False</td>\n",
       "    </tr>\n",
       "    <tr>\n",
       "      <th>284803</th>\n",
       "      <td>75516.0</td>\n",
       "      <td>1.152690</td>\n",
       "      <td>0.189065</td>\n",
       "      <td>-0.159213</td>\n",
       "      <td>0.808778</td>\n",
       "      <td>0.531865</td>\n",
       "      <td>0.473417</td>\n",
       "      <td>0.149890</td>\n",
       "      <td>0.149309</td>\n",
       "      <td>-0.309196</td>\n",
       "      <td>...</td>\n",
       "      <td>-0.754563</td>\n",
       "      <td>0.012370</td>\n",
       "      <td>0.010008</td>\n",
       "      <td>44.00</td>\n",
       "      <td>0</td>\n",
       "      <td>1.637753e+09</td>\n",
       "      <td>119609</td>\n",
       "      <td>2021-11-25 02:52:47.395</td>\n",
       "      <td>2021-11-25 02:52:45.000</td>\n",
       "      <td>False</td>\n",
       "    </tr>\n",
       "    <tr>\n",
       "      <th>284804</th>\n",
       "      <td>75517.0</td>\n",
       "      <td>1.174378</td>\n",
       "      <td>-0.128617</td>\n",
       "      <td>0.709502</td>\n",
       "      <td>0.063804</td>\n",
       "      <td>-0.664720</td>\n",
       "      <td>-0.438048</td>\n",
       "      <td>-0.313216</td>\n",
       "      <td>-0.003463</td>\n",
       "      <td>0.340704</td>\n",
       "      <td>...</td>\n",
       "      <td>0.814629</td>\n",
       "      <td>-0.048643</td>\n",
       "      <td>0.016073</td>\n",
       "      <td>28.36</td>\n",
       "      <td>0</td>\n",
       "      <td>1.637753e+09</td>\n",
       "      <td>119613</td>\n",
       "      <td>2021-11-25 02:52:47.395</td>\n",
       "      <td>2021-11-25 02:52:45.000</td>\n",
       "      <td>False</td>\n",
       "    </tr>\n",
       "    <tr>\n",
       "      <th>284805</th>\n",
       "      <td>33483.0</td>\n",
       "      <td>-0.790976</td>\n",
       "      <td>0.259998</td>\n",
       "      <td>1.383730</td>\n",
       "      <td>-0.565954</td>\n",
       "      <td>0.824198</td>\n",
       "      <td>-0.356579</td>\n",
       "      <td>0.282127</td>\n",
       "      <td>0.275546</td>\n",
       "      <td>-0.453069</td>\n",
       "      <td>...</td>\n",
       "      <td>-0.092982</td>\n",
       "      <td>0.076560</td>\n",
       "      <td>0.139128</td>\n",
       "      <td>5.49</td>\n",
       "      <td>0</td>\n",
       "      <td>1.637753e+09</td>\n",
       "      <td>25023</td>\n",
       "      <td>2021-11-25 02:52:47.395</td>\n",
       "      <td>2021-11-25 02:52:45.000</td>\n",
       "      <td>False</td>\n",
       "    </tr>\n",
       "    <tr>\n",
       "      <th>284806</th>\n",
       "      <td>75518.0</td>\n",
       "      <td>1.147911</td>\n",
       "      <td>-0.657164</td>\n",
       "      <td>1.399858</td>\n",
       "      <td>0.741848</td>\n",
       "      <td>-1.551213</td>\n",
       "      <td>0.090663</td>\n",
       "      <td>-1.052525</td>\n",
       "      <td>0.225086</td>\n",
       "      <td>-0.457407</td>\n",
       "      <td>...</td>\n",
       "      <td>-0.423857</td>\n",
       "      <td>0.086209</td>\n",
       "      <td>0.039401</td>\n",
       "      <td>37.85</td>\n",
       "      <td>0</td>\n",
       "      <td>1.637753e+09</td>\n",
       "      <td>119614</td>\n",
       "      <td>2021-11-25 02:52:47.395</td>\n",
       "      <td>2021-11-25 02:52:45.000</td>\n",
       "      <td>False</td>\n",
       "    </tr>\n",
       "  </tbody>\n",
       "</table>\n",
       "<p>284807 rows × 36 columns</p>\n",
       "</div>"
      ],
      "text/plain": [
       "            time        v1        v2        v3        v4        v5        v6  \\\n",
       "0       116779.0 -0.080126 -0.137993 -1.171915 -2.671600  0.459036 -1.392018   \n",
       "1       158936.0 -0.947718  1.003400 -2.849800 -0.459904  1.686475 -0.114081   \n",
       "2        53196.0 -1.240137  0.977945  1.872124 -2.056931 -0.485397 -1.011293   \n",
       "3        53200.0 -0.302585  0.510080  1.430475  0.476107 -0.056004 -1.010626   \n",
       "4       116857.0 -0.977216 -2.241838 -0.932266 -3.500137  0.133219  1.038875   \n",
       "...          ...       ...       ...       ...       ...       ...       ...   \n",
       "284802   33463.0  0.976263 -0.118509  0.153144  1.493143 -0.389002 -0.585357   \n",
       "284803   75516.0  1.152690  0.189065 -0.159213  0.808778  0.531865  0.473417   \n",
       "284804   75517.0  1.174378 -0.128617  0.709502  0.063804 -0.664720 -0.438048   \n",
       "284805   33483.0 -0.790976  0.259998  1.383730 -0.565954  0.824198 -0.356579   \n",
       "284806   75518.0  1.147911 -0.657164  1.399858  0.741848 -1.551213  0.090663   \n",
       "\n",
       "              v7        v8        v9  ...       v26       v27       v28  \\\n",
       "0       1.428846 -0.544633  1.301947  ... -0.719977  0.117604  0.051610   \n",
       "1       0.603340  0.836296 -0.704312  ... -0.036651  0.558805  0.169635   \n",
       "2       0.502642 -0.270337 -0.699048  ... -0.564175  0.423510  0.091716   \n",
       "3       0.456268  0.031891  0.392884  ... -0.906655  0.244922  0.246894   \n",
       "4       2.035973  0.003291  1.935709  ... -1.732917  0.104239  0.165849   \n",
       "...          ...       ...       ...  ...       ...       ...       ...   \n",
       "284802  0.269744 -0.053734  0.262421  ... -0.256510 -0.003653  0.027824   \n",
       "284803  0.149890  0.149309 -0.309196  ... -0.754563  0.012370  0.010008   \n",
       "284804 -0.313216 -0.003463  0.340704  ...  0.814629 -0.048643  0.016073   \n",
       "284805  0.282127  0.275546 -0.453069  ... -0.092982  0.076560  0.139128   \n",
       "284806 -1.052525  0.225086 -0.457407  ... -0.423857  0.086209  0.039401   \n",
       "\n",
       "        amount  class    event_time  record_id               write_time  \\\n",
       "0       140.32      0  1.637753e+09     164521  2021-11-25 03:07:02.823   \n",
       "1        24.05      0  1.637753e+09     259052  2021-11-25 03:07:02.823   \n",
       "2         2.00      0  1.637753e+09      68933  2021-11-25 03:07:02.823   \n",
       "3         1.00      0  1.637753e+09      68942  2021-11-25 03:07:02.823   \n",
       "4       525.90      0  1.637753e+09     164605  2021-11-25 03:07:02.823   \n",
       "...        ...    ...           ...        ...                      ...   \n",
       "284802  105.00      0  1.637753e+09      24971  2021-11-25 02:52:47.395   \n",
       "284803   44.00      0  1.637753e+09     119609  2021-11-25 02:52:47.395   \n",
       "284804   28.36      0  1.637753e+09     119613  2021-11-25 02:52:47.395   \n",
       "284805    5.49      0  1.637753e+09      25023  2021-11-25 02:52:47.395   \n",
       "284806   37.85      0  1.637753e+09     119614  2021-11-25 02:52:47.395   \n",
       "\n",
       "            api_invocation_time  is_deleted  \n",
       "0       2021-11-25 03:01:28.000       False  \n",
       "1       2021-11-25 03:01:28.000       False  \n",
       "2       2021-11-25 03:01:29.000       False  \n",
       "3       2021-11-25 03:01:29.000       False  \n",
       "4       2021-11-25 03:01:29.000       False  \n",
       "...                         ...         ...  \n",
       "284802  2021-11-25 02:52:44.000       False  \n",
       "284803  2021-11-25 02:52:45.000       False  \n",
       "284804  2021-11-25 02:52:45.000       False  \n",
       "284805  2021-11-25 02:52:45.000       False  \n",
       "284806  2021-11-25 02:52:45.000       False  \n",
       "\n",
       "[284807 rows x 36 columns]"
      ]
     },
     "execution_count": 7,
     "metadata": {},
     "output_type": "execute_result"
    }
   ],
   "source": [
    "transaction_query = fd_feature_group.athena_query()\n",
    "\n",
    "transaction_table = transaction_query.table_name\n",
    "\n",
    "print(transaction_table)\n",
    "\n",
    "query_string = 'SELECT * FROM \"'+transaction_table+'\"'\n",
    "print('Running ' + query_string)\n",
    "\n",
    "# run Athena query. The output is loaded to a Pandas dataframe.\n",
    "#dataset = pd.DataFrame()\n",
    "transaction_query.run(query_string=query_string, output_location='s3://'+default_s3_bucket_name+'/'+prefix+'/query_results/')\n",
    "transaction_query.wait()\n",
    "dataset = transaction_query.as_dataframe()\n",
    "\n",
    "dataset"
   ]
  },
  {
   "cell_type": "code",
   "execution_count": 8,
   "metadata": {},
   "outputs": [],
   "source": [
    "# Select useful columns for training with target column as the first.\n",
    "dataset = dataset[['time', 'v1', 'v2', 'v3', 'v4', 'v5', 'v6', 'v7', 'v8', 'v9', 'v10',\n",
    "       'v11', 'v12', 'v13', 'v14', 'v15', 'v16', 'v17', 'v18', 'v19', 'v20',\n",
    "       'v21', 'v22', 'v23', 'v24', 'v25', 'v26', 'v27', 'v28', 'amount',\n",
    "       'class']]\n"
   ]
  },
  {
   "cell_type": "code",
   "execution_count": 9,
   "metadata": {},
   "outputs": [],
   "source": [
    "dataset = dataset.dropna()"
   ]
  },
  {
   "cell_type": "markdown",
   "metadata": {},
   "source": [
    "The class column corresponds to whether or not a transaction is fradulent. We see that the majority of data is non-fraudulant with only $492$ ($.173\\%$) of the data corresponding to fraudulant examples."
   ]
  },
  {
   "cell_type": "code",
   "execution_count": 10,
   "metadata": {},
   "outputs": [
    {
     "name": "stdout",
     "output_type": "stream",
     "text": [
      "Number of frauds:  492\n",
      "Number of non-frauds:  284315\n",
      "Percentage of fradulent data: 0.1727485630620034\n"
     ]
    }
   ],
   "source": [
    "nonfrauds, frauds = dataset.groupby('class').size()\n",
    "print('Number of frauds: ', frauds)\n",
    "print('Number of non-frauds: ', nonfrauds)\n",
    "print('Percentage of fradulent data:', 100.*frauds/(frauds + nonfrauds))"
   ]
  },
  {
   "cell_type": "markdown",
   "metadata": {},
   "source": [
    "This dataset has 28 columns, $V_i$ for $i=1..28$ of anonymized features along with columns for time, amount, and class. We already know that the columns $V_i$ have been normalized to have $0$ mean and unit standard deviation as the result of a PCA. You can read more about PCA here:. \n",
    "\n",
    "Tip: For our dataset this amount of preprocessing will give us reasonable accuracy, but it's important to note that there are more preprocessing steps one can use to improve accuracy . For unbalanced data sets like ours where the positive (fraudulent) examples occur much less frequently than the negative (legitimate) examples, we may try “over-sampling” the minority dataset by generating synthetic data (read about SMOTE in Data Mining for Imbalanced Datasets: An Overview (https://link.springer.com/chapter/10.1007%2F0-387-25465-X_40) or undersampling the majority class by using ensemble methods (see http://citeseerx.ist.psu.edu/viewdoc/download?doi=10.1.1.68.6858&rep=rep1&type=pdfor)."
   ]
  },
  {
   "cell_type": "code",
   "execution_count": 11,
   "metadata": {},
   "outputs": [],
   "source": [
    "feature_columns = dataset.columns[:-1]\n",
    "label_column = dataset.columns[-1]\n",
    "\n",
    "features = dataset[feature_columns].values.astype('float32')\n",
    "labels = (dataset[label_column].values).astype('float32')"
   ]
  },
  {
   "cell_type": "markdown",
   "metadata": {},
   "source": [
    "Let's do some analysis and discuss different ways we can preprocess our data. Let's discuss the way in which this data was preprocessed."
   ]
  },
  {
   "cell_type": "markdown",
   "metadata": {},
   "source": [
    "## Amazon SageMaker RandomCutForest\n",
    "\n",
    "In a fraud detection scenario, commonly we will have very few labeled examples, and it's possible that labeling fraud takes a very long time. We would like then to extract information from the unlabeled data we have at hand as well. _Anomaly detection_ is a form of unsupervised learning where we try to identify anomalous examples based solely on their feature characteristics. Random Cut Forest is a state-of-the-art anomaly detection algorithm that is both accurate and scalable. We will train such a model on our training data and evaluate its performance on our test set."
   ]
  },
  {
   "cell_type": "markdown",
   "metadata": {},
   "source": [
    "We will split our dataset into a train and test to evaluate the performance of our models. It's important to do so _before_ any techniques meant to alleviate the class imbalance are used. This ensures that we don't leak information from the test set into the train set."
   ]
  },
  {
   "cell_type": "code",
   "execution_count": 17,
   "metadata": {},
   "outputs": [],
   "source": [
    "from sklearn.model_selection import train_test_split\n",
    "\n",
    "X_train, X_test, y_train, y_test = train_test_split(\n",
    "    features, labels, test_size=0.1, random_state=42)\n"
   ]
  },
  {
   "cell_type": "markdown",
   "metadata": {},
   "source": [
    "---\n",
    "## Train\n"
   ]
  },
  {
   "cell_type": "code",
   "execution_count": 13,
   "metadata": {},
   "outputs": [],
   "source": [
    "import os\n",
    "import sagemaker\n",
    "\n",
    "session = sagemaker.Session()\n",
    "bucket = default_s3_bucket_name\n",
    "prefix = 'rcf-fraud-classifier'"
   ]
  },
  {
   "cell_type": "code",
   "execution_count": 14,
   "metadata": {},
   "outputs": [],
   "source": [
    "sagemaker_iam_role = sagemaker.get_execution_role()"
   ]
  },
  {
   "cell_type": "code",
   "execution_count": 15,
   "metadata": {},
   "outputs": [],
   "source": [
    "from sagemaker import RandomCutForest\n",
    "\n",
    "# specify general training job information\n",
    "rcf = RandomCutForest(role=sagemaker_iam_role,\n",
    "                      instance_count=1,\n",
    "                      instance_type=\"ml.m5.xlarge\",\n",
    "                      data_location='s3://{}/{}/'.format(bucket, prefix),\n",
    "                      output_path='s3://{}/{}/output'.format(bucket, prefix),\n",
    "                      base_job_name=\"{}-rcf\".format(\"fraud-detection\"),\n",
    "                      num_samples_per_tree=512,\n",
    "                      num_trees=50)"
   ]
  },
  {
   "cell_type": "code",
   "execution_count": 16,
   "metadata": {
    "scrolled": true
   },
   "outputs": [
    {
     "name": "stderr",
     "output_type": "stream",
     "text": [
      "Defaulting to the only supported framework/algorithm version: 1. Ignoring framework/algorithm version: 1.\n"
     ]
    },
    {
     "name": "stdout",
     "output_type": "stream",
     "text": [
      "2021-11-25 04:08:49 Starting - Starting the training job...\n",
      "2021-11-25 04:09:13 Starting - Launching requested ML instancesProfilerReport-1637813329: InProgress\n",
      "......\n",
      "2021-11-25 04:10:13 Starting - Preparing the instances for training......\n",
      "2021-11-25 04:11:17 Downloading - Downloading input data...\n",
      "2021-11-25 04:11:34 Training - Downloading the training image...\n",
      "2021-11-25 04:12:19 Uploading - Uploading generated training model\u001b[34mDocker entrypoint called with argument(s): train\u001b[0m\n",
      "\u001b[34mRunning default environment configuration script\u001b[0m\n",
      "\u001b[34m[11/25/2021 04:12:11 INFO 140564625372992] Reading default configuration from /opt/amazon/lib/python3.7/site-packages/algorithm/resources/default-conf.json: {'num_samples_per_tree': 256, 'num_trees': 100, 'force_dense': 'true', 'eval_metrics': ['accuracy', 'precision_recall_fscore'], 'epochs': 1, 'mini_batch_size': 1000, '_log_level': 'info', '_kvstore': 'dist_async', '_num_kv_servers': 'auto', '_num_gpus': 'auto', '_tuning_objective_metric': '', '_ftp_port': 8999}\u001b[0m\n",
      "\u001b[34m[11/25/2021 04:12:11 INFO 140564625372992] Merging with provided configuration from /opt/ml/input/config/hyperparameters.json: {'num_trees': '50', 'num_samples_per_tree': '512', 'feature_dim': '30', 'mini_batch_size': '1000'}\u001b[0m\n",
      "\u001b[34m[11/25/2021 04:12:11 INFO 140564625372992] Final configuration: {'num_samples_per_tree': '512', 'num_trees': '50', 'force_dense': 'true', 'eval_metrics': ['accuracy', 'precision_recall_fscore'], 'epochs': 1, 'mini_batch_size': '1000', '_log_level': 'info', '_kvstore': 'dist_async', '_num_kv_servers': 'auto', '_num_gpus': 'auto', '_tuning_objective_metric': '', '_ftp_port': 8999, 'feature_dim': '30'}\u001b[0m\n",
      "\u001b[34m[11/25/2021 04:12:11 WARNING 140564625372992] Loggers have already been setup.\u001b[0m\n",
      "\u001b[34m[11/25/2021 04:12:11 INFO 140564625372992] Launching parameter server for role scheduler\u001b[0m\n",
      "\u001b[34m[11/25/2021 04:12:11 INFO 140564625372992] {'ENVROOT': '/opt/amazon', 'PROTOCOL_BUFFERS_PYTHON_IMPLEMENTATION': 'cpp', 'HOSTNAME': 'ip-10-2-226-168.ec2.internal', 'TRAINING_JOB_NAME': 'fraud-detection-rcf-2021-11-25-04-08-49-561', 'NVIDIA_REQUIRE_CUDA': 'cuda>=9.0', 'TRAINING_JOB_ARN': 'arn:aws:sagemaker:us-east-1:365792799466:training-job/fraud-detection-rcf-2021-11-25-04-08-49-561', 'AWS_CONTAINER_CREDENTIALS_RELATIVE_URI': '/v2/credentials/5f51cff8-6194-43be-8f4a-19963bdca6c4', 'CANONICAL_ENVROOT': '/opt/amazon', 'PYTHONUNBUFFERED': 'TRUE', 'NVIDIA_VISIBLE_DEVICES': 'void', 'LD_LIBRARY_PATH': '/opt/amazon/lib/python3.7/site-packages/cv2/../../../../lib:/usr/local/nvidia/lib64:/opt/amazon/lib', 'MXNET_KVSTORE_BIGARRAY_BOUND': '400000000', 'NVIDIA_DRIVER_CAPABILITIES': 'compute,utility', 'AWS_EXECUTION_ENV': 'AWS_ECS_EC2', 'PATH': '/opt/amazon/bin:/usr/local/nvidia/bin:/usr/local/sbin:/usr/local/bin:/usr/sbin:/usr/bin:/sbin:/bin:/opt/amazon/bin:/opt/amazon/bin', 'PWD': '/', 'LANG': 'en_US.utf8', 'AWS_REGION': 'us-east-1', 'SAGEMAKER_METRICS_DIRECTORY': '/opt/ml/output/metrics/sagemaker', 'HOME': '/root', 'SHLVL': '1', 'PROTOCOL_BUFFERS_PYTHON_IMPLEMENTATION_VERSION': '2', 'OMP_NUM_THREADS': '2', 'ECS_CONTAINER_METADATA_URI': 'http://169.254.170.2/v3/488a0ec7-22a3-4772-91fc-b132989c314d', 'DMLC_INTERFACE': 'eth0', 'ECS_CONTAINER_METADATA_URI_V4': 'http://169.254.170.2/v4/488a0ec7-22a3-4772-91fc-b132989c314d', 'SAGEMAKER_HTTP_PORT': '8080', 'SAGEMAKER_DATA_PATH': '/opt/ml', 'KMP_DUPLICATE_LIB_OK': 'True', 'KMP_INIT_AT_FORK': 'FALSE'}\u001b[0m\n",
      "\u001b[34m[11/25/2021 04:12:11 INFO 140564625372992] envs={'ENVROOT': '/opt/amazon', 'PROTOCOL_BUFFERS_PYTHON_IMPLEMENTATION': 'cpp', 'HOSTNAME': 'ip-10-2-226-168.ec2.internal', 'TRAINING_JOB_NAME': 'fraud-detection-rcf-2021-11-25-04-08-49-561', 'NVIDIA_REQUIRE_CUDA': 'cuda>=9.0', 'TRAINING_JOB_ARN': 'arn:aws:sagemaker:us-east-1:365792799466:training-job/fraud-detection-rcf-2021-11-25-04-08-49-561', 'AWS_CONTAINER_CREDENTIALS_RELATIVE_URI': '/v2/credentials/5f51cff8-6194-43be-8f4a-19963bdca6c4', 'CANONICAL_ENVROOT': '/opt/amazon', 'PYTHONUNBUFFERED': 'TRUE', 'NVIDIA_VISIBLE_DEVICES': 'void', 'LD_LIBRARY_PATH': '/opt/amazon/lib/python3.7/site-packages/cv2/../../../../lib:/usr/local/nvidia/lib64:/opt/amazon/lib', 'MXNET_KVSTORE_BIGARRAY_BOUND': '400000000', 'NVIDIA_DRIVER_CAPABILITIES': 'compute,utility', 'AWS_EXECUTION_ENV': 'AWS_ECS_EC2', 'PATH': '/opt/amazon/bin:/usr/local/nvidia/bin:/usr/local/sbin:/usr/local/bin:/usr/sbin:/usr/bin:/sbin:/bin:/opt/amazon/bin:/opt/amazon/bin', 'PWD': '/', 'LANG': 'en_US.utf8', 'AWS_REGION': 'us-east-1', 'SAGEMAKER_METRICS_DIRECTORY': '/opt/ml/output/metrics/sagemaker', 'HOME': '/root', 'SHLVL': '1', 'PROTOCOL_BUFFERS_PYTHON_IMPLEMENTATION_VERSION': '2', 'OMP_NUM_THREADS': '2', 'ECS_CONTAINER_METADATA_URI': 'http://169.254.170.2/v3/488a0ec7-22a3-4772-91fc-b132989c314d', 'DMLC_INTERFACE': 'eth0', 'ECS_CONTAINER_METADATA_URI_V4': 'http://169.254.170.2/v4/488a0ec7-22a3-4772-91fc-b132989c314d', 'SAGEMAKER_HTTP_PORT': '8080', 'SAGEMAKER_DATA_PATH': '/opt/ml', 'KMP_DUPLICATE_LIB_OK': 'True', 'KMP_INIT_AT_FORK': 'FALSE', 'DMLC_ROLE': 'scheduler', 'DMLC_PS_ROOT_URI': '10.2.226.168', 'DMLC_PS_ROOT_PORT': '9000', 'DMLC_NUM_SERVER': '1', 'DMLC_NUM_WORKER': '1'}\u001b[0m\n",
      "\u001b[34m[11/25/2021 04:12:11 INFO 140564625372992] Launching parameter server for role server\u001b[0m\n",
      "\u001b[34m[11/25/2021 04:12:11 INFO 140564625372992] {'ENVROOT': '/opt/amazon', 'PROTOCOL_BUFFERS_PYTHON_IMPLEMENTATION': 'cpp', 'HOSTNAME': 'ip-10-2-226-168.ec2.internal', 'TRAINING_JOB_NAME': 'fraud-detection-rcf-2021-11-25-04-08-49-561', 'NVIDIA_REQUIRE_CUDA': 'cuda>=9.0', 'TRAINING_JOB_ARN': 'arn:aws:sagemaker:us-east-1:365792799466:training-job/fraud-detection-rcf-2021-11-25-04-08-49-561', 'AWS_CONTAINER_CREDENTIALS_RELATIVE_URI': '/v2/credentials/5f51cff8-6194-43be-8f4a-19963bdca6c4', 'CANONICAL_ENVROOT': '/opt/amazon', 'PYTHONUNBUFFERED': 'TRUE', 'NVIDIA_VISIBLE_DEVICES': 'void', 'LD_LIBRARY_PATH': '/opt/amazon/lib/python3.7/site-packages/cv2/../../../../lib:/usr/local/nvidia/lib64:/opt/amazon/lib', 'MXNET_KVSTORE_BIGARRAY_BOUND': '400000000', 'NVIDIA_DRIVER_CAPABILITIES': 'compute,utility', 'AWS_EXECUTION_ENV': 'AWS_ECS_EC2', 'PATH': '/opt/amazon/bin:/usr/local/nvidia/bin:/usr/local/sbin:/usr/local/bin:/usr/sbin:/usr/bin:/sbin:/bin:/opt/amazon/bin:/opt/amazon/bin', 'PWD': '/', 'LANG': 'en_US.utf8', 'AWS_REGION': 'us-east-1', 'SAGEMAKER_METRICS_DIRECTORY': '/opt/ml/output/metrics/sagemaker', 'HOME': '/root', 'SHLVL': '1', 'PROTOCOL_BUFFERS_PYTHON_IMPLEMENTATION_VERSION': '2', 'OMP_NUM_THREADS': '2', 'ECS_CONTAINER_METADATA_URI': 'http://169.254.170.2/v3/488a0ec7-22a3-4772-91fc-b132989c314d', 'DMLC_INTERFACE': 'eth0', 'ECS_CONTAINER_METADATA_URI_V4': 'http://169.254.170.2/v4/488a0ec7-22a3-4772-91fc-b132989c314d', 'SAGEMAKER_HTTP_PORT': '8080', 'SAGEMAKER_DATA_PATH': '/opt/ml', 'KMP_DUPLICATE_LIB_OK': 'True', 'KMP_INIT_AT_FORK': 'FALSE'}\u001b[0m\n",
      "\u001b[34m[11/25/2021 04:12:11 INFO 140564625372992] envs={'ENVROOT': '/opt/amazon', 'PROTOCOL_BUFFERS_PYTHON_IMPLEMENTATION': 'cpp', 'HOSTNAME': 'ip-10-2-226-168.ec2.internal', 'TRAINING_JOB_NAME': 'fraud-detection-rcf-2021-11-25-04-08-49-561', 'NVIDIA_REQUIRE_CUDA': 'cuda>=9.0', 'TRAINING_JOB_ARN': 'arn:aws:sagemaker:us-east-1:365792799466:training-job/fraud-detection-rcf-2021-11-25-04-08-49-561', 'AWS_CONTAINER_CREDENTIALS_RELATIVE_URI': '/v2/credentials/5f51cff8-6194-43be-8f4a-19963bdca6c4', 'CANONICAL_ENVROOT': '/opt/amazon', 'PYTHONUNBUFFERED': 'TRUE', 'NVIDIA_VISIBLE_DEVICES': 'void', 'LD_LIBRARY_PATH': '/opt/amazon/lib/python3.7/site-packages/cv2/../../../../lib:/usr/local/nvidia/lib64:/opt/amazon/lib', 'MXNET_KVSTORE_BIGARRAY_BOUND': '400000000', 'NVIDIA_DRIVER_CAPABILITIES': 'compute,utility', 'AWS_EXECUTION_ENV': 'AWS_ECS_EC2', 'PATH': '/opt/amazon/bin:/usr/local/nvidia/bin:/usr/local/sbin:/usr/local/bin:/usr/sbin:/usr/bin:/sbin:/bin:/opt/amazon/bin:/opt/amazon/bin', 'PWD': '/', 'LANG': 'en_US.utf8', 'AWS_REGION': 'us-east-1', 'SAGEMAKER_METRICS_DIRECTORY': '/opt/ml/output/metrics/sagemaker', 'HOME': '/root', 'SHLVL': '1', 'PROTOCOL_BUFFERS_PYTHON_IMPLEMENTATION_VERSION': '2', 'OMP_NUM_THREADS': '2', 'ECS_CONTAINER_METADATA_URI': 'http://169.254.170.2/v3/488a0ec7-22a3-4772-91fc-b132989c314d', 'DMLC_INTERFACE': 'eth0', 'ECS_CONTAINER_METADATA_URI_V4': 'http://169.254.170.2/v4/488a0ec7-22a3-4772-91fc-b132989c314d', 'SAGEMAKER_HTTP_PORT': '8080', 'SAGEMAKER_DATA_PATH': '/opt/ml', 'KMP_DUPLICATE_LIB_OK': 'True', 'KMP_INIT_AT_FORK': 'FALSE', 'DMLC_ROLE': 'server', 'DMLC_PS_ROOT_URI': '10.2.226.168', 'DMLC_PS_ROOT_PORT': '9000', 'DMLC_NUM_SERVER': '1', 'DMLC_NUM_WORKER': '1'}\u001b[0m\n",
      "\u001b[34m[11/25/2021 04:12:11 INFO 140564625372992] Environment: {'ENVROOT': '/opt/amazon', 'PROTOCOL_BUFFERS_PYTHON_IMPLEMENTATION': 'cpp', 'HOSTNAME': 'ip-10-2-226-168.ec2.internal', 'TRAINING_JOB_NAME': 'fraud-detection-rcf-2021-11-25-04-08-49-561', 'NVIDIA_REQUIRE_CUDA': 'cuda>=9.0', 'TRAINING_JOB_ARN': 'arn:aws:sagemaker:us-east-1:365792799466:training-job/fraud-detection-rcf-2021-11-25-04-08-49-561', 'AWS_CONTAINER_CREDENTIALS_RELATIVE_URI': '/v2/credentials/5f51cff8-6194-43be-8f4a-19963bdca6c4', 'CANONICAL_ENVROOT': '/opt/amazon', 'PYTHONUNBUFFERED': 'TRUE', 'NVIDIA_VISIBLE_DEVICES': 'void', 'LD_LIBRARY_PATH': '/opt/amazon/lib/python3.7/site-packages/cv2/../../../../lib:/usr/local/nvidia/lib64:/opt/amazon/lib', 'MXNET_KVSTORE_BIGARRAY_BOUND': '400000000', 'NVIDIA_DRIVER_CAPABILITIES': 'compute,utility', 'AWS_EXECUTION_ENV': 'AWS_ECS_EC2', 'PATH': '/opt/amazon/bin:/usr/local/nvidia/bin:/usr/local/sbin:/usr/local/bin:/usr/sbin:/usr/bin:/sbin:/bin:/opt/amazon/bin:/opt/amazon/bin', 'PWD': '/', 'LANG': 'en_US.utf8', 'AWS_REGION': 'us-east-1', 'SAGEMAKER_METRICS_DIRECTORY': '/opt/ml/output/metrics/sagemaker', 'HOME': '/root', 'SHLVL': '1', 'PROTOCOL_BUFFERS_PYTHON_IMPLEMENTATION_VERSION': '2', 'OMP_NUM_THREADS': '2', 'ECS_CONTAINER_METADATA_URI': 'http://169.254.170.2/v3/488a0ec7-22a3-4772-91fc-b132989c314d', 'DMLC_INTERFACE': 'eth0', 'ECS_CONTAINER_METADATA_URI_V4': 'http://169.254.170.2/v4/488a0ec7-22a3-4772-91fc-b132989c314d', 'SAGEMAKER_HTTP_PORT': '8080', 'SAGEMAKER_DATA_PATH': '/opt/ml', 'KMP_DUPLICATE_LIB_OK': 'True', 'KMP_INIT_AT_FORK': 'FALSE', 'DMLC_ROLE': 'worker', 'DMLC_PS_ROOT_URI': '10.2.226.168', 'DMLC_PS_ROOT_PORT': '9000', 'DMLC_NUM_SERVER': '1', 'DMLC_NUM_WORKER': '1'}\u001b[0m\n",
      "\u001b[34mProcess 34 is a shell:scheduler.\u001b[0m\n",
      "\u001b[34mProcess 44 is a shell:server.\u001b[0m\n",
      "\u001b[34mProcess 1 is a worker.\u001b[0m\n",
      "\u001b[34m[11/25/2021 04:12:11 INFO 140564625372992] Using default worker.\u001b[0m\n",
      "\u001b[34m[11/25/2021 04:12:11 INFO 140564625372992] Loaded iterator creator application/x-recordio-protobuf for content type ('application/x-recordio-protobuf', '1.0')\u001b[0m\n",
      "\u001b[34m[11/25/2021 04:12:11 INFO 140564625372992] Checkpoint loading and saving are disabled.\u001b[0m\n",
      "\u001b[34m[11/25/2021 04:12:11 INFO 140564625372992] Verifying hyperparamemters...\u001b[0m\n",
      "\u001b[34m[11/25/2021 04:12:11 INFO 140564625372992] Hyperparameters are correct.\u001b[0m\n",
      "\u001b[34m[11/25/2021 04:12:11 INFO 140564625372992] Validating that feature_dim agrees with dimensions in training data...\u001b[0m\n",
      "\u001b[34m[11/25/2021 04:12:11 INFO 140564625372992] feature_dim is correct.\u001b[0m\n",
      "\u001b[34m[11/25/2021 04:12:11 INFO 140564625372992] Validating memory limits...\u001b[0m\n",
      "\u001b[34m[11/25/2021 04:12:11 INFO 140564625372992] Available memory in bytes: 14777487360\u001b[0m\n",
      "\u001b[34m[11/25/2021 04:12:11 INFO 140564625372992] Estimated sample size in bytes: 6144000\u001b[0m\n",
      "\u001b[34m[11/25/2021 04:12:11 INFO 140564625372992] Estimated memory needed to build the forest in bytes: 30720000\u001b[0m\n",
      "\u001b[34m[11/25/2021 04:12:11 INFO 140564625372992] Memory limits validated.\u001b[0m\n",
      "\u001b[34m[11/25/2021 04:12:11 INFO 140564625372992] Starting cluster sharing facilities...\u001b[0m\n",
      "\u001b[34m[I 21-11-25 04:12:11] >>> starting FTP server on 0.0.0.0:8999, pid=1 <<<\u001b[0m\n",
      "\u001b[34m[11/25/2021 04:12:11 INFO 140564625372992] Create Store: dist_async\u001b[0m\n",
      "\u001b[34m[11/25/2021 04:12:11 INFO 140563180259072] >>> starting FTP server on 0.0.0.0:8999, pid=1 <<<\u001b[0m\n",
      "\u001b[34m[I 21-11-25 04:12:11] poller: <class 'pyftpdlib.ioloop.Epoll'>\u001b[0m\n",
      "\u001b[34m[11/25/2021 04:12:11 INFO 140563180259072] poller: <class 'pyftpdlib.ioloop.Epoll'>\u001b[0m\n",
      "\u001b[34m[I 21-11-25 04:12:11] masquerade (NAT) address: None\u001b[0m\n",
      "\u001b[34m[11/25/2021 04:12:11 INFO 140563180259072] masquerade (NAT) address: None\u001b[0m\n",
      "\u001b[34m[11/25/2021 04:12:11 INFO 140563180259072] passive ports: None\u001b[0m\n",
      "\u001b[34m[I 21-11-25 04:12:11] passive ports: None\u001b[0m\n",
      "\u001b[34m[I 21-11-25 04:12:11] use sendfile(2): True\u001b[0m\n",
      "\u001b[34m[11/25/2021 04:12:11 INFO 140563180259072] use sendfile(2): True\u001b[0m\n",
      "\u001b[34m[11/25/2021 04:12:12 INFO 140564625372992] Cluster sharing facilities started.\u001b[0m\n",
      "\u001b[34m[11/25/2021 04:12:12 INFO 140564625372992] Verifying all workers are accessible...\u001b[0m\n",
      "\u001b[34m[11/25/2021 04:12:12 INFO 140564625372992] All workers accessible.\u001b[0m\n",
      "\u001b[34m[11/25/2021 04:12:12 INFO 140564625372992] Initializing Sampler...\u001b[0m\n",
      "\u001b[34m[11/25/2021 04:12:12 INFO 140564625372992] Sampler correctly initialized.\u001b[0m\n",
      "\u001b[34m#metrics {\"StartTime\": 1637813531.8437064, \"EndTime\": 1637813532.9795642, \"Dimensions\": {\"Algorithm\": \"RandomCutForest\", \"Host\": \"algo-1\", \"Operation\": \"training\"}, \"Metrics\": {\"initialize.time\": {\"sum\": 1130.6922435760498, \"count\": 1, \"min\": 1130.6922435760498, \"max\": 1130.6922435760498}}}\u001b[0m\n",
      "\u001b[34m#metrics {\"StartTime\": 1637813532.9797153, \"EndTime\": 1637813532.9797513, \"Dimensions\": {\"Algorithm\": \"RandomCutForest\", \"Host\": \"algo-1\", \"Operation\": \"training\", \"Meta\": \"init_train_data_iter\"}, \"Metrics\": {\"Total Records Seen\": {\"sum\": 0.0, \"count\": 1, \"min\": 0, \"max\": 0}, \"Total Batches Seen\": {\"sum\": 0.0, \"count\": 1, \"min\": 0, \"max\": 0}, \"Max Records Seen Between Resets\": {\"sum\": 0.0, \"count\": 1, \"min\": 0, \"max\": 0}, \"Max Batches Seen Between Resets\": {\"sum\": 0.0, \"count\": 1, \"min\": 0, \"max\": 0}, \"Reset Count\": {\"sum\": 0.0, \"count\": 1, \"min\": 0, \"max\": 0}, \"Number of Records Since Last Reset\": {\"sum\": 0.0, \"count\": 1, \"min\": 0, \"max\": 0}, \"Number of Batches Since Last Reset\": {\"sum\": 0.0, \"count\": 1, \"min\": 0, \"max\": 0}}}\u001b[0m\n",
      "\u001b[34m[2021-11-25 04:12:12.981] [tensorio] [info] epoch_stats={\"data_pipeline\": \"/opt/ml/input/data/train\", \"epoch\": 0, \"duration\": 1136, \"num_examples\": 1, \"num_bytes\": 148000}\u001b[0m\n",
      "\u001b[34m[11/25/2021 04:12:12 INFO 140564625372992] Sampling training data...\u001b[0m\n",
      "\u001b[34m[2021-11-25 04:12:13.259] [tensorio] [info] epoch_stats={\"data_pipeline\": \"/opt/ml/input/data/train\", \"epoch\": 1, \"duration\": 277, \"num_examples\": 257, \"num_bytes\": 37936248}\u001b[0m\n",
      "\u001b[34m[11/25/2021 04:12:13 INFO 140564625372992] Sampling training data completed.\u001b[0m\n",
      "\u001b[34m#metrics {\"StartTime\": 1637813532.97967, \"EndTime\": 1637813533.270518, \"Dimensions\": {\"Algorithm\": \"RandomCutForest\", \"Host\": \"algo-1\", \"Operation\": \"training\"}, \"Metrics\": {\"epochs\": {\"sum\": 1.0, \"count\": 1, \"min\": 1, \"max\": 1}, \"update.time\": {\"sum\": 289.1976833343506, \"count\": 1, \"min\": 289.1976833343506, \"max\": 289.1976833343506}}}\u001b[0m\n",
      "\u001b[34m[11/25/2021 04:12:13 INFO 140564625372992] Early stop condition met. Stopping training.\u001b[0m\n",
      "\u001b[34m[11/25/2021 04:12:13 INFO 140564625372992] #progress_metric: host=algo-1, completed 100 % epochs\u001b[0m\n",
      "\u001b[34m#metrics {\"StartTime\": 1637813532.9812925, \"EndTime\": 1637813533.2708423, \"Dimensions\": {\"Algorithm\": \"RandomCutForest\", \"Host\": \"algo-1\", \"Operation\": \"training\", \"epoch\": 0, \"Meta\": \"training_data_iter\"}, \"Metrics\": {\"Total Records Seen\": {\"sum\": 256326.0, \"count\": 1, \"min\": 256326, \"max\": 256326}, \"Total Batches Seen\": {\"sum\": 257.0, \"count\": 1, \"min\": 257, \"max\": 257}, \"Max Records Seen Between Resets\": {\"sum\": 256326.0, \"count\": 1, \"min\": 256326, \"max\": 256326}, \"Max Batches Seen Between Resets\": {\"sum\": 257.0, \"count\": 1, \"min\": 257, \"max\": 257}, \"Reset Count\": {\"sum\": 1.0, \"count\": 1, \"min\": 1, \"max\": 1}, \"Number of Records Since Last Reset\": {\"sum\": 256326.0, \"count\": 1, \"min\": 256326, \"max\": 256326}, \"Number of Batches Since Last Reset\": {\"sum\": 257.0, \"count\": 1, \"min\": 257, \"max\": 257}}}\u001b[0m\n",
      "\u001b[34m[11/25/2021 04:12:13 INFO 140564625372992] #throughput_metric: host=algo-1, train throughput=884901.3843423751 records/second\u001b[0m\n",
      "\u001b[34m[11/25/2021 04:12:13 INFO 140564625372992] Master node: building Random Cut Forest...\u001b[0m\n",
      "\u001b[34m[11/25/2021 04:12:13 INFO 140564625372992] Gathering samples...\u001b[0m\n",
      "\u001b[34m[11/25/2021 04:12:13 INFO 140564625372992] 25600 samples gathered\u001b[0m\n",
      "\u001b[34m[11/25/2021 04:12:13 INFO 140564625372992] Building Random Cut Forest...\u001b[0m\n",
      "\u001b[34m[11/25/2021 04:12:13 INFO 140564625372992] Random Cut Forest built: \u001b[0m\n",
      "\u001b[34mForestInfo{num_trees: 50, num_samples_in_forest: 25600, num_samples_per_tree: 512, sample_dim: 30, shingle_size: 1, trees_num_nodes: [953, 919, 943, 955, 961, 907, 941, 929, 923, 913, 935, 921, 933, 939, 931, 943, 919, 941, 943, 929, 945, 935, 941, 915, 925, 917, 925, 931, 921, 917, 941, 925, 923, 929, 925, 937, 925, 939, 945, 921, 939, 923, 925, 921, 933, 915, 929, 945, 921, 929, ], trees_depth: [21, 21, 21, 19, 20, 20, 21, 23, 26, 21, 19, 24, 19, 19, 23, 18, 21, 17, 22, 26, 21, 21, 20, 18, 21, 22, 24, 24, 18, 22, 20, 20, 22, 20, 21, 20, 19, 26, 22, 23, 20, 22, 22, 19, 22, 20, 24, 24, 21, 19, ], max_num_nodes: 961, min_num_nodes: 907, avg_num_nodes: 930, max_tree_depth: 26, min_tree_depth: 17, avg_tree_depth: 21, mem_size: 26435168}\u001b[0m\n",
      "\u001b[34m#metrics {\"StartTime\": 1637813533.2706084, \"EndTime\": 1637813533.3387332, \"Dimensions\": {\"Algorithm\": \"RandomCutForest\", \"Host\": \"algo-1\", \"Operation\": \"training\"}, \"Metrics\": {\"fit_model.time\": {\"sum\": 46.43511772155762, \"count\": 1, \"min\": 46.43511772155762, \"max\": 46.43511772155762}, \"model.bytes\": {\"sum\": 26435168.0, \"count\": 1, \"min\": 26435168, \"max\": 26435168}, \"finalize.time\": {\"sum\": 67.57783889770508, \"count\": 1, \"min\": 67.57783889770508, \"max\": 67.57783889770508}}}\u001b[0m\n",
      "\u001b[34m[11/25/2021 04:12:14 INFO 140564625372992] Master node: Serializing the RandomCutForest model\u001b[0m\n",
      "\u001b[34m#metrics {\"StartTime\": 1637813533.3388178, \"EndTime\": 1637813534.0800588, \"Dimensions\": {\"Algorithm\": \"RandomCutForest\", \"Host\": \"algo-1\", \"Operation\": \"training\"}, \"Metrics\": {\"serialize_model.time\": {\"sum\": 741.1918640136719, \"count\": 1, \"min\": 741.1918640136719, \"max\": 741.1918640136719}}}\u001b[0m\n",
      "\u001b[34m[11/25/2021 04:12:14 INFO 140564625372992] Test data is not provided.\u001b[0m\n",
      "\u001b[34m#metrics {\"StartTime\": 1637813534.0801232, \"EndTime\": 1637813534.0802155, \"Dimensions\": {\"Algorithm\": \"RandomCutForest\", \"Host\": \"algo-1\", \"Operation\": \"training\"}, \"Metrics\": {\"setuptime\": {\"sum\": 25.850534439086914, \"count\": 1, \"min\": 25.850534439086914, \"max\": 25.850534439086914}, \"totaltime\": {\"sum\": 2271.355390548706, \"count\": 1, \"min\": 2271.355390548706, \"max\": 2271.355390548706}}}\u001b[0m\n",
      "\n",
      "2021-11-25 04:12:37 Completed - Training job completed\n",
      "Training seconds: 80\n",
      "Billable seconds: 80\n"
     ]
    }
   ],
   "source": [
    "rcf.fit(rcf.record_set(X_train))"
   ]
  },
  {
   "cell_type": "markdown",
   "metadata": {},
   "source": [
    "### Host RCF Model\n"
   ]
  },
  {
   "cell_type": "markdown",
   "metadata": {},
   "source": [
    "Once we have a trained model we can deploy it and get some predictions for our test set. SageMaker will spin up an instance for us and deploy the model, the whole process should take around 10 minutes, you will see progress being made with each `-` and an exclamation point when the process is finished."
   ]
  },
  {
   "cell_type": "code",
   "execution_count": 18,
   "metadata": {},
   "outputs": [
    {
     "name": "stderr",
     "output_type": "stream",
     "text": [
      "Defaulting to the only supported framework/algorithm version: 1. Ignoring framework/algorithm version: 1.\n",
      "Using already existing model: fraud-detection-rcf\n"
     ]
    },
    {
     "name": "stdout",
     "output_type": "stream",
     "text": [
      "-----!"
     ]
    }
   ],
   "source": [
    "rcf_predictor = rcf.deploy(\n",
    "    model_name=\"{}-rcf\".format(\"fraud-detection\"),\n",
    "    endpoint_name=\"{}-rcf\".format(\"fraud-detection\"),\n",
    "    initial_instance_count=1,\n",
    "    instance_type=\"ml.c5.xlarge\")"
   ]
  },
  {
   "cell_type": "code",
   "execution_count": 19,
   "metadata": {},
   "outputs": [],
   "source": [
    "from sagemaker.predictor import CSVSerializer,JSONDeserializer\n",
    "\n",
    "rcf_predictor.serializer = CSVSerializer()\n",
    "rcf_predictor.deserializer = JSONDeserializer()"
   ]
  },
  {
   "cell_type": "markdown",
   "metadata": {},
   "source": [
    "### Test Random Cut Forest"
   ]
  },
  {
   "cell_type": "markdown",
   "metadata": {},
   "source": [
    "With the model deployed, let's see how it performs in terms of separating fraudulent from legitimate transactions."
   ]
  },
  {
   "cell_type": "code",
   "execution_count": 20,
   "metadata": {},
   "outputs": [],
   "source": [
    "def predict_rcf(current_predictor, data, rows=500):\n",
    "    split_array = np.array_split(data, int(data.shape[0] / float(rows) + 1))\n",
    "    predictions = []\n",
    "    for array in split_array:\n",
    "        array_preds = [s['score'] for s in current_predictor.predict(array)['scores']]\n",
    "        predictions.append(array_preds)\n",
    "\n",
    "    return np.concatenate([np.array(batch) for batch in predictions])"
   ]
  },
  {
   "cell_type": "code",
   "execution_count": 21,
   "metadata": {},
   "outputs": [],
   "source": [
    "import numpy as np\n",
    "\n",
    "positives = X_test[y_test == 1]\n",
    "positives_scores = predict_rcf(rcf_predictor, positives)\n",
    "\n",
    "negatives = X_test[y_test == 0]\n",
    "negatives_scores = predict_rcf(rcf_predictor, negatives)"
   ]
  },
  {
   "cell_type": "code",
   "execution_count": 22,
   "metadata": {},
   "outputs": [],
   "source": [
    "import seaborn as sns\n",
    "import matplotlib.pyplot as plt\n",
    "sns.set(color_codes=True)"
   ]
  },
  {
   "cell_type": "code",
   "execution_count": 23,
   "metadata": {},
   "outputs": [
    {
     "data": {
      "text/plain": [
       "<matplotlib.legend.Legend at 0x7f134e551a90>"
      ]
     },
     "execution_count": 23,
     "metadata": {},
     "output_type": "execute_result"
    },
    {
     "data": {
      "image/png": "[encoded data removed]",
      "text/plain": [
       "<Figure size 432x288 with 1 Axes>"
      ]
     },
     "metadata": {},
     "output_type": "display_data"
    }
   ],
   "source": [
    "sns.distplot(positives_scores, label='fraud', bins=20)\n",
    "sns.distplot(negatives_scores, label='not-fraud', bins=20)\n",
    "plt.legend()"
   ]
  },
  {
   "cell_type": "markdown",
   "metadata": {},
   "source": [
    "The unsupervised model already can achieve some separation between the classes, with higher anomaly scores being correlated to fraud."
   ]
  },
  {
   "cell_type": "code",
   "execution_count": null,
   "metadata": {},
   "outputs": [],
   "source": []
  }
 ],
 "metadata": {
  "instance_type": "ml.t3.medium",
  "kernelspec": {
   "display_name": "Python 3 (Data Science)",
   "language": "python",
   "name": "python3__SAGEMAKER_INTERNAL__arn:aws:sagemaker:us-east-1:081325390199:image/datascience-1.0"
  },
  "language_info": {
   "codemirror_mode": {
    "name": "ipython",
    "version": 3
   },
   "file_extension": ".py",
   "mimetype": "text/x-python",
   "name": "python",
   "nbconvert_exporter": "python",
   "pygments_lexer": "ipython3",
   "version": "3.7.10"
  }
 },
 "nbformat": 4,
 "nbformat_minor": 4
}
